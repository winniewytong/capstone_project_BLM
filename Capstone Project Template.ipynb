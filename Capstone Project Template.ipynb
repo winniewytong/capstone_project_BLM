{
 "cells": [
  {
   "cell_type": "markdown",
   "metadata": {
    "editable": true
   },
   "source": [
    "# BLACK LIVES MATTER DATA ANALYSIS\n",
    "### Data Engineering Capstone Project\n",
    "\n",
    "#### Project Summary\n",
    "The purpose of this project is to understand the situation of police-related violence in the United States by mapping up raw data sources from multiple channels.\n",
    "\n",
    "The dataset currently includes these types of data:\n",
    "\n",
    "1. Police shootings\n",
    "2. Police officer deaths suffered in the line of duty\n",
    "3. City population\n",
    "4. Locations for all BLM protests since May 25, 2020\n",
    "5. Crimes statistics in New York-Newark-Jersey City, NY-NJ-PA \n",
    "\n",
    "\n",
    "The project follows the follow steps:\n",
    "* Step 1: Scope the Project and Gather Data\n",
    "* Step 2: Explore and Assess the Data\n",
    "* Step 3: Define the Data Model\n",
    "* Step 4: Run ETL to Model the Data\n",
    "* Step 5: Complete Project Write Up"
   ]
  },
  {
   "cell_type": "code",
   "execution_count": 1,
   "metadata": {
    "editable": true
   },
   "outputs": [],
   "source": [
    "import configparser\n",
    "from datetime import datetime\n",
    "import os\n",
    "import pandas as pd\n",
    "from pyspark.sql import SparkSession\n",
    "from pyspark.sql import functions as F\n",
    "from pyspark.sql.functions import udf, col\n",
    "from pyspark.sql.functions import year, month,dayofweek, dayofmonth, hour, weekofyear, date_format\n",
    "from pyspark.sql.types import *\n",
    "import logging\n",
    "import s3fs"
   ]
  },
  {
   "cell_type": "code",
   "execution_count": 2,
   "metadata": {
    "editable": true
   },
   "outputs": [],
   "source": [
    "config = configparser.ConfigParser()\n",
    "config.read('dl.cfg')\n",
    "\n",
    "os.environ['AWS_ACCESS_KEY_ID']=config['AWS']['AWS_ACCESS_KEY_ID']\n",
    "os.environ['AWS_SECRET_ACCESS_KEY']=config['AWS']['AWS_SECRET_ACCESS_KEY']\n"
   ]
  },
  {
   "cell_type": "markdown",
   "metadata": {
    "editable": true
   },
   "source": [
    "### Step 1: Scope the Project and Gather Data\n",
    "\n",
    "#### Scope \n",
    "I am planning to find some raw data from different data sources in regards to victims of police violence, police deaths while on duty, population of cities and crimes statistics in major cities, such as New York. What I want to understand is the relationship between crime rates and police violence, and whether police violence happens more often in certain areas in major cities. I will assess the raw data and see if there are information I can extract to build some dimensional tables. I will focus on New York to start with, then will find more crime statistics in other major cities in the future. \n",
    "\n",
    "**Choice of tools:**\n",
    "- *S3 buckets*:\n",
    "    - Given that I am intending to gather a lot more bulky data in the future, I decided to use S3 buckets for storage as it is a more economical option. \n",
    "- *PySpark*: \n",
    "    - I will use Spark cluster to handle big data. Some datasets consist of 5 millions rows and pyspark is a great tool to handle big data. \n",
    "\n",
    "#### Describe and Gather Data \n",
    "I found this dataset on Kaggle (https://www.kaggle.com/jpmiller/police-violence-in-the-us). The author posted this dataset for data analysts and scientists to explore and find insights. Most datasets mainly come from governmental websites and I will explain each dataset below in details."
   ]
  },
  {
   "cell_type": "markdown",
   "metadata": {
    "editable": true
   },
   "source": [
    "### 1. Names of states in the US\n",
    "- The dataset below shows the name and abbreviation of states in the US.  "
   ]
  },
  {
   "cell_type": "code",
   "execution_count": 3,
   "metadata": {
    "editable": true
   },
   "outputs": [],
   "source": [
    "# Read in the data here\n",
    "us_state = \"s3://datalake-blm/raw/us_state.csv\""
   ]
  },
  {
   "cell_type": "code",
   "execution_count": 4,
   "metadata": {
    "editable": true
   },
   "outputs": [],
   "source": [
    "us_state_df = pd.read_csv(us_state)"
   ]
  },
  {
   "cell_type": "code",
   "execution_count": 5,
   "metadata": {
    "editable": true
   },
   "outputs": [
    {
     "name": "stdout",
     "output_type": "stream",
     "text": [
      "<class 'pandas.core.frame.DataFrame'>\n",
      "RangeIndex: 50 entries, 0 to 49\n",
      "Data columns (total 2 columns):\n",
      " #   Column        Non-Null Count  Dtype \n",
      "---  ------        --------------  ----- \n",
      " 0   state         50 non-null     object\n",
      " 1   state_abbrev  50 non-null     object\n",
      "dtypes: object(2)\n",
      "memory usage: 928.0+ bytes\n"
     ]
    }
   ],
   "source": [
    "us_state_df.info()"
   ]
  },
  {
   "cell_type": "code",
   "execution_count": 6,
   "metadata": {
    "editable": true
   },
   "outputs": [
    {
     "data": {
      "text/html": [
       "<div>\n",
       "<style scoped>\n",
       "    .dataframe tbody tr th:only-of-type {\n",
       "        vertical-align: middle;\n",
       "    }\n",
       "\n",
       "    .dataframe tbody tr th {\n",
       "        vertical-align: top;\n",
       "    }\n",
       "\n",
       "    .dataframe thead th {\n",
       "        text-align: right;\n",
       "    }\n",
       "</style>\n",
       "<table border=\"1\" class=\"dataframe\">\n",
       "  <thead>\n",
       "    <tr style=\"text-align: right;\">\n",
       "      <th></th>\n",
       "      <th>state</th>\n",
       "      <th>state_abbrev</th>\n",
       "    </tr>\n",
       "  </thead>\n",
       "  <tbody>\n",
       "    <tr>\n",
       "      <th>0</th>\n",
       "      <td>Alabama</td>\n",
       "      <td>AL</td>\n",
       "    </tr>\n",
       "    <tr>\n",
       "      <th>1</th>\n",
       "      <td>Alaska</td>\n",
       "      <td>AK</td>\n",
       "    </tr>\n",
       "    <tr>\n",
       "      <th>2</th>\n",
       "      <td>Arizona</td>\n",
       "      <td>AZ</td>\n",
       "    </tr>\n",
       "    <tr>\n",
       "      <th>3</th>\n",
       "      <td>Arkansas</td>\n",
       "      <td>AR</td>\n",
       "    </tr>\n",
       "    <tr>\n",
       "      <th>4</th>\n",
       "      <td>California</td>\n",
       "      <td>CA</td>\n",
       "    </tr>\n",
       "  </tbody>\n",
       "</table>\n",
       "</div>"
      ],
      "text/plain": [
       "         state state_abbrev\n",
       "0     Alabama            AL\n",
       "1      Alaska            AK\n",
       "2     Arizona            AZ\n",
       "3    Arkansas            AR\n",
       "4  California            CA"
      ]
     },
     "execution_count": 6,
     "metadata": {},
     "output_type": "execute_result"
    }
   ],
   "source": [
    "us_state_df.head(5)"
   ]
  },
  {
   "cell_type": "code",
   "execution_count": 7,
   "metadata": {
    "editable": true
   },
   "outputs": [
    {
     "data": {
      "text/plain": [
       "state           50\n",
       "state_abbrev    50\n",
       "dtype: int64"
      ]
     },
     "execution_count": 7,
     "metadata": {},
     "output_type": "execute_result"
    }
   ],
   "source": [
    "us_state_df.count()"
   ]
  },
  {
   "cell_type": "markdown",
   "metadata": {
    "editable": true
   },
   "source": [
    "### 2. Budgets in different states in the US \n",
    "- Fiscally standardized finances for 150 large US cities across 120 categories.\n",
    "- Source: Lincoln Institute of Land Policy, https://www.lincolninst.edu/research-data/data-toolkits/fiscally-standardized-cities"
   ]
  },
  {
   "cell_type": "code",
   "execution_count": 8,
   "metadata": {
    "editable": true
   },
   "outputs": [],
   "source": [
    "budgets = \"s3://datalake-blm/raw/budgets.csv\""
   ]
  },
  {
   "cell_type": "code",
   "execution_count": 9,
   "metadata": {
    "editable": true
   },
   "outputs": [],
   "source": [
    "budgets_df = pd.read_csv(budgets)"
   ]
  },
  {
   "cell_type": "code",
   "execution_count": 10,
   "metadata": {
    "editable": true
   },
   "outputs": [
    {
     "data": {
      "text/html": [
       "<div>\n",
       "<style scoped>\n",
       "    .dataframe tbody tr th:only-of-type {\n",
       "        vertical-align: middle;\n",
       "    }\n",
       "\n",
       "    .dataframe tbody tr th {\n",
       "        vertical-align: top;\n",
       "    }\n",
       "\n",
       "    .dataframe thead th {\n",
       "        text-align: right;\n",
       "    }\n",
       "</style>\n",
       "<table border=\"1\" class=\"dataframe\">\n",
       "  <thead>\n",
       "    <tr style=\"text-align: right;\">\n",
       "      <th></th>\n",
       "      <th>year</th>\n",
       "      <th>city_name</th>\n",
       "      <th>id_city</th>\n",
       "      <th>city_population</th>\n",
       "      <th>cpi</th>\n",
       "      <th>rev_total_city</th>\n",
       "      <th>rev_general_city</th>\n",
       "      <th>intergovt_rev_city</th>\n",
       "      <th>igr_federal_city</th>\n",
       "      <th>igr_state_city</th>\n",
       "      <th>...</th>\n",
       "      <th>cash_other_offsets</th>\n",
       "      <th>cash_other_bonds</th>\n",
       "      <th>cash_other_other</th>\n",
       "      <th>county_name</th>\n",
       "      <th>id_county</th>\n",
       "      <th>county_population</th>\n",
       "      <th>relationship_city_school</th>\n",
       "      <th>enrollment</th>\n",
       "      <th>districts_in_city</th>\n",
       "      <th>consolidated_govt</th>\n",
       "    </tr>\n",
       "  </thead>\n",
       "  <tbody>\n",
       "    <tr>\n",
       "      <th>0</th>\n",
       "      <td>1977</td>\n",
       "      <td>AK: Anchorage</td>\n",
       "      <td>22002001.0</td>\n",
       "      <td>174500</td>\n",
       "      <td>4.044885</td>\n",
       "      <td>5342.24</td>\n",
       "      <td>4956.92</td>\n",
       "      <td>2148.77</td>\n",
       "      <td>279.32</td>\n",
       "      <td>1869.46</td>\n",
       "      <td>...</td>\n",
       "      <td>178.51</td>\n",
       "      <td>787.93</td>\n",
       "      <td>691.32</td>\n",
       "      <td>NaN</td>\n",
       "      <td>NaN</td>\n",
       "      <td>NaN</td>\n",
       "      <td>4.0</td>\n",
       "      <td>36855.0</td>\n",
       "      <td>NaN</td>\n",
       "      <td>1.0</td>\n",
       "    </tr>\n",
       "    <tr>\n",
       "      <th>1</th>\n",
       "      <td>1978</td>\n",
       "      <td>AK: Anchorage</td>\n",
       "      <td>22002001.0</td>\n",
       "      <td>177000</td>\n",
       "      <td>3.759509</td>\n",
       "      <td>5948.99</td>\n",
       "      <td>5490.05</td>\n",
       "      <td>2468.11</td>\n",
       "      <td>403.24</td>\n",
       "      <td>2064.86</td>\n",
       "      <td>...</td>\n",
       "      <td>187.53</td>\n",
       "      <td>1395.82</td>\n",
       "      <td>1158.01</td>\n",
       "      <td>NaN</td>\n",
       "      <td>NaN</td>\n",
       "      <td>NaN</td>\n",
       "      <td>4.0</td>\n",
       "      <td>36804.0</td>\n",
       "      <td>NaN</td>\n",
       "      <td>1.0</td>\n",
       "    </tr>\n",
       "    <tr>\n",
       "      <th>2</th>\n",
       "      <td>1979</td>\n",
       "      <td>AK: Anchorage</td>\n",
       "      <td>22002001.0</td>\n",
       "      <td>179600</td>\n",
       "      <td>3.376308</td>\n",
       "      <td>6158.68</td>\n",
       "      <td>5746.64</td>\n",
       "      <td>2573.34</td>\n",
       "      <td>496.97</td>\n",
       "      <td>2076.37</td>\n",
       "      <td>...</td>\n",
       "      <td>249.03</td>\n",
       "      <td>1812.04</td>\n",
       "      <td>1314.62</td>\n",
       "      <td>NaN</td>\n",
       "      <td>NaN</td>\n",
       "      <td>NaN</td>\n",
       "      <td>4.0</td>\n",
       "      <td>36757.0</td>\n",
       "      <td>NaN</td>\n",
       "      <td>1.0</td>\n",
       "    </tr>\n",
       "    <tr>\n",
       "      <th>3</th>\n",
       "      <td>1980</td>\n",
       "      <td>AK: Anchorage</td>\n",
       "      <td>22002001.0</td>\n",
       "      <td>178800</td>\n",
       "      <td>2.974757</td>\n",
       "      <td>5654.93</td>\n",
       "      <td>5210.77</td>\n",
       "      <td>2313.62</td>\n",
       "      <td>371.46</td>\n",
       "      <td>1942.16</td>\n",
       "      <td>...</td>\n",
       "      <td>986.73</td>\n",
       "      <td>1330.72</td>\n",
       "      <td>1572.66</td>\n",
       "      <td>NaN</td>\n",
       "      <td>NaN</td>\n",
       "      <td>NaN</td>\n",
       "      <td>4.0</td>\n",
       "      <td>36008.0</td>\n",
       "      <td>NaN</td>\n",
       "      <td>1.0</td>\n",
       "    </tr>\n",
       "    <tr>\n",
       "      <th>4</th>\n",
       "      <td>1981</td>\n",
       "      <td>AK: Anchorage</td>\n",
       "      <td>22002001.0</td>\n",
       "      <td>174431</td>\n",
       "      <td>2.696590</td>\n",
       "      <td>6192.83</td>\n",
       "      <td>5736.81</td>\n",
       "      <td>2771.43</td>\n",
       "      <td>338.76</td>\n",
       "      <td>2432.67</td>\n",
       "      <td>...</td>\n",
       "      <td>977.32</td>\n",
       "      <td>1549.51</td>\n",
       "      <td>1669.55</td>\n",
       "      <td>NaN</td>\n",
       "      <td>NaN</td>\n",
       "      <td>NaN</td>\n",
       "      <td>4.0</td>\n",
       "      <td>34557.0</td>\n",
       "      <td>NaN</td>\n",
       "      <td>1.0</td>\n",
       "    </tr>\n",
       "  </tbody>\n",
       "</table>\n",
       "<p>5 rows × 662 columns</p>\n",
       "</div>"
      ],
      "text/plain": [
       "   year      city_name     id_city  city_population       cpi  rev_total_city  \\\n",
       "0  1977  AK: Anchorage  22002001.0           174500  4.044885         5342.24   \n",
       "1  1978  AK: Anchorage  22002001.0           177000  3.759509         5948.99   \n",
       "2  1979  AK: Anchorage  22002001.0           179600  3.376308         6158.68   \n",
       "3  1980  AK: Anchorage  22002001.0           178800  2.974757         5654.93   \n",
       "4  1981  AK: Anchorage  22002001.0           174431  2.696590         6192.83   \n",
       "\n",
       "   rev_general_city  intergovt_rev_city  igr_federal_city  igr_state_city  \\\n",
       "0           4956.92             2148.77            279.32         1869.46   \n",
       "1           5490.05             2468.11            403.24         2064.86   \n",
       "2           5746.64             2573.34            496.97         2076.37   \n",
       "3           5210.77             2313.62            371.46         1942.16   \n",
       "4           5736.81             2771.43            338.76         2432.67   \n",
       "\n",
       "   ...  cash_other_offsets  cash_other_bonds  cash_other_other  county_name  \\\n",
       "0  ...              178.51            787.93            691.32          NaN   \n",
       "1  ...              187.53           1395.82           1158.01          NaN   \n",
       "2  ...              249.03           1812.04           1314.62          NaN   \n",
       "3  ...              986.73           1330.72           1572.66          NaN   \n",
       "4  ...              977.32           1549.51           1669.55          NaN   \n",
       "\n",
       "   id_county  county_population  relationship_city_school  enrollment  \\\n",
       "0        NaN                NaN                       4.0     36855.0   \n",
       "1        NaN                NaN                       4.0     36804.0   \n",
       "2        NaN                NaN                       4.0     36757.0   \n",
       "3        NaN                NaN                       4.0     36008.0   \n",
       "4        NaN                NaN                       4.0     34557.0   \n",
       "\n",
       "   districts_in_city  consolidated_govt  \n",
       "0                NaN                1.0  \n",
       "1                NaN                1.0  \n",
       "2                NaN                1.0  \n",
       "3                NaN                1.0  \n",
       "4                NaN                1.0  \n",
       "\n",
       "[5 rows x 662 columns]"
      ]
     },
     "execution_count": 10,
     "metadata": {},
     "output_type": "execute_result"
    }
   ],
   "source": [
    "budgets_df.head(5)"
   ]
  },
  {
   "cell_type": "code",
   "execution_count": 11,
   "metadata": {
    "editable": true
   },
   "outputs": [
    {
     "name": "stdout",
     "output_type": "stream",
     "text": [
      "<class 'pandas.core.frame.DataFrame'>\n",
      "RangeIndex: 6232 entries, 0 to 6231\n",
      "Columns: 662 entries, year to consolidated_govt\n",
      "dtypes: float64(658), int64(2), object(2)\n",
      "memory usage: 31.5+ MB\n"
     ]
    }
   ],
   "source": [
    "budgets_df.info()"
   ]
  },
  {
   "cell_type": "markdown",
   "metadata": {
    "editable": true
   },
   "source": [
    "- This dataset has has more than 600 columns and it is not easy to inspect all the columns. \n",
    "- I might just extract the population of each city so I can map this information up with other data sets"
   ]
  },
  {
   "cell_type": "code",
   "execution_count": 12,
   "metadata": {
    "editable": true
   },
   "outputs": [
    {
     "data": {
      "text/plain": [
       "year                        6232\n",
       "city_name                   6232\n",
       "id_city                     6191\n",
       "city_population             6232\n",
       "cpi                         6150\n",
       "                            ... \n",
       "county_population           5418\n",
       "relationship_city_school    6150\n",
       "enrollment                  6196\n",
       "districts_in_city           4741\n",
       "consolidated_govt           6150\n",
       "Length: 662, dtype: int64"
      ]
     },
     "execution_count": 12,
     "metadata": {},
     "output_type": "execute_result"
    }
   ],
   "source": [
    "budgets_df.count()"
   ]
  },
  {
   "cell_type": "markdown",
   "metadata": {
    "editable": true
   },
   "source": [
    "### 3. Police Killings \n",
    "- The dataset below shows descriptive statistics  of civilians killed by police in the US\n",
    "- Source: Mapping Police Violence, https://mappingpoliceviolence.org/aboutthedata"
   ]
  },
  {
   "cell_type": "code",
   "execution_count": 13,
   "metadata": {
    "editable": true
   },
   "outputs": [],
   "source": [
    "police_killings = 's3://datalake-blm/raw/police_killings.csv'"
   ]
  },
  {
   "cell_type": "code",
   "execution_count": 14,
   "metadata": {
    "editable": true
   },
   "outputs": [],
   "source": [
    "police_killings_df = pd.read_csv(police_killings)"
   ]
  },
  {
   "cell_type": "code",
   "execution_count": 15,
   "metadata": {
    "editable": true
   },
   "outputs": [
    {
     "data": {
      "text/html": [
       "<div>\n",
       "<style scoped>\n",
       "    .dataframe tbody tr th:only-of-type {\n",
       "        vertical-align: middle;\n",
       "    }\n",
       "\n",
       "    .dataframe tbody tr th {\n",
       "        vertical-align: top;\n",
       "    }\n",
       "\n",
       "    .dataframe thead th {\n",
       "        text-align: right;\n",
       "    }\n",
       "</style>\n",
       "<table border=\"1\" class=\"dataframe\">\n",
       "  <thead>\n",
       "    <tr style=\"text-align: right;\">\n",
       "      <th></th>\n",
       "      <th>Victim's name</th>\n",
       "      <th>Victim's age</th>\n",
       "      <th>Victim's gender</th>\n",
       "      <th>Victim's race</th>\n",
       "      <th>URL of image of victim</th>\n",
       "      <th>Date of Incident (month/day/year)</th>\n",
       "      <th>Street Address of Incident</th>\n",
       "      <th>City</th>\n",
       "      <th>State</th>\n",
       "      <th>Zipcode</th>\n",
       "      <th>...</th>\n",
       "      <th>Unnamed: 56</th>\n",
       "      <th>Unnamed: 57</th>\n",
       "      <th>Unnamed: 58</th>\n",
       "      <th>Unnamed: 59</th>\n",
       "      <th>Unnamed: 60</th>\n",
       "      <th>Unnamed: 61</th>\n",
       "      <th>Unnamed: 62</th>\n",
       "      <th>Unnamed: 63</th>\n",
       "      <th>Unnamed: 64</th>\n",
       "      <th>Unnamed: 65</th>\n",
       "    </tr>\n",
       "  </thead>\n",
       "  <tbody>\n",
       "    <tr>\n",
       "      <th>0</th>\n",
       "      <td>Eric M. Tellez</td>\n",
       "      <td>28</td>\n",
       "      <td>Male</td>\n",
       "      <td>White</td>\n",
       "      <td>https://fatalencounters.org/wp-content/uploads...</td>\n",
       "      <td>31/12/2019</td>\n",
       "      <td>Broad St.</td>\n",
       "      <td>Globe</td>\n",
       "      <td>AZ</td>\n",
       "      <td>85501.0</td>\n",
       "      <td>...</td>\n",
       "      <td>NaN</td>\n",
       "      <td>NaN</td>\n",
       "      <td>NaN</td>\n",
       "      <td>NaN</td>\n",
       "      <td>NaN</td>\n",
       "      <td>NaN</td>\n",
       "      <td>NaN</td>\n",
       "      <td>NaN</td>\n",
       "      <td>NaN</td>\n",
       "      <td>NaN</td>\n",
       "    </tr>\n",
       "    <tr>\n",
       "      <th>1</th>\n",
       "      <td>Name withheld by police</td>\n",
       "      <td>NaN</td>\n",
       "      <td>Male</td>\n",
       "      <td>Unknown race</td>\n",
       "      <td>NaN</td>\n",
       "      <td>31/12/2019</td>\n",
       "      <td>7239-7411 I-40</td>\n",
       "      <td>Memphis</td>\n",
       "      <td>AR</td>\n",
       "      <td>38103.0</td>\n",
       "      <td>...</td>\n",
       "      <td>NaN</td>\n",
       "      <td>NaN</td>\n",
       "      <td>NaN</td>\n",
       "      <td>NaN</td>\n",
       "      <td>NaN</td>\n",
       "      <td>NaN</td>\n",
       "      <td>NaN</td>\n",
       "      <td>NaN</td>\n",
       "      <td>NaN</td>\n",
       "      <td>NaN</td>\n",
       "    </tr>\n",
       "    <tr>\n",
       "      <th>2</th>\n",
       "      <td>Terry Hudson</td>\n",
       "      <td>57</td>\n",
       "      <td>Male</td>\n",
       "      <td>Black</td>\n",
       "      <td>NaN</td>\n",
       "      <td>31/12/2019</td>\n",
       "      <td>3600 N 24th St</td>\n",
       "      <td>Omaha</td>\n",
       "      <td>NE</td>\n",
       "      <td>68110.0</td>\n",
       "      <td>...</td>\n",
       "      <td>NaN</td>\n",
       "      <td>NaN</td>\n",
       "      <td>NaN</td>\n",
       "      <td>NaN</td>\n",
       "      <td>NaN</td>\n",
       "      <td>NaN</td>\n",
       "      <td>NaN</td>\n",
       "      <td>NaN</td>\n",
       "      <td>NaN</td>\n",
       "      <td>NaN</td>\n",
       "    </tr>\n",
       "    <tr>\n",
       "      <th>3</th>\n",
       "      <td>Malik Williams</td>\n",
       "      <td>23</td>\n",
       "      <td>Male</td>\n",
       "      <td>Black</td>\n",
       "      <td>NaN</td>\n",
       "      <td>31/12/2019</td>\n",
       "      <td>30800 14th Avenue South</td>\n",
       "      <td>Federal Way</td>\n",
       "      <td>WA</td>\n",
       "      <td>98003.0</td>\n",
       "      <td>...</td>\n",
       "      <td>NaN</td>\n",
       "      <td>NaN</td>\n",
       "      <td>NaN</td>\n",
       "      <td>NaN</td>\n",
       "      <td>NaN</td>\n",
       "      <td>NaN</td>\n",
       "      <td>NaN</td>\n",
       "      <td>NaN</td>\n",
       "      <td>NaN</td>\n",
       "      <td>NaN</td>\n",
       "    </tr>\n",
       "    <tr>\n",
       "      <th>4</th>\n",
       "      <td>Frederick Perkins</td>\n",
       "      <td>37</td>\n",
       "      <td>Male</td>\n",
       "      <td>Black</td>\n",
       "      <td>NaN</td>\n",
       "      <td>31/12/2019</td>\n",
       "      <td>17057 N Outer 40 Rd</td>\n",
       "      <td>Chesterfield</td>\n",
       "      <td>MO</td>\n",
       "      <td>63005.0</td>\n",
       "      <td>...</td>\n",
       "      <td>NaN</td>\n",
       "      <td>NaN</td>\n",
       "      <td>NaN</td>\n",
       "      <td>NaN</td>\n",
       "      <td>NaN</td>\n",
       "      <td>NaN</td>\n",
       "      <td>NaN</td>\n",
       "      <td>NaN</td>\n",
       "      <td>NaN</td>\n",
       "      <td>NaN</td>\n",
       "    </tr>\n",
       "  </tbody>\n",
       "</table>\n",
       "<p>5 rows × 66 columns</p>\n",
       "</div>"
      ],
      "text/plain": [
       "             Victim's name Victim's age Victim's gender Victim's race  \\\n",
       "0           Eric M. Tellez           28            Male         White   \n",
       "1  Name withheld by police          NaN            Male  Unknown race   \n",
       "2             Terry Hudson           57            Male         Black   \n",
       "3           Malik Williams           23            Male         Black   \n",
       "4        Frederick Perkins           37            Male         Black   \n",
       "\n",
       "                              URL of image of victim  \\\n",
       "0  https://fatalencounters.org/wp-content/uploads...   \n",
       "1                                                NaN   \n",
       "2                                                NaN   \n",
       "3                                                NaN   \n",
       "4                                                NaN   \n",
       "\n",
       "  Date of Incident (month/day/year) Street Address of Incident          City  \\\n",
       "0                        31/12/2019                 Broad St.          Globe   \n",
       "1                        31/12/2019             7239-7411 I-40       Memphis   \n",
       "2                        31/12/2019             3600 N 24th St         Omaha   \n",
       "3                        31/12/2019    30800 14th Avenue South   Federal Way   \n",
       "4                        31/12/2019        17057 N Outer 40 Rd  Chesterfield   \n",
       "\n",
       "  State  Zipcode  ... Unnamed: 56 Unnamed: 57 Unnamed: 58 Unnamed: 59  \\\n",
       "0    AZ  85501.0  ...         NaN         NaN         NaN         NaN   \n",
       "1    AR  38103.0  ...         NaN         NaN         NaN         NaN   \n",
       "2    NE  68110.0  ...         NaN         NaN         NaN         NaN   \n",
       "3    WA  98003.0  ...         NaN         NaN         NaN         NaN   \n",
       "4    MO  63005.0  ...         NaN         NaN         NaN         NaN   \n",
       "\n",
       "  Unnamed: 60 Unnamed: 61 Unnamed: 62 Unnamed: 63 Unnamed: 64 Unnamed: 65  \n",
       "0         NaN         NaN         NaN         NaN         NaN         NaN  \n",
       "1         NaN         NaN         NaN         NaN         NaN         NaN  \n",
       "2         NaN         NaN         NaN         NaN         NaN         NaN  \n",
       "3         NaN         NaN         NaN         NaN         NaN         NaN  \n",
       "4         NaN         NaN         NaN         NaN         NaN         NaN  \n",
       "\n",
       "[5 rows x 66 columns]"
      ]
     },
     "execution_count": 15,
     "metadata": {},
     "output_type": "execute_result"
    }
   ],
   "source": [
    "police_killings_df.head(5)"
   ]
  },
  {
   "cell_type": "code",
   "execution_count": 16,
   "metadata": {
    "editable": true
   },
   "outputs": [
    {
     "data": {
      "text/plain": [
       "Victim's name             7411\n",
       "Victim's age                87\n",
       "Victim's gender              4\n",
       "Victim's race                8\n",
       "URL of image of victim    4191\n",
       "                          ... \n",
       "Unnamed: 61                  0\n",
       "Unnamed: 62                  0\n",
       "Unnamed: 63                  0\n",
       "Unnamed: 64                  0\n",
       "Unnamed: 65                  0\n",
       "Length: 66, dtype: int64"
      ]
     },
     "execution_count": 16,
     "metadata": {},
     "output_type": "execute_result"
    }
   ],
   "source": [
    "police_killings_df.nunique()"
   ]
  },
  {
   "cell_type": "code",
   "execution_count": 17,
   "metadata": {
    "editable": true
   },
   "outputs": [
    {
     "name": "stdout",
     "output_type": "stream",
     "text": [
      "<class 'pandas.core.frame.DataFrame'>\n",
      "RangeIndex: 7907 entries, 0 to 7906\n",
      "Data columns (total 66 columns):\n",
      " #   Column                                                                                                                                                                      Non-Null Count  Dtype  \n",
      "---  ------                                                                                                                                                                      --------------  -----  \n",
      " 0   Victim's name                                                                                                                                                               7663 non-null   object \n",
      " 1   Victim's age                                                                                                                                                                7596 non-null   object \n",
      " 2   Victim's gender                                                                                                                                                             7655 non-null   object \n",
      " 3   Victim's race                                                                                                                                                               7663 non-null   object \n",
      " 4   URL of image of victim                                                                                                                                                      4200 non-null   object \n",
      " 5   Date of Incident (month/day/year)                                                                                                                                           7663 non-null   object \n",
      " 6   Street Address of Incident                                                                                                                                                  7580 non-null   object \n",
      " 7   City                                                                                                                                                                        7657 non-null   object \n",
      " 8   State                                                                                                                                                                       7663 non-null   object \n",
      " 9   Zipcode                                                                                                                                                                     7624 non-null   float64\n",
      " 10  County                                                                                                                                                                      7648 non-null   object \n",
      " 11  Agency responsible for death                                                                                                                                                7647 non-null   object \n",
      " 12  Cause of death                                                                                                                                                              7663 non-null   object \n",
      " 13  A brief description of the circumstances surrounding the death                                                                                                              7643 non-null   object \n",
      " 14  Official disposition of death (justified or other)                                                                                                                          7407 non-null   object \n",
      " 15  Criminal Charges?                                                                                                                                                           7663 non-null   object \n",
      " 16  Link to news article or photo of official document                                                                                                                          7651 non-null   object \n",
      " 17  Symptoms of mental illness?                                                                                                                                                 7652 non-null   object \n",
      " 18  Unarmed                                                                                                                                                                     7663 non-null   object \n",
      " 19  Alleged Weapon (Source: WaPo)                                                                                                                                               7663 non-null   object \n",
      " 20  Alleged Threat Level (Source: WaPo)                                                                                                                                         5281 non-null   object \n",
      " 21  Fleeing (Source: WaPo)                                                                                                                                                      5047 non-null   object \n",
      " 22  Body Camera (Source: WaPo)                                                                                                                                                  4794 non-null   object \n",
      " 23  WaPo ID (If included in WaPo database)                                                                                                                                      4878 non-null   float64\n",
      " 24  Off-Duty Killing?                                                                                                                                                           226 non-null    object \n",
      " 25  Geography (via Trulia methodology based on zipcode population density: http://jedkolko.com/wp-content/uploads/2015/05/full-ZCTA-urban-suburban-rural-classification.xlsx )  7596 non-null   object \n",
      " 26  ID                                                                                                                                                                          7663 non-null   float64\n",
      " 27  Unnamed: 27                                                                                                                                                                 0 non-null      float64\n",
      " 28  Unnamed: 28                                                                                                                                                                 0 non-null      float64\n",
      " 29  Unnamed: 29                                                                                                                                                                 0 non-null      float64\n",
      " 30  Unnamed: 30                                                                                                                                                                 0 non-null      float64\n",
      " 31  Unnamed: 31                                                                                                                                                                 0 non-null      float64\n",
      " 32  Unnamed: 32                                                                                                                                                                 0 non-null      float64\n",
      " 33  Unnamed: 33                                                                                                                                                                 0 non-null      float64\n",
      " 34  Unnamed: 34                                                                                                                                                                 0 non-null      float64\n",
      " 35  Unnamed: 35                                                                                                                                                                 0 non-null      float64\n",
      " 36  Unnamed: 36                                                                                                                                                                 0 non-null      float64\n",
      " 37  Unnamed: 37                                                                                                                                                                 0 non-null      float64\n",
      " 38  Unnamed: 38                                                                                                                                                                 0 non-null      float64\n",
      " 39  Unnamed: 39                                                                                                                                                                 0 non-null      float64\n",
      " 40  Unnamed: 40                                                                                                                                                                 0 non-null      float64\n",
      " 41  Unnamed: 41                                                                                                                                                                 0 non-null      float64\n",
      " 42  Unnamed: 42                                                                                                                                                                 0 non-null      float64\n",
      " 43  Unnamed: 43                                                                                                                                                                 0 non-null      float64\n",
      " 44  Unnamed: 44                                                                                                                                                                 0 non-null      float64\n",
      " 45  Unnamed: 45                                                                                                                                                                 0 non-null      float64\n",
      " 46  Unnamed: 46                                                                                                                                                                 0 non-null      float64\n",
      " 47  Unnamed: 47                                                                                                                                                                 0 non-null      float64\n",
      " 48  Unnamed: 48                                                                                                                                                                 0 non-null      float64\n",
      " 49  Unnamed: 49                                                                                                                                                                 0 non-null      float64\n",
      " 50  Unnamed: 50                                                                                                                                                                 0 non-null      float64\n",
      " 51  Unnamed: 51                                                                                                                                                                 0 non-null      float64\n",
      " 52  Unnamed: 52                                                                                                                                                                 0 non-null      float64\n",
      " 53  Unnamed: 53                                                                                                                                                                 0 non-null      float64\n",
      " 54  Unnamed: 54                                                                                                                                                                 0 non-null      float64\n",
      " 55  Unnamed: 55                                                                                                                                                                 0 non-null      float64\n",
      " 56  Unnamed: 56                                                                                                                                                                 0 non-null      float64\n",
      " 57  Unnamed: 57                                                                                                                                                                 0 non-null      float64\n",
      " 58  Unnamed: 58                                                                                                                                                                 0 non-null      float64\n",
      " 59  Unnamed: 59                                                                                                                                                                 0 non-null      float64\n",
      " 60  Unnamed: 60                                                                                                                                                                 0 non-null      float64\n",
      " 61  Unnamed: 61                                                                                                                                                                 0 non-null      float64\n",
      " 62  Unnamed: 62                                                                                                                                                                 0 non-null      float64\n",
      " 63  Unnamed: 63                                                                                                                                                                 0 non-null      float64\n",
      " 64  Unnamed: 64                                                                                                                                                                 0 non-null      float64\n",
      " 65  Unnamed: 65                                                                                                                                                                 0 non-null      float64\n",
      "dtypes: float64(42), object(24)\n",
      "memory usage: 4.0+ MB\n"
     ]
    }
   ],
   "source": [
    "police_killings_df.info()"
   ]
  },
  {
   "cell_type": "markdown",
   "metadata": {
    "editable": true
   },
   "source": [
    "- This dataset has so many unnamed columns that have no values. I will need to delete them.\n",
    "- Some columns have null values. Need to explore that a bit more\n",
    "- I want to extract the race of the victims and create a dataset with just racial information"
   ]
  },
  {
   "cell_type": "markdown",
   "metadata": {
    "editable": true
   },
   "source": [
    "### 4. Police Deaths\n",
    "- The dataset below shows information of police who were killed when on duty \n",
    "- Source: FiveThirtyEight, https://github.com/fivethirtyeight/data/tree/master/police-deaths"
   ]
  },
  {
   "cell_type": "code",
   "execution_count": 18,
   "metadata": {
    "editable": true
   },
   "outputs": [],
   "source": [
    "police_deaths = 's3://datalake-blm/raw/police_deaths_538.csv'"
   ]
  },
  {
   "cell_type": "code",
   "execution_count": 19,
   "metadata": {
    "editable": true
   },
   "outputs": [],
   "source": [
    "police_deaths_df = pd.read_csv(police_deaths)"
   ]
  },
  {
   "cell_type": "code",
   "execution_count": 20,
   "metadata": {
    "editable": true
   },
   "outputs": [
    {
     "name": "stdout",
     "output_type": "stream",
     "text": [
      "<class 'pandas.core.frame.DataFrame'>\n",
      "RangeIndex: 22800 entries, 0 to 22799\n",
      "Data columns (total 10 columns):\n",
      " #   Column       Non-Null Count  Dtype \n",
      "---  ------       --------------  ----- \n",
      " 0   person       22800 non-null  object\n",
      " 1   dept         22800 non-null  object\n",
      " 2   eow          22800 non-null  object\n",
      " 3   cause        22800 non-null  object\n",
      " 4   cause_short  22800 non-null  object\n",
      " 5   date         22800 non-null  object\n",
      " 6   year         22800 non-null  int64 \n",
      " 7   canine       22800 non-null  bool  \n",
      " 8   dept_name    22800 non-null  object\n",
      " 9   state        22800 non-null  object\n",
      "dtypes: bool(1), int64(1), object(8)\n",
      "memory usage: 1.6+ MB\n"
     ]
    }
   ],
   "source": [
    "police_deaths_df.info()"
   ]
  },
  {
   "cell_type": "markdown",
   "metadata": {
    "editable": true
   },
   "source": [
    "- This datasets looks more clean. It doesn't need a lot of further curation"
   ]
  },
  {
   "cell_type": "code",
   "execution_count": 21,
   "metadata": {
    "editable": true
   },
   "outputs": [
    {
     "data": {
      "text/html": [
       "<div>\n",
       "<style scoped>\n",
       "    .dataframe tbody tr th:only-of-type {\n",
       "        vertical-align: middle;\n",
       "    }\n",
       "\n",
       "    .dataframe tbody tr th {\n",
       "        vertical-align: top;\n",
       "    }\n",
       "\n",
       "    .dataframe thead th {\n",
       "        text-align: right;\n",
       "    }\n",
       "</style>\n",
       "<table border=\"1\" class=\"dataframe\">\n",
       "  <thead>\n",
       "    <tr style=\"text-align: right;\">\n",
       "      <th></th>\n",
       "      <th>person</th>\n",
       "      <th>dept</th>\n",
       "      <th>eow</th>\n",
       "      <th>cause</th>\n",
       "      <th>cause_short</th>\n",
       "      <th>date</th>\n",
       "      <th>year</th>\n",
       "      <th>canine</th>\n",
       "      <th>dept_name</th>\n",
       "      <th>state</th>\n",
       "    </tr>\n",
       "  </thead>\n",
       "  <tbody>\n",
       "    <tr>\n",
       "      <th>0</th>\n",
       "      <td>Constable Darius Quimby</td>\n",
       "      <td>Albany County Constable's Office, NY</td>\n",
       "      <td>EOW: Monday, January 3, 1791</td>\n",
       "      <td>Cause of Death: Gunfire</td>\n",
       "      <td>Gunfire</td>\n",
       "      <td>1791-01-03</td>\n",
       "      <td>1791</td>\n",
       "      <td>False</td>\n",
       "      <td>Albany County Constable's Office</td>\n",
       "      <td>NY</td>\n",
       "    </tr>\n",
       "    <tr>\n",
       "      <th>1</th>\n",
       "      <td>Sheriff Cornelius Hogeboom</td>\n",
       "      <td>Columbia County Sheriff's Office, NY</td>\n",
       "      <td>EOW: Saturday, October 22, 1791</td>\n",
       "      <td>Cause of Death: Gunfire</td>\n",
       "      <td>Gunfire</td>\n",
       "      <td>1791-10-22</td>\n",
       "      <td>1791</td>\n",
       "      <td>False</td>\n",
       "      <td>Columbia County Sheriff's Office</td>\n",
       "      <td>NY</td>\n",
       "    </tr>\n",
       "    <tr>\n",
       "      <th>2</th>\n",
       "      <td>Deputy Sheriff Isaac Smith</td>\n",
       "      <td>Westchester County Sheriff's Department, NY</td>\n",
       "      <td>EOW: Thursday, May 17, 1792</td>\n",
       "      <td>Cause of Death: Gunfire</td>\n",
       "      <td>Gunfire</td>\n",
       "      <td>1792-05-17</td>\n",
       "      <td>1792</td>\n",
       "      <td>False</td>\n",
       "      <td>Westchester County Sheriff's Department</td>\n",
       "      <td>NY</td>\n",
       "    </tr>\n",
       "    <tr>\n",
       "      <th>3</th>\n",
       "      <td>Marshal Robert Forsyth</td>\n",
       "      <td>United States Department of Justice - United S...</td>\n",
       "      <td>EOW: Saturday, January 11, 1794</td>\n",
       "      <td>Cause of Death: Gunfire</td>\n",
       "      <td>Gunfire</td>\n",
       "      <td>1794-01-11</td>\n",
       "      <td>1794</td>\n",
       "      <td>False</td>\n",
       "      <td>United States Department of Justice - United S...</td>\n",
       "      <td>US</td>\n",
       "    </tr>\n",
       "    <tr>\n",
       "      <th>4</th>\n",
       "      <td>Sheriff Robert Maxwell</td>\n",
       "      <td>Greenville County Sheriff's Office, SC</td>\n",
       "      <td>EOW: Sunday, November 12, 1797</td>\n",
       "      <td>Cause of Death: Gunfire</td>\n",
       "      <td>Gunfire</td>\n",
       "      <td>1797-11-12</td>\n",
       "      <td>1797</td>\n",
       "      <td>False</td>\n",
       "      <td>Greenville County Sheriff's Office</td>\n",
       "      <td>SC</td>\n",
       "    </tr>\n",
       "  </tbody>\n",
       "</table>\n",
       "</div>"
      ],
      "text/plain": [
       "                       person  \\\n",
       "0     Constable Darius Quimby   \n",
       "1  Sheriff Cornelius Hogeboom   \n",
       "2  Deputy Sheriff Isaac Smith   \n",
       "3      Marshal Robert Forsyth   \n",
       "4      Sheriff Robert Maxwell   \n",
       "\n",
       "                                                dept  \\\n",
       "0               Albany County Constable's Office, NY   \n",
       "1               Columbia County Sheriff's Office, NY   \n",
       "2        Westchester County Sheriff's Department, NY   \n",
       "3  United States Department of Justice - United S...   \n",
       "4             Greenville County Sheriff's Office, SC   \n",
       "\n",
       "                               eow                    cause cause_short  \\\n",
       "0     EOW: Monday, January 3, 1791  Cause of Death: Gunfire     Gunfire   \n",
       "1  EOW: Saturday, October 22, 1791  Cause of Death: Gunfire     Gunfire   \n",
       "2      EOW: Thursday, May 17, 1792  Cause of Death: Gunfire     Gunfire   \n",
       "3  EOW: Saturday, January 11, 1794  Cause of Death: Gunfire     Gunfire   \n",
       "4   EOW: Sunday, November 12, 1797  Cause of Death: Gunfire     Gunfire   \n",
       "\n",
       "         date  year  canine  \\\n",
       "0  1791-01-03  1791   False   \n",
       "1  1791-10-22  1791   False   \n",
       "2  1792-05-17  1792   False   \n",
       "3  1794-01-11  1794   False   \n",
       "4  1797-11-12  1797   False   \n",
       "\n",
       "                                           dept_name state  \n",
       "0                   Albany County Constable's Office    NY  \n",
       "1                   Columbia County Sheriff's Office    NY  \n",
       "2            Westchester County Sheriff's Department    NY  \n",
       "3  United States Department of Justice - United S...    US  \n",
       "4                 Greenville County Sheriff's Office    SC  "
      ]
     },
     "execution_count": 21,
     "metadata": {},
     "output_type": "execute_result"
    }
   ],
   "source": [
    "police_deaths_df.head()"
   ]
  },
  {
   "cell_type": "code",
   "execution_count": 22,
   "metadata": {
    "editable": true
   },
   "outputs": [
    {
     "data": {
      "text/plain": [
       "person         22742\n",
       "dept            6528\n",
       "eow            17158\n",
       "cause             36\n",
       "cause_short       36\n",
       "date           17158\n",
       "year             202\n",
       "canine             2\n",
       "dept_name       5525\n",
       "state             60\n",
       "dtype: int64"
      ]
     },
     "execution_count": 22,
     "metadata": {},
     "output_type": "execute_result"
    }
   ],
   "source": [
    "police_deaths_df.nunique()\n",
    "## Some names seem to have been duplicated. Will need to make sure I don't de-dupe important information"
   ]
  },
  {
   "cell_type": "markdown",
   "metadata": {
    "editable": true
   },
   "source": [
    "### 5. Protest data\n",
    "- The dataset below shows all BLM protests since 25th May 2020"
   ]
  },
  {
   "cell_type": "code",
   "execution_count": 23,
   "metadata": {
    "editable": true
   },
   "outputs": [],
   "source": [
    "protest = 's3a://datalake-blm/raw/protests.json'"
   ]
  },
  {
   "cell_type": "markdown",
   "metadata": {
    "editable": true
   },
   "source": [
    "Given it is a json file, I wanna use spark to explore it and print the schema"
   ]
  },
  {
   "cell_type": "code",
   "execution_count": 24,
   "metadata": {
    "editable": true
   },
   "outputs": [],
   "source": [
    "from pyspark.sql import SparkSession\n",
    "spark = SparkSession \\\n",
    "    .builder \\\n",
    "    .config(\"spark.jars.packages\", \"org.apache.hadoop:hadoop-aws:2.7.0\") \\\n",
    "    .getOrCreate()"
   ]
  },
  {
   "cell_type": "code",
   "execution_count": 25,
   "metadata": {
    "editable": true
   },
   "outputs": [],
   "source": [
    "protests_df = spark.read.json(protest)"
   ]
  },
  {
   "cell_type": "code",
   "execution_count": 26,
   "metadata": {
    "editable": true
   },
   "outputs": [
    {
     "name": "stdout",
     "output_type": "stream",
     "text": [
      "root\n",
      " |-- features: array (nullable = true)\n",
      " |    |-- element: struct (containsNull = true)\n",
      " |    |    |-- geometry: struct (nullable = true)\n",
      " |    |    |    |-- coordinates: array (nullable = true)\n",
      " |    |    |    |    |-- element: double (containsNull = true)\n",
      " |    |    |    |-- type: string (nullable = true)\n",
      " |    |    |-- id: long (nullable = true)\n",
      " |    |    |-- properties: struct (nullable = true)\n",
      " |    |    |    |-- Alias: string (nullable = true)\n",
      " |    |    |    |-- Batch: string (nullable = true)\n",
      " |    |    |    |-- City: string (nullable = true)\n",
      " |    |    |    |-- Comments: string (nullable = true)\n",
      " |    |    |    |-- Country: string (nullable = true)\n",
      " |    |    |    |-- Date_Added: long (nullable = true)\n",
      " |    |    |    |-- Mailing_Abbreviation: string (nullable = true)\n",
      " |    |    |    |-- OBJECTID: long (nullable = true)\n",
      " |    |    |    |-- Region: string (nullable = true)\n",
      " |    |    |    |-- Search_Label: string (nullable = true)\n",
      " |    |    |    |-- X_Longitude: double (nullable = true)\n",
      " |    |    |    |-- Y_Latitude: double (nullable = true)\n",
      " |    |    |-- type: string (nullable = true)\n",
      " |-- type: string (nullable = true)\n",
      "\n"
     ]
    }
   ],
   "source": [
    "protests_df.printSchema()"
   ]
  },
  {
   "cell_type": "markdown",
   "metadata": {
    "editable": true
   },
   "source": [
    "- Given that this is a json file, I will need to flatten the columns to turn data into tabular format"
   ]
  },
  {
   "cell_type": "code",
   "execution_count": 27,
   "metadata": {
    "editable": true
   },
   "outputs": [
    {
     "name": "stdout",
     "output_type": "stream",
     "text": [
      "+--------------------+-----------------+\n",
      "|            features|             type|\n",
      "+--------------------+-----------------+\n",
      "|[[[[-134.40678999...|FeatureCollection|\n",
      "+--------------------+-----------------+\n",
      "\n"
     ]
    }
   ],
   "source": [
    "protests_df.show(5)"
   ]
  },
  {
   "cell_type": "markdown",
   "metadata": {
    "editable": true
   },
   "source": [
    "### 6. New York Crime Data\n",
    "- Crimes Statistics in New York between 2006 and 2019\n",
    "- City of New York Open Data Sources. Source https://data.cityofnewyork.us/Public-Safety/NYPD-Arrests-Data-Historic-/8h9b-rp9u"
   ]
  },
  {
   "cell_type": "code",
   "execution_count": 28,
   "metadata": {
    "editable": true
   },
   "outputs": [],
   "source": [
    "ny = 's3a://datalake-blm/raw/NYPD_Arrests_Data__Historic_.csv'"
   ]
  },
  {
   "cell_type": "code",
   "execution_count": 29,
   "metadata": {
    "editable": true
   },
   "outputs": [],
   "source": [
    "#ny_df = spark.read.json(ny)\n",
    "ny_df = spark.read.format('com.databricks.spark.csv').options(header='true', inferschema='true').load(ny)"
   ]
  },
  {
   "cell_type": "code",
   "execution_count": 30,
   "metadata": {
    "editable": true
   },
   "outputs": [
    {
     "name": "stdout",
     "output_type": "stream",
     "text": [
      "+----------+-----------+-----+--------------------+-----+--------------+----------+----------+-----------+---------------+-----------------+---------+--------+--------------+----------+----------+------------------+------------------+--------------------+\n",
      "|ARREST_KEY|ARREST_DATE|PD_CD|             PD_DESC|KY_CD|     OFNS_DESC|  LAW_CODE|LAW_CAT_CD|ARREST_BORO|ARREST_PRECINCT|JURISDICTION_CODE|AGE_GROUP|PERP_SEX|     PERP_RACE|X_COORD_CD|Y_COORD_CD|          Latitude|         Longitude|             Lon_Lat|\n",
      "+----------+-----------+-----+--------------------+-----+--------------+----------+----------+-----------+---------------+-----------------+---------+--------+--------------+----------+----------+------------------+------------------+--------------------+\n",
      "| 190294601| 11/23/2018|  109|ASSAULT 2,1,UNCLA...|  106|FELONY ASSAULT|PL 1200512|         F|          B|             40|                0|    25-44|       M|         BLACK| 1008096.0|  233595.0|40.807816227000046|-73.91386266099995|POINT (-73.913862...|\n",
      "| 190266280| 11/21/2018|  665|                null| null|          null|PL 4902001|         F|          Q|            109|                0|    25-44|       M|BLACK HISPANIC| 1032084.0|  216954.0|40.762043893000055|-73.82732958099997|POINT (-73.827329...|\n",
      "+----------+-----------+-----+--------------------+-----+--------------+----------+----------+-----------+---------------+-----------------+---------+--------+--------------+----------+----------+------------------+------------------+--------------------+\n",
      "only showing top 2 rows\n",
      "\n"
     ]
    }
   ],
   "source": [
    "ny_df.show(2)"
   ]
  },
  {
   "cell_type": "code",
   "execution_count": 31,
   "metadata": {
    "editable": true
   },
   "outputs": [
    {
     "name": "stdout",
     "output_type": "stream",
     "text": [
      "root\n",
      " |-- ARREST_KEY: integer (nullable = true)\n",
      " |-- ARREST_DATE: string (nullable = true)\n",
      " |-- PD_CD: integer (nullable = true)\n",
      " |-- PD_DESC: string (nullable = true)\n",
      " |-- KY_CD: integer (nullable = true)\n",
      " |-- OFNS_DESC: string (nullable = true)\n",
      " |-- LAW_CODE: string (nullable = true)\n",
      " |-- LAW_CAT_CD: string (nullable = true)\n",
      " |-- ARREST_BORO: string (nullable = true)\n",
      " |-- ARREST_PRECINCT: integer (nullable = true)\n",
      " |-- JURISDICTION_CODE: integer (nullable = true)\n",
      " |-- AGE_GROUP: string (nullable = true)\n",
      " |-- PERP_SEX: string (nullable = true)\n",
      " |-- PERP_RACE: string (nullable = true)\n",
      " |-- X_COORD_CD: double (nullable = true)\n",
      " |-- Y_COORD_CD: double (nullable = true)\n",
      " |-- Latitude: double (nullable = true)\n",
      " |-- Longitude: double (nullable = true)\n",
      " |-- Lon_Lat: string (nullable = true)\n",
      "\n"
     ]
    }
   ],
   "source": [
    "ny_df.printSchema()"
   ]
  },
  {
   "cell_type": "code",
   "execution_count": 32,
   "metadata": {
    "editable": true
   },
   "outputs": [
    {
     "data": {
      "text/plain": [
       "5012956"
      ]
     },
     "execution_count": 32,
     "metadata": {},
     "output_type": "execute_result"
    }
   ],
   "source": [
    "ny_df.count()"
   ]
  },
  {
   "cell_type": "markdown",
   "metadata": {
    "editable": true
   },
   "source": [
    "### Step 2: Explore and Assess the Data\n",
    "\n",
    "#### In this section, I will assess and explore the datasets in depth, remove duplicated values and unuseful information"
   ]
  },
  {
   "cell_type": "markdown",
   "metadata": {
    "editable": true
   },
   "source": [
    "#### 1. State\n",
    "- Given that the state dataset has unique value and is clean, I will simply will rename column, reorder columns, and save it directly on s3 Stage bucket"
   ]
  },
  {
   "cell_type": "code",
   "execution_count": 33,
   "metadata": {
    "editable": true
   },
   "outputs": [],
   "source": [
    "# I will use the stage budget on s3 to store all the clean datasets \n",
    "s3path = 's3://datalake-blm/stage/'"
   ]
  },
  {
   "cell_type": "code",
   "execution_count": 34,
   "metadata": {
    "editable": true
   },
   "outputs": [
    {
     "data": {
      "text/html": [
       "<div>\n",
       "<style scoped>\n",
       "    .dataframe tbody tr th:only-of-type {\n",
       "        vertical-align: middle;\n",
       "    }\n",
       "\n",
       "    .dataframe tbody tr th {\n",
       "        vertical-align: top;\n",
       "    }\n",
       "\n",
       "    .dataframe thead th {\n",
       "        text-align: right;\n",
       "    }\n",
       "</style>\n",
       "<table border=\"1\" class=\"dataframe\">\n",
       "  <thead>\n",
       "    <tr style=\"text-align: right;\">\n",
       "      <th></th>\n",
       "      <th>state</th>\n",
       "      <th>state_abbrev</th>\n",
       "    </tr>\n",
       "  </thead>\n",
       "  <tbody>\n",
       "    <tr>\n",
       "      <th>0</th>\n",
       "      <td>Alabama</td>\n",
       "      <td>AL</td>\n",
       "    </tr>\n",
       "    <tr>\n",
       "      <th>1</th>\n",
       "      <td>Alaska</td>\n",
       "      <td>AK</td>\n",
       "    </tr>\n",
       "    <tr>\n",
       "      <th>2</th>\n",
       "      <td>Arizona</td>\n",
       "      <td>AZ</td>\n",
       "    </tr>\n",
       "    <tr>\n",
       "      <th>3</th>\n",
       "      <td>Arkansas</td>\n",
       "      <td>AR</td>\n",
       "    </tr>\n",
       "  </tbody>\n",
       "</table>\n",
       "</div>"
      ],
      "text/plain": [
       "       state state_abbrev\n",
       "0   Alabama            AL\n",
       "1    Alaska            AK\n",
       "2   Arizona            AZ\n",
       "3  Arkansas            AR"
      ]
     },
     "execution_count": 34,
     "metadata": {},
     "output_type": "execute_result"
    }
   ],
   "source": [
    "us_state_df.head(4)"
   ]
  },
  {
   "cell_type": "code",
   "execution_count": 35,
   "metadata": {
    "editable": true
   },
   "outputs": [
    {
     "name": "stdout",
     "output_type": "stream",
     "text": [
      "<class 'pandas.core.frame.DataFrame'>\n",
      "RangeIndex: 50 entries, 0 to 49\n",
      "Data columns (total 2 columns):\n",
      " #   Column        Non-Null Count  Dtype \n",
      "---  ------        --------------  ----- \n",
      " 0   state         50 non-null     object\n",
      " 1   state_abbrev  50 non-null     object\n",
      "dtypes: object(2)\n",
      "memory usage: 928.0+ bytes\n"
     ]
    }
   ],
   "source": [
    "us_state_df.info()"
   ]
  },
  {
   "cell_type": "code",
   "execution_count": 36,
   "metadata": {
    "editable": true
   },
   "outputs": [],
   "source": [
    "us_state_df=us_state_df.rename(columns={\"state_abbrev\":\"state_id\"})"
   ]
  },
  {
   "cell_type": "code",
   "execution_count": 37,
   "metadata": {
    "editable": true
   },
   "outputs": [
    {
     "data": {
      "text/html": [
       "<div>\n",
       "<style scoped>\n",
       "    .dataframe tbody tr th:only-of-type {\n",
       "        vertical-align: middle;\n",
       "    }\n",
       "\n",
       "    .dataframe tbody tr th {\n",
       "        vertical-align: top;\n",
       "    }\n",
       "\n",
       "    .dataframe thead th {\n",
       "        text-align: right;\n",
       "    }\n",
       "</style>\n",
       "<table border=\"1\" class=\"dataframe\">\n",
       "  <thead>\n",
       "    <tr style=\"text-align: right;\">\n",
       "      <th></th>\n",
       "      <th>state</th>\n",
       "      <th>state_id</th>\n",
       "    </tr>\n",
       "  </thead>\n",
       "  <tbody>\n",
       "    <tr>\n",
       "      <th>0</th>\n",
       "      <td>Alabama</td>\n",
       "      <td>AL</td>\n",
       "    </tr>\n",
       "    <tr>\n",
       "      <th>1</th>\n",
       "      <td>Alaska</td>\n",
       "      <td>AK</td>\n",
       "    </tr>\n",
       "  </tbody>\n",
       "</table>\n",
       "</div>"
      ],
      "text/plain": [
       "      state state_id\n",
       "0  Alabama        AL\n",
       "1   Alaska        AK"
      ]
     },
     "execution_count": 37,
     "metadata": {},
     "output_type": "execute_result"
    }
   ],
   "source": [
    "us_state_df.head(2)"
   ]
  },
  {
   "cell_type": "code",
   "execution_count": 38,
   "metadata": {
    "editable": true
   },
   "outputs": [],
   "source": [
    "# I want to rearrange the order of columns \n",
    "us_state_df = us_state_df.reindex(columns=['state_id',\"state\"])"
   ]
  },
  {
   "cell_type": "code",
   "execution_count": 39,
   "metadata": {
    "editable": true
   },
   "outputs": [],
   "source": [
    "# I need to ensure I remove all the whitespace for each record\n",
    "us_state_df['state']=us_state_df['state'].str.strip()"
   ]
  },
  {
   "cell_type": "code",
   "execution_count": 40,
   "metadata": {
    "editable": true
   },
   "outputs": [],
   "source": [
    "state_file = 'state.csv'"
   ]
  },
  {
   "cell_type": "code",
   "execution_count": 226,
   "metadata": {
    "editable": true
   },
   "outputs": [],
   "source": [
    "us_state_df.to_csv(os.path.join(s3path, state_file),header=True, index = False)"
   ]
  },
  {
   "cell_type": "code",
   "execution_count": null,
   "metadata": {
    "editable": true
   },
   "outputs": [],
   "source": []
  },
  {
   "cell_type": "markdown",
   "metadata": {
    "editable": true
   },
   "source": [
    "#### 2. Budgets \n",
    "- I want to extract the city_population column from this table and create a new column labelling the state of each record"
   ]
  },
  {
   "cell_type": "code",
   "execution_count": 42,
   "metadata": {
    "editable": true
   },
   "outputs": [
    {
     "data": {
      "text/html": [
       "<div>\n",
       "<style scoped>\n",
       "    .dataframe tbody tr th:only-of-type {\n",
       "        vertical-align: middle;\n",
       "    }\n",
       "\n",
       "    .dataframe tbody tr th {\n",
       "        vertical-align: top;\n",
       "    }\n",
       "\n",
       "    .dataframe thead th {\n",
       "        text-align: right;\n",
       "    }\n",
       "</style>\n",
       "<table border=\"1\" class=\"dataframe\">\n",
       "  <thead>\n",
       "    <tr style=\"text-align: right;\">\n",
       "      <th></th>\n",
       "      <th>year</th>\n",
       "      <th>city_name</th>\n",
       "      <th>id_city</th>\n",
       "      <th>city_population</th>\n",
       "      <th>cpi</th>\n",
       "      <th>rev_total_city</th>\n",
       "      <th>rev_general_city</th>\n",
       "      <th>intergovt_rev_city</th>\n",
       "      <th>igr_federal_city</th>\n",
       "      <th>igr_state_city</th>\n",
       "      <th>...</th>\n",
       "      <th>cash_other_offsets</th>\n",
       "      <th>cash_other_bonds</th>\n",
       "      <th>cash_other_other</th>\n",
       "      <th>county_name</th>\n",
       "      <th>id_county</th>\n",
       "      <th>county_population</th>\n",
       "      <th>relationship_city_school</th>\n",
       "      <th>enrollment</th>\n",
       "      <th>districts_in_city</th>\n",
       "      <th>consolidated_govt</th>\n",
       "    </tr>\n",
       "  </thead>\n",
       "  <tbody>\n",
       "    <tr>\n",
       "      <th>0</th>\n",
       "      <td>1977</td>\n",
       "      <td>AK: Anchorage</td>\n",
       "      <td>22002001.0</td>\n",
       "      <td>174500</td>\n",
       "      <td>4.044885</td>\n",
       "      <td>5342.24</td>\n",
       "      <td>4956.92</td>\n",
       "      <td>2148.77</td>\n",
       "      <td>279.32</td>\n",
       "      <td>1869.46</td>\n",
       "      <td>...</td>\n",
       "      <td>178.51</td>\n",
       "      <td>787.93</td>\n",
       "      <td>691.32</td>\n",
       "      <td>NaN</td>\n",
       "      <td>NaN</td>\n",
       "      <td>NaN</td>\n",
       "      <td>4.0</td>\n",
       "      <td>36855.0</td>\n",
       "      <td>NaN</td>\n",
       "      <td>1.0</td>\n",
       "    </tr>\n",
       "    <tr>\n",
       "      <th>1</th>\n",
       "      <td>1978</td>\n",
       "      <td>AK: Anchorage</td>\n",
       "      <td>22002001.0</td>\n",
       "      <td>177000</td>\n",
       "      <td>3.759509</td>\n",
       "      <td>5948.99</td>\n",
       "      <td>5490.05</td>\n",
       "      <td>2468.11</td>\n",
       "      <td>403.24</td>\n",
       "      <td>2064.86</td>\n",
       "      <td>...</td>\n",
       "      <td>187.53</td>\n",
       "      <td>1395.82</td>\n",
       "      <td>1158.01</td>\n",
       "      <td>NaN</td>\n",
       "      <td>NaN</td>\n",
       "      <td>NaN</td>\n",
       "      <td>4.0</td>\n",
       "      <td>36804.0</td>\n",
       "      <td>NaN</td>\n",
       "      <td>1.0</td>\n",
       "    </tr>\n",
       "  </tbody>\n",
       "</table>\n",
       "<p>2 rows × 662 columns</p>\n",
       "</div>"
      ],
      "text/plain": [
       "   year      city_name     id_city  city_population       cpi  rev_total_city  \\\n",
       "0  1977  AK: Anchorage  22002001.0           174500  4.044885         5342.24   \n",
       "1  1978  AK: Anchorage  22002001.0           177000  3.759509         5948.99   \n",
       "\n",
       "   rev_general_city  intergovt_rev_city  igr_federal_city  igr_state_city  \\\n",
       "0           4956.92             2148.77            279.32         1869.46   \n",
       "1           5490.05             2468.11            403.24         2064.86   \n",
       "\n",
       "   ...  cash_other_offsets  cash_other_bonds  cash_other_other  county_name  \\\n",
       "0  ...              178.51            787.93            691.32          NaN   \n",
       "1  ...              187.53           1395.82           1158.01          NaN   \n",
       "\n",
       "   id_county  county_population  relationship_city_school  enrollment  \\\n",
       "0        NaN                NaN                       4.0     36855.0   \n",
       "1        NaN                NaN                       4.0     36804.0   \n",
       "\n",
       "   districts_in_city  consolidated_govt  \n",
       "0                NaN                1.0  \n",
       "1                NaN                1.0  \n",
       "\n",
       "[2 rows x 662 columns]"
      ]
     },
     "execution_count": 42,
     "metadata": {},
     "output_type": "execute_result"
    }
   ],
   "source": [
    "budgets_df.head(2)"
   ]
  },
  {
   "cell_type": "code",
   "execution_count": 43,
   "metadata": {
    "editable": true
   },
   "outputs": [
    {
     "data": {
      "text/plain": [
       "year                        6232\n",
       "city_name                   6232\n",
       "id_city                     6191\n",
       "city_population             6232\n",
       "cpi                         6150\n",
       "                            ... \n",
       "county_population           5418\n",
       "relationship_city_school    6150\n",
       "enrollment                  6196\n",
       "districts_in_city           4741\n",
       "consolidated_govt           6150\n",
       "Length: 662, dtype: int64"
      ]
     },
     "execution_count": 43,
     "metadata": {},
     "output_type": "execute_result"
    }
   ],
   "source": [
    "budgets_df.count()"
   ]
  },
  {
   "cell_type": "markdown",
   "metadata": {
    "editable": true
   },
   "source": [
    "- Given that year, city_name and city_population all have the same number of records, I should simply check if there are any duplicates."
   ]
  },
  {
   "cell_type": "code",
   "execution_count": 44,
   "metadata": {
    "editable": true
   },
   "outputs": [
    {
     "data": {
      "text/plain": [
       "6232"
      ]
     },
     "execution_count": 44,
     "metadata": {},
     "output_type": "execute_result"
    }
   ],
   "source": [
    "len(budgets_df)"
   ]
  },
  {
   "cell_type": "code",
   "execution_count": 45,
   "metadata": {
    "editable": true
   },
   "outputs": [
    {
     "data": {
      "text/plain": [
       "year                          41\n",
       "city_name                    152\n",
       "id_city                      151\n",
       "city_population             6145\n",
       "cpi                           41\n",
       "                            ... \n",
       "county_population           4995\n",
       "relationship_city_school       5\n",
       "enrollment                  5108\n",
       "districts_in_city             22\n",
       "consolidated_govt              2\n",
       "Length: 662, dtype: int64"
      ]
     },
     "execution_count": 45,
     "metadata": {},
     "output_type": "execute_result"
    }
   ],
   "source": [
    "budgets_df.nunique()"
   ]
  },
  {
   "cell_type": "code",
   "execution_count": 46,
   "metadata": {
    "editable": true
   },
   "outputs": [],
   "source": [
    "budgets_df =budgets_df.drop_duplicates()"
   ]
  },
  {
   "cell_type": "code",
   "execution_count": 47,
   "metadata": {
    "editable": true
   },
   "outputs": [
    {
     "data": {
      "text/plain": [
       "6232"
      ]
     },
     "execution_count": 47,
     "metadata": {},
     "output_type": "execute_result"
    }
   ],
   "source": [
    "len(budgets_df)"
   ]
  },
  {
   "cell_type": "markdown",
   "metadata": {
    "editable": true
   },
   "source": [
    "- There are no duplicated values in this dataset, thats great! "
   ]
  },
  {
   "cell_type": "code",
   "execution_count": 48,
   "metadata": {
    "editable": true
   },
   "outputs": [
    {
     "data": {
      "text/html": [
       "<div>\n",
       "<style scoped>\n",
       "    .dataframe tbody tr th:only-of-type {\n",
       "        vertical-align: middle;\n",
       "    }\n",
       "\n",
       "    .dataframe tbody tr th {\n",
       "        vertical-align: top;\n",
       "    }\n",
       "\n",
       "    .dataframe thead th {\n",
       "        text-align: right;\n",
       "    }\n",
       "</style>\n",
       "<table border=\"1\" class=\"dataframe\">\n",
       "  <thead>\n",
       "    <tr style=\"text-align: right;\">\n",
       "      <th></th>\n",
       "      <th>year</th>\n",
       "      <th>city_name</th>\n",
       "      <th>id_city</th>\n",
       "      <th>city_population</th>\n",
       "      <th>cpi</th>\n",
       "      <th>rev_total_city</th>\n",
       "      <th>rev_general_city</th>\n",
       "      <th>intergovt_rev_city</th>\n",
       "      <th>igr_federal_city</th>\n",
       "      <th>igr_state_city</th>\n",
       "      <th>...</th>\n",
       "      <th>cash_other_offsets</th>\n",
       "      <th>cash_other_bonds</th>\n",
       "      <th>cash_other_other</th>\n",
       "      <th>county_name</th>\n",
       "      <th>id_county</th>\n",
       "      <th>county_population</th>\n",
       "      <th>relationship_city_school</th>\n",
       "      <th>enrollment</th>\n",
       "      <th>districts_in_city</th>\n",
       "      <th>consolidated_govt</th>\n",
       "    </tr>\n",
       "  </thead>\n",
       "  <tbody>\n",
       "    <tr>\n",
       "      <th>410</th>\n",
       "      <td>1977</td>\n",
       "      <td>Average for Cities</td>\n",
       "      <td>NaN</td>\n",
       "      <td>350083</td>\n",
       "      <td>NaN</td>\n",
       "      <td>2312.35</td>\n",
       "      <td>1889.98</td>\n",
       "      <td>760.76</td>\n",
       "      <td>338.25</td>\n",
       "      <td>422.51</td>\n",
       "      <td>...</td>\n",
       "      <td>366.03</td>\n",
       "      <td>387.54</td>\n",
       "      <td>839.45</td>\n",
       "      <td>NaN</td>\n",
       "      <td>NaN</td>\n",
       "      <td>690459.0</td>\n",
       "      <td>NaN</td>\n",
       "      <td>59844.0</td>\n",
       "      <td>NaN</td>\n",
       "      <td>NaN</td>\n",
       "    </tr>\n",
       "    <tr>\n",
       "      <th>411</th>\n",
       "      <td>1978</td>\n",
       "      <td>Average for Cities</td>\n",
       "      <td>NaN</td>\n",
       "      <td>349355</td>\n",
       "      <td>NaN</td>\n",
       "      <td>2290.69</td>\n",
       "      <td>1846.08</td>\n",
       "      <td>696.37</td>\n",
       "      <td>360.90</td>\n",
       "      <td>335.47</td>\n",
       "      <td>...</td>\n",
       "      <td>495.97</td>\n",
       "      <td>403.98</td>\n",
       "      <td>869.54</td>\n",
       "      <td>NaN</td>\n",
       "      <td>NaN</td>\n",
       "      <td>696845.0</td>\n",
       "      <td>NaN</td>\n",
       "      <td>64642.0</td>\n",
       "      <td>NaN</td>\n",
       "      <td>NaN</td>\n",
       "    </tr>\n",
       "    <tr>\n",
       "      <th>412</th>\n",
       "      <td>1979</td>\n",
       "      <td>Average for Cities</td>\n",
       "      <td>NaN</td>\n",
       "      <td>348967</td>\n",
       "      <td>NaN</td>\n",
       "      <td>2256.35</td>\n",
       "      <td>1816.53</td>\n",
       "      <td>693.98</td>\n",
       "      <td>352.31</td>\n",
       "      <td>341.68</td>\n",
       "      <td>...</td>\n",
       "      <td>302.54</td>\n",
       "      <td>461.02</td>\n",
       "      <td>893.65</td>\n",
       "      <td>NaN</td>\n",
       "      <td>NaN</td>\n",
       "      <td>704711.0</td>\n",
       "      <td>NaN</td>\n",
       "      <td>56383.0</td>\n",
       "      <td>NaN</td>\n",
       "      <td>NaN</td>\n",
       "    </tr>\n",
       "  </tbody>\n",
       "</table>\n",
       "<p>3 rows × 662 columns</p>\n",
       "</div>"
      ],
      "text/plain": [
       "     year           city_name  id_city  city_population  cpi  rev_total_city  \\\n",
       "410  1977  Average for Cities      NaN           350083  NaN         2312.35   \n",
       "411  1978  Average for Cities      NaN           349355  NaN         2290.69   \n",
       "412  1979  Average for Cities      NaN           348967  NaN         2256.35   \n",
       "\n",
       "     rev_general_city  intergovt_rev_city  igr_federal_city  igr_state_city  \\\n",
       "410           1889.98              760.76            338.25          422.51   \n",
       "411           1846.08              696.37            360.90          335.47   \n",
       "412           1816.53              693.98            352.31          341.68   \n",
       "\n",
       "     ...  cash_other_offsets  cash_other_bonds  cash_other_other  county_name  \\\n",
       "410  ...              366.03            387.54            839.45          NaN   \n",
       "411  ...              495.97            403.98            869.54          NaN   \n",
       "412  ...              302.54            461.02            893.65          NaN   \n",
       "\n",
       "     id_county  county_population  relationship_city_school  enrollment  \\\n",
       "410        NaN           690459.0                       NaN     59844.0   \n",
       "411        NaN           696845.0                       NaN     64642.0   \n",
       "412        NaN           704711.0                       NaN     56383.0   \n",
       "\n",
       "     districts_in_city  consolidated_govt  \n",
       "410                NaN                NaN  \n",
       "411                NaN                NaN  \n",
       "412                NaN                NaN  \n",
       "\n",
       "[3 rows x 662 columns]"
      ]
     },
     "execution_count": 48,
     "metadata": {},
     "output_type": "execute_result"
    }
   ],
   "source": [
    "#I previously noticed that some records don't have id_city. I want to know what kind information do these records hold\n",
    "budgets_df[budgets_df.id_city.isnull()].head(3)"
   ]
  },
  {
   "cell_type": "code",
   "execution_count": 49,
   "metadata": {
    "editable": true
   },
   "outputs": [
    {
     "data": {
      "text/plain": [
       "41"
      ]
     },
     "execution_count": 49,
     "metadata": {},
     "output_type": "execute_result"
    }
   ],
   "source": [
    "len(budgets_df[budgets_df.id_city.isnull()])"
   ]
  },
  {
   "cell_type": "markdown",
   "metadata": {
    "editable": true
   },
   "source": [
    "- Okay, those records show data average for cities. I don't need them and I will drop these 41 records."
   ]
  },
  {
   "cell_type": "code",
   "execution_count": 50,
   "metadata": {
    "editable": true
   },
   "outputs": [],
   "source": [
    "budgets_df_cleaned = budgets_df[budgets_df.id_city.notnull()]"
   ]
  },
  {
   "cell_type": "code",
   "execution_count": 51,
   "metadata": {
    "editable": true
   },
   "outputs": [
    {
     "data": {
      "text/plain": [
       "year                        6191\n",
       "city_name                   6191\n",
       "id_city                     6191\n",
       "city_population             6191\n",
       "cpi                         6150\n",
       "                            ... \n",
       "county_population           5377\n",
       "relationship_city_school    6150\n",
       "enrollment                  6155\n",
       "districts_in_city           4741\n",
       "consolidated_govt           6150\n",
       "Length: 662, dtype: int64"
      ]
     },
     "execution_count": 51,
     "metadata": {},
     "output_type": "execute_result"
    }
   ],
   "source": [
    "budgets_df_cleaned.count()"
   ]
  },
  {
   "cell_type": "markdown",
   "metadata": {
    "editable": true
   },
   "source": [
    "- Data looks a lot cleaner now. I don't want to use the dropna function because it looks like the issues come from some missing data in te county_name, id_county, enrollment, consolidated_govt and districts_in_city columns. I won't use these columns anyway."
   ]
  },
  {
   "cell_type": "code",
   "execution_count": 52,
   "metadata": {
    "editable": true
   },
   "outputs": [
    {
     "data": {
      "text/html": [
       "<div>\n",
       "<style scoped>\n",
       "    .dataframe tbody tr th:only-of-type {\n",
       "        vertical-align: middle;\n",
       "    }\n",
       "\n",
       "    .dataframe tbody tr th {\n",
       "        vertical-align: top;\n",
       "    }\n",
       "\n",
       "    .dataframe thead th {\n",
       "        text-align: right;\n",
       "    }\n",
       "</style>\n",
       "<table border=\"1\" class=\"dataframe\">\n",
       "  <thead>\n",
       "    <tr style=\"text-align: right;\">\n",
       "      <th></th>\n",
       "      <th>year</th>\n",
       "      <th>city_name</th>\n",
       "      <th>id_city</th>\n",
       "      <th>city_population</th>\n",
       "      <th>cpi</th>\n",
       "      <th>rev_total_city</th>\n",
       "      <th>rev_general_city</th>\n",
       "      <th>intergovt_rev_city</th>\n",
       "      <th>igr_federal_city</th>\n",
       "      <th>igr_state_city</th>\n",
       "      <th>...</th>\n",
       "      <th>cash_other_offsets</th>\n",
       "      <th>cash_other_bonds</th>\n",
       "      <th>cash_other_other</th>\n",
       "      <th>county_name</th>\n",
       "      <th>id_county</th>\n",
       "      <th>county_population</th>\n",
       "      <th>relationship_city_school</th>\n",
       "      <th>enrollment</th>\n",
       "      <th>districts_in_city</th>\n",
       "      <th>consolidated_govt</th>\n",
       "    </tr>\n",
       "  </thead>\n",
       "  <tbody>\n",
       "    <tr>\n",
       "      <th>0</th>\n",
       "      <td>1977</td>\n",
       "      <td>AK: Anchorage</td>\n",
       "      <td>22002001.0</td>\n",
       "      <td>174500</td>\n",
       "      <td>4.044885</td>\n",
       "      <td>5342.24</td>\n",
       "      <td>4956.92</td>\n",
       "      <td>2148.77</td>\n",
       "      <td>279.32</td>\n",
       "      <td>1869.46</td>\n",
       "      <td>...</td>\n",
       "      <td>178.51</td>\n",
       "      <td>787.93</td>\n",
       "      <td>691.32</td>\n",
       "      <td>NaN</td>\n",
       "      <td>NaN</td>\n",
       "      <td>NaN</td>\n",
       "      <td>4.0</td>\n",
       "      <td>36855.0</td>\n",
       "      <td>NaN</td>\n",
       "      <td>1.0</td>\n",
       "    </tr>\n",
       "  </tbody>\n",
       "</table>\n",
       "<p>1 rows × 662 columns</p>\n",
       "</div>"
      ],
      "text/plain": [
       "   year      city_name     id_city  city_population       cpi  rev_total_city  \\\n",
       "0  1977  AK: Anchorage  22002001.0           174500  4.044885         5342.24   \n",
       "\n",
       "   rev_general_city  intergovt_rev_city  igr_federal_city  igr_state_city  \\\n",
       "0           4956.92             2148.77            279.32         1869.46   \n",
       "\n",
       "   ...  cash_other_offsets  cash_other_bonds  cash_other_other  county_name  \\\n",
       "0  ...              178.51            787.93            691.32          NaN   \n",
       "\n",
       "   id_county  county_population  relationship_city_school  enrollment  \\\n",
       "0        NaN                NaN                       4.0     36855.0   \n",
       "\n",
       "   districts_in_city  consolidated_govt  \n",
       "0                NaN                1.0  \n",
       "\n",
       "[1 rows x 662 columns]"
      ]
     },
     "execution_count": 52,
     "metadata": {},
     "output_type": "execute_result"
    }
   ],
   "source": [
    "budgets_df_cleaned.head(1)"
   ]
  },
  {
   "cell_type": "code",
   "execution_count": 53,
   "metadata": {
    "editable": true
   },
   "outputs": [
    {
     "data": {
      "text/plain": [
       "6191"
      ]
     },
     "execution_count": 53,
     "metadata": {},
     "output_type": "execute_result"
    }
   ],
   "source": [
    "len(budgets_df_cleaned)"
   ]
  },
  {
   "cell_type": "markdown",
   "metadata": {
    "editable": true
   },
   "source": [
    "- I want to drop the index column as that column shows inaccurate values"
   ]
  },
  {
   "cell_type": "code",
   "execution_count": 54,
   "metadata": {
    "editable": true
   },
   "outputs": [],
   "source": [
    "budgets_df_cleaned =budgets_df_cleaned.reset_index(drop=True)"
   ]
  },
  {
   "cell_type": "code",
   "execution_count": 55,
   "metadata": {
    "editable": true
   },
   "outputs": [
    {
     "data": {
      "text/html": [
       "<div>\n",
       "<style scoped>\n",
       "    .dataframe tbody tr th:only-of-type {\n",
       "        vertical-align: middle;\n",
       "    }\n",
       "\n",
       "    .dataframe tbody tr th {\n",
       "        vertical-align: top;\n",
       "    }\n",
       "\n",
       "    .dataframe thead th {\n",
       "        text-align: right;\n",
       "    }\n",
       "</style>\n",
       "<table border=\"1\" class=\"dataframe\">\n",
       "  <thead>\n",
       "    <tr style=\"text-align: right;\">\n",
       "      <th></th>\n",
       "      <th>year</th>\n",
       "      <th>city_name</th>\n",
       "      <th>id_city</th>\n",
       "      <th>city_population</th>\n",
       "      <th>cpi</th>\n",
       "      <th>rev_total_city</th>\n",
       "      <th>rev_general_city</th>\n",
       "      <th>intergovt_rev_city</th>\n",
       "      <th>igr_federal_city</th>\n",
       "      <th>igr_state_city</th>\n",
       "      <th>...</th>\n",
       "      <th>cash_other_offsets</th>\n",
       "      <th>cash_other_bonds</th>\n",
       "      <th>cash_other_other</th>\n",
       "      <th>county_name</th>\n",
       "      <th>id_county</th>\n",
       "      <th>county_population</th>\n",
       "      <th>relationship_city_school</th>\n",
       "      <th>enrollment</th>\n",
       "      <th>districts_in_city</th>\n",
       "      <th>consolidated_govt</th>\n",
       "    </tr>\n",
       "  </thead>\n",
       "  <tbody>\n",
       "    <tr>\n",
       "      <th>0</th>\n",
       "      <td>1977</td>\n",
       "      <td>AK: Anchorage</td>\n",
       "      <td>22002001.0</td>\n",
       "      <td>174500</td>\n",
       "      <td>4.044885</td>\n",
       "      <td>5342.24</td>\n",
       "      <td>4956.92</td>\n",
       "      <td>2148.77</td>\n",
       "      <td>279.32</td>\n",
       "      <td>1869.46</td>\n",
       "      <td>...</td>\n",
       "      <td>178.51</td>\n",
       "      <td>787.93</td>\n",
       "      <td>691.32</td>\n",
       "      <td>NaN</td>\n",
       "      <td>NaN</td>\n",
       "      <td>NaN</td>\n",
       "      <td>4.0</td>\n",
       "      <td>36855.0</td>\n",
       "      <td>NaN</td>\n",
       "      <td>1.0</td>\n",
       "    </tr>\n",
       "    <tr>\n",
       "      <th>1</th>\n",
       "      <td>1978</td>\n",
       "      <td>AK: Anchorage</td>\n",
       "      <td>22002001.0</td>\n",
       "      <td>177000</td>\n",
       "      <td>3.759509</td>\n",
       "      <td>5948.99</td>\n",
       "      <td>5490.05</td>\n",
       "      <td>2468.11</td>\n",
       "      <td>403.24</td>\n",
       "      <td>2064.86</td>\n",
       "      <td>...</td>\n",
       "      <td>187.53</td>\n",
       "      <td>1395.82</td>\n",
       "      <td>1158.01</td>\n",
       "      <td>NaN</td>\n",
       "      <td>NaN</td>\n",
       "      <td>NaN</td>\n",
       "      <td>4.0</td>\n",
       "      <td>36804.0</td>\n",
       "      <td>NaN</td>\n",
       "      <td>1.0</td>\n",
       "    </tr>\n",
       "  </tbody>\n",
       "</table>\n",
       "<p>2 rows × 662 columns</p>\n",
       "</div>"
      ],
      "text/plain": [
       "   year      city_name     id_city  city_population       cpi  rev_total_city  \\\n",
       "0  1977  AK: Anchorage  22002001.0           174500  4.044885         5342.24   \n",
       "1  1978  AK: Anchorage  22002001.0           177000  3.759509         5948.99   \n",
       "\n",
       "   rev_general_city  intergovt_rev_city  igr_federal_city  igr_state_city  \\\n",
       "0           4956.92             2148.77            279.32         1869.46   \n",
       "1           5490.05             2468.11            403.24         2064.86   \n",
       "\n",
       "   ...  cash_other_offsets  cash_other_bonds  cash_other_other  county_name  \\\n",
       "0  ...              178.51            787.93            691.32          NaN   \n",
       "1  ...              187.53           1395.82           1158.01          NaN   \n",
       "\n",
       "   id_county  county_population  relationship_city_school  enrollment  \\\n",
       "0        NaN                NaN                       4.0     36855.0   \n",
       "1        NaN                NaN                       4.0     36804.0   \n",
       "\n",
       "   districts_in_city  consolidated_govt  \n",
       "0                NaN                1.0  \n",
       "1                NaN                1.0  \n",
       "\n",
       "[2 rows x 662 columns]"
      ]
     },
     "execution_count": 55,
     "metadata": {},
     "output_type": "execute_result"
    }
   ],
   "source": [
    "budgets_df_cleaned.head(2)"
   ]
  },
  {
   "cell_type": "markdown",
   "metadata": {
    "editable": true
   },
   "source": [
    "- Now I am going to create a dataset with the popultion information only"
   ]
  },
  {
   "cell_type": "code",
   "execution_count": 56,
   "metadata": {
    "editable": true
   },
   "outputs": [],
   "source": [
    "city_population = budgets_df_cleaned[['year','city_name','id_city','city_population']]"
   ]
  },
  {
   "cell_type": "code",
   "execution_count": 57,
   "metadata": {
    "editable": true
   },
   "outputs": [
    {
     "data": {
      "text/html": [
       "<div>\n",
       "<style scoped>\n",
       "    .dataframe tbody tr th:only-of-type {\n",
       "        vertical-align: middle;\n",
       "    }\n",
       "\n",
       "    .dataframe tbody tr th {\n",
       "        vertical-align: top;\n",
       "    }\n",
       "\n",
       "    .dataframe thead th {\n",
       "        text-align: right;\n",
       "    }\n",
       "</style>\n",
       "<table border=\"1\" class=\"dataframe\">\n",
       "  <thead>\n",
       "    <tr style=\"text-align: right;\">\n",
       "      <th></th>\n",
       "      <th>year</th>\n",
       "      <th>city_name</th>\n",
       "      <th>id_city</th>\n",
       "      <th>city_population</th>\n",
       "    </tr>\n",
       "  </thead>\n",
       "  <tbody>\n",
       "    <tr>\n",
       "      <th>0</th>\n",
       "      <td>1977</td>\n",
       "      <td>AK: Anchorage</td>\n",
       "      <td>22002001.0</td>\n",
       "      <td>174500</td>\n",
       "    </tr>\n",
       "    <tr>\n",
       "      <th>1</th>\n",
       "      <td>1978</td>\n",
       "      <td>AK: Anchorage</td>\n",
       "      <td>22002001.0</td>\n",
       "      <td>177000</td>\n",
       "    </tr>\n",
       "  </tbody>\n",
       "</table>\n",
       "</div>"
      ],
      "text/plain": [
       "   year      city_name     id_city  city_population\n",
       "0  1977  AK: Anchorage  22002001.0           174500\n",
       "1  1978  AK: Anchorage  22002001.0           177000"
      ]
     },
     "execution_count": 57,
     "metadata": {},
     "output_type": "execute_result"
    }
   ],
   "source": [
    "city_population.head(2)"
   ]
  },
  {
   "cell_type": "markdown",
   "metadata": {
    "editable": true
   },
   "source": [
    "- I will extract the state information from the city_name column"
   ]
  },
  {
   "cell_type": "code",
   "execution_count": 58,
   "metadata": {
    "editable": true
   },
   "outputs": [
    {
     "name": "stderr",
     "output_type": "stream",
     "text": [
      "/opt/conda/lib/python3.6/site-packages/ipykernel_launcher.py:1: SettingWithCopyWarning: \n",
      "A value is trying to be set on a copy of a slice from a DataFrame.\n",
      "Try using .loc[row_indexer,col_indexer] = value instead\n",
      "\n",
      "See the caveats in the documentation: https://pandas.pydata.org/pandas-docs/stable/user_guide/indexing.html#returning-a-view-versus-a-copy\n",
      "  \"\"\"Entry point for launching an IPython kernel.\n"
     ]
    }
   ],
   "source": [
    "city_population[\"state\"]= city_population[\"city_name\"].str.split(\":\",n=1,expand= True)[0]"
   ]
  },
  {
   "cell_type": "code",
   "execution_count": 59,
   "metadata": {
    "editable": true
   },
   "outputs": [
    {
     "data": {
      "text/html": [
       "<div>\n",
       "<style scoped>\n",
       "    .dataframe tbody tr th:only-of-type {\n",
       "        vertical-align: middle;\n",
       "    }\n",
       "\n",
       "    .dataframe tbody tr th {\n",
       "        vertical-align: top;\n",
       "    }\n",
       "\n",
       "    .dataframe thead th {\n",
       "        text-align: right;\n",
       "    }\n",
       "</style>\n",
       "<table border=\"1\" class=\"dataframe\">\n",
       "  <thead>\n",
       "    <tr style=\"text-align: right;\">\n",
       "      <th></th>\n",
       "      <th>year</th>\n",
       "      <th>city_name</th>\n",
       "      <th>id_city</th>\n",
       "      <th>city_population</th>\n",
       "      <th>state</th>\n",
       "    </tr>\n",
       "  </thead>\n",
       "  <tbody>\n",
       "    <tr>\n",
       "      <th>0</th>\n",
       "      <td>1977</td>\n",
       "      <td>AK: Anchorage</td>\n",
       "      <td>22002001.0</td>\n",
       "      <td>174500</td>\n",
       "      <td>AK</td>\n",
       "    </tr>\n",
       "    <tr>\n",
       "      <th>1</th>\n",
       "      <td>1978</td>\n",
       "      <td>AK: Anchorage</td>\n",
       "      <td>22002001.0</td>\n",
       "      <td>177000</td>\n",
       "      <td>AK</td>\n",
       "    </tr>\n",
       "  </tbody>\n",
       "</table>\n",
       "</div>"
      ],
      "text/plain": [
       "   year      city_name     id_city  city_population state\n",
       "0  1977  AK: Anchorage  22002001.0           174500    AK\n",
       "1  1978  AK: Anchorage  22002001.0           177000    AK"
      ]
     },
     "execution_count": 59,
     "metadata": {},
     "output_type": "execute_result"
    }
   ],
   "source": [
    "city_population.head(2)"
   ]
  },
  {
   "cell_type": "code",
   "execution_count": 60,
   "metadata": {
    "editable": true
   },
   "outputs": [
    {
     "data": {
      "text/plain": [
       "6191"
      ]
     },
     "execution_count": 60,
     "metadata": {},
     "output_type": "execute_result"
    }
   ],
   "source": [
    "len(city_population)"
   ]
  },
  {
   "cell_type": "code",
   "execution_count": 61,
   "metadata": {
    "editable": true
   },
   "outputs": [
    {
     "name": "stderr",
     "output_type": "stream",
     "text": [
      "/opt/conda/lib/python3.6/site-packages/ipykernel_launcher.py:1: SettingWithCopyWarning: \n",
      "A value is trying to be set on a copy of a slice from a DataFrame.\n",
      "Try using .loc[row_indexer,col_indexer] = value instead\n",
      "\n",
      "See the caveats in the documentation: https://pandas.pydata.org/pandas-docs/stable/user_guide/indexing.html#returning-a-view-versus-a-copy\n",
      "  \"\"\"Entry point for launching an IPython kernel.\n"
     ]
    }
   ],
   "source": [
    "city_population[\"city\"]= city_population[\"city_name\"].str.split(\":\",n=1,expand= True)[1]"
   ]
  },
  {
   "cell_type": "code",
   "execution_count": 62,
   "metadata": {
    "editable": true
   },
   "outputs": [
    {
     "data": {
      "text/html": [
       "<div>\n",
       "<style scoped>\n",
       "    .dataframe tbody tr th:only-of-type {\n",
       "        vertical-align: middle;\n",
       "    }\n",
       "\n",
       "    .dataframe tbody tr th {\n",
       "        vertical-align: top;\n",
       "    }\n",
       "\n",
       "    .dataframe thead th {\n",
       "        text-align: right;\n",
       "    }\n",
       "</style>\n",
       "<table border=\"1\" class=\"dataframe\">\n",
       "  <thead>\n",
       "    <tr style=\"text-align: right;\">\n",
       "      <th></th>\n",
       "      <th>year</th>\n",
       "      <th>city_name</th>\n",
       "      <th>id_city</th>\n",
       "      <th>city_population</th>\n",
       "      <th>state</th>\n",
       "      <th>city</th>\n",
       "    </tr>\n",
       "  </thead>\n",
       "  <tbody>\n",
       "    <tr>\n",
       "      <th>0</th>\n",
       "      <td>1977</td>\n",
       "      <td>AK: Anchorage</td>\n",
       "      <td>22002001.0</td>\n",
       "      <td>174500</td>\n",
       "      <td>AK</td>\n",
       "      <td>Anchorage</td>\n",
       "    </tr>\n",
       "    <tr>\n",
       "      <th>1</th>\n",
       "      <td>1978</td>\n",
       "      <td>AK: Anchorage</td>\n",
       "      <td>22002001.0</td>\n",
       "      <td>177000</td>\n",
       "      <td>AK</td>\n",
       "      <td>Anchorage</td>\n",
       "    </tr>\n",
       "  </tbody>\n",
       "</table>\n",
       "</div>"
      ],
      "text/plain": [
       "   year      city_name     id_city  city_population state        city\n",
       "0  1977  AK: Anchorage  22002001.0           174500    AK   Anchorage\n",
       "1  1978  AK: Anchorage  22002001.0           177000    AK   Anchorage"
      ]
     },
     "execution_count": 62,
     "metadata": {},
     "output_type": "execute_result"
    }
   ],
   "source": [
    "city_population.head(2)"
   ]
  },
  {
   "cell_type": "markdown",
   "metadata": {
    "editable": true
   },
   "source": [
    "- Need to remove all the whitespace in data"
   ]
  },
  {
   "cell_type": "code",
   "execution_count": 63,
   "metadata": {
    "editable": true
   },
   "outputs": [
    {
     "name": "stderr",
     "output_type": "stream",
     "text": [
      "/opt/conda/lib/python3.6/site-packages/ipykernel_launcher.py:1: SettingWithCopyWarning: \n",
      "A value is trying to be set on a copy of a slice from a DataFrame.\n",
      "Try using .loc[row_indexer,col_indexer] = value instead\n",
      "\n",
      "See the caveats in the documentation: https://pandas.pydata.org/pandas-docs/stable/user_guide/indexing.html#returning-a-view-versus-a-copy\n",
      "  \"\"\"Entry point for launching an IPython kernel.\n"
     ]
    }
   ],
   "source": [
    "city_population['city']=city_population.city.str.lstrip()"
   ]
  },
  {
   "cell_type": "code",
   "execution_count": 64,
   "metadata": {
    "editable": true
   },
   "outputs": [
    {
     "data": {
      "text/html": [
       "<div>\n",
       "<style scoped>\n",
       "    .dataframe tbody tr th:only-of-type {\n",
       "        vertical-align: middle;\n",
       "    }\n",
       "\n",
       "    .dataframe tbody tr th {\n",
       "        vertical-align: top;\n",
       "    }\n",
       "\n",
       "    .dataframe thead th {\n",
       "        text-align: right;\n",
       "    }\n",
       "</style>\n",
       "<table border=\"1\" class=\"dataframe\">\n",
       "  <thead>\n",
       "    <tr style=\"text-align: right;\">\n",
       "      <th></th>\n",
       "      <th>year</th>\n",
       "      <th>city_name</th>\n",
       "      <th>id_city</th>\n",
       "      <th>city_population</th>\n",
       "      <th>state</th>\n",
       "      <th>city</th>\n",
       "    </tr>\n",
       "  </thead>\n",
       "  <tbody>\n",
       "    <tr>\n",
       "      <th>0</th>\n",
       "      <td>1977</td>\n",
       "      <td>AK: Anchorage</td>\n",
       "      <td>22002001.0</td>\n",
       "      <td>174500</td>\n",
       "      <td>AK</td>\n",
       "      <td>Anchorage</td>\n",
       "    </tr>\n",
       "    <tr>\n",
       "      <th>1</th>\n",
       "      <td>1978</td>\n",
       "      <td>AK: Anchorage</td>\n",
       "      <td>22002001.0</td>\n",
       "      <td>177000</td>\n",
       "      <td>AK</td>\n",
       "      <td>Anchorage</td>\n",
       "    </tr>\n",
       "  </tbody>\n",
       "</table>\n",
       "</div>"
      ],
      "text/plain": [
       "   year      city_name     id_city  city_population state       city\n",
       "0  1977  AK: Anchorage  22002001.0           174500    AK  Anchorage\n",
       "1  1978  AK: Anchorage  22002001.0           177000    AK  Anchorage"
      ]
     },
     "execution_count": 64,
     "metadata": {},
     "output_type": "execute_result"
    }
   ],
   "source": [
    "city_population.head(2)"
   ]
  },
  {
   "cell_type": "code",
   "execution_count": 65,
   "metadata": {
    "editable": true
   },
   "outputs": [
    {
     "data": {
      "text/plain": [
       "6191"
      ]
     },
     "execution_count": 65,
     "metadata": {},
     "output_type": "execute_result"
    }
   ],
   "source": [
    "len(city_population)"
   ]
  },
  {
   "cell_type": "code",
   "execution_count": 66,
   "metadata": {
    "editable": true
   },
   "outputs": [],
   "source": [
    "city_population = city_population.drop(columns=['city_name','id_city'])"
   ]
  },
  {
   "cell_type": "code",
   "execution_count": 67,
   "metadata": {
    "editable": true
   },
   "outputs": [
    {
     "data": {
      "text/html": [
       "<div>\n",
       "<style scoped>\n",
       "    .dataframe tbody tr th:only-of-type {\n",
       "        vertical-align: middle;\n",
       "    }\n",
       "\n",
       "    .dataframe tbody tr th {\n",
       "        vertical-align: top;\n",
       "    }\n",
       "\n",
       "    .dataframe thead th {\n",
       "        text-align: right;\n",
       "    }\n",
       "</style>\n",
       "<table border=\"1\" class=\"dataframe\">\n",
       "  <thead>\n",
       "    <tr style=\"text-align: right;\">\n",
       "      <th></th>\n",
       "      <th>year</th>\n",
       "      <th>city_population</th>\n",
       "      <th>state</th>\n",
       "      <th>city</th>\n",
       "    </tr>\n",
       "  </thead>\n",
       "  <tbody>\n",
       "    <tr>\n",
       "      <th>0</th>\n",
       "      <td>1977</td>\n",
       "      <td>174500</td>\n",
       "      <td>AK</td>\n",
       "      <td>Anchorage</td>\n",
       "    </tr>\n",
       "    <tr>\n",
       "      <th>1</th>\n",
       "      <td>1978</td>\n",
       "      <td>177000</td>\n",
       "      <td>AK</td>\n",
       "      <td>Anchorage</td>\n",
       "    </tr>\n",
       "  </tbody>\n",
       "</table>\n",
       "</div>"
      ],
      "text/plain": [
       "   year  city_population state       city\n",
       "0  1977           174500    AK  Anchorage\n",
       "1  1978           177000    AK  Anchorage"
      ]
     },
     "execution_count": 67,
     "metadata": {},
     "output_type": "execute_result"
    }
   ],
   "source": [
    "city_population.head(2)"
   ]
  },
  {
   "cell_type": "markdown",
   "metadata": {
    "editable": true
   },
   "source": [
    "- I want to use year and combine it with other columns to create a unique primary key. First I need to change the datatype of the \"year\" column before I combine it with others \n"
   ]
  },
  {
   "cell_type": "code",
   "execution_count": 68,
   "metadata": {
    "editable": true
   },
   "outputs": [],
   "source": [
    "city_population['_year'] = city_population['year'].astype(str)"
   ]
  },
  {
   "cell_type": "markdown",
   "metadata": {
    "editable": true
   },
   "source": [
    "- Now I can combine year, city and state to form a unique value for each row"
   ]
  },
  {
   "cell_type": "code",
   "execution_count": 69,
   "metadata": {
    "editable": true
   },
   "outputs": [],
   "source": [
    "city_population[\"city_population_key\"]=city_population['_year']+city_population['city']+city_population['state']"
   ]
  },
  {
   "cell_type": "code",
   "execution_count": 70,
   "metadata": {
    "editable": true
   },
   "outputs": [
    {
     "data": {
      "text/plain": [
       "6150"
      ]
     },
     "execution_count": 70,
     "metadata": {},
     "output_type": "execute_result"
    }
   ],
   "source": [
    "city_population.city_population_key.nunique()"
   ]
  },
  {
   "cell_type": "markdown",
   "metadata": {
    "editable": true
   },
   "source": [
    "- This is weird because the 3 columns I used to create a unique key shouldn't create any duplicated values. It seems that 41 values have been dupplicated. I will keep this in mind but keep exploring"
   ]
  },
  {
   "cell_type": "code",
   "execution_count": 71,
   "metadata": {
    "editable": true
   },
   "outputs": [
    {
     "data": {
      "text/html": [
       "<div>\n",
       "<style scoped>\n",
       "    .dataframe tbody tr th:only-of-type {\n",
       "        vertical-align: middle;\n",
       "    }\n",
       "\n",
       "    .dataframe tbody tr th {\n",
       "        vertical-align: top;\n",
       "    }\n",
       "\n",
       "    .dataframe thead th {\n",
       "        text-align: right;\n",
       "    }\n",
       "</style>\n",
       "<table border=\"1\" class=\"dataframe\">\n",
       "  <thead>\n",
       "    <tr style=\"text-align: right;\">\n",
       "      <th></th>\n",
       "      <th>year</th>\n",
       "      <th>city_population</th>\n",
       "      <th>state</th>\n",
       "      <th>city</th>\n",
       "      <th>_year</th>\n",
       "      <th>city_population_key</th>\n",
       "    </tr>\n",
       "  </thead>\n",
       "  <tbody>\n",
       "    <tr>\n",
       "      <th>0</th>\n",
       "      <td>1977</td>\n",
       "      <td>174500</td>\n",
       "      <td>AK</td>\n",
       "      <td>Anchorage</td>\n",
       "      <td>1977</td>\n",
       "      <td>1977AnchorageAK</td>\n",
       "    </tr>\n",
       "    <tr>\n",
       "      <th>1</th>\n",
       "      <td>1978</td>\n",
       "      <td>177000</td>\n",
       "      <td>AK</td>\n",
       "      <td>Anchorage</td>\n",
       "      <td>1978</td>\n",
       "      <td>1978AnchorageAK</td>\n",
       "    </tr>\n",
       "  </tbody>\n",
       "</table>\n",
       "</div>"
      ],
      "text/plain": [
       "   year  city_population state       city _year city_population_key\n",
       "0  1977           174500    AK  Anchorage  1977     1977AnchorageAK\n",
       "1  1978           177000    AK  Anchorage  1978     1978AnchorageAK"
      ]
     },
     "execution_count": 71,
     "metadata": {},
     "output_type": "execute_result"
    }
   ],
   "source": [
    "city_population.head(2)"
   ]
  },
  {
   "cell_type": "code",
   "execution_count": 72,
   "metadata": {
    "editable": true
   },
   "outputs": [],
   "source": [
    "city_population = city_population.drop(columns='_year')\n",
    "# Dropping unused column"
   ]
  },
  {
   "cell_type": "code",
   "execution_count": 73,
   "metadata": {
    "editable": true
   },
   "outputs": [
    {
     "data": {
      "text/html": [
       "<div>\n",
       "<style scoped>\n",
       "    .dataframe tbody tr th:only-of-type {\n",
       "        vertical-align: middle;\n",
       "    }\n",
       "\n",
       "    .dataframe tbody tr th {\n",
       "        vertical-align: top;\n",
       "    }\n",
       "\n",
       "    .dataframe thead th {\n",
       "        text-align: right;\n",
       "    }\n",
       "</style>\n",
       "<table border=\"1\" class=\"dataframe\">\n",
       "  <thead>\n",
       "    <tr style=\"text-align: right;\">\n",
       "      <th></th>\n",
       "      <th>year</th>\n",
       "      <th>city_population</th>\n",
       "      <th>state</th>\n",
       "      <th>city</th>\n",
       "      <th>city_population_key</th>\n",
       "    </tr>\n",
       "  </thead>\n",
       "  <tbody>\n",
       "    <tr>\n",
       "      <th>0</th>\n",
       "      <td>1977</td>\n",
       "      <td>174500</td>\n",
       "      <td>AK</td>\n",
       "      <td>Anchorage</td>\n",
       "      <td>1977AnchorageAK</td>\n",
       "    </tr>\n",
       "    <tr>\n",
       "      <th>1</th>\n",
       "      <td>1978</td>\n",
       "      <td>177000</td>\n",
       "      <td>AK</td>\n",
       "      <td>Anchorage</td>\n",
       "      <td>1978AnchorageAK</td>\n",
       "    </tr>\n",
       "  </tbody>\n",
       "</table>\n",
       "</div>"
      ],
      "text/plain": [
       "   year  city_population state       city city_population_key\n",
       "0  1977           174500    AK  Anchorage     1977AnchorageAK\n",
       "1  1978           177000    AK  Anchorage     1978AnchorageAK"
      ]
     },
     "execution_count": 73,
     "metadata": {},
     "output_type": "execute_result"
    }
   ],
   "source": [
    "city_population.head(2)"
   ]
  },
  {
   "cell_type": "code",
   "execution_count": 74,
   "metadata": {
    "editable": true
   },
   "outputs": [],
   "source": [
    "city_population = city_population.reindex(columns=['city_population_key',\"year\",\"city_population\",\"state\",\"city\"])"
   ]
  },
  {
   "cell_type": "code",
   "execution_count": 75,
   "metadata": {
    "editable": true
   },
   "outputs": [
    {
     "data": {
      "text/plain": [
       "6191"
      ]
     },
     "execution_count": 75,
     "metadata": {},
     "output_type": "execute_result"
    }
   ],
   "source": [
    "len(city_population)"
   ]
  },
  {
   "cell_type": "code",
   "execution_count": 76,
   "metadata": {
    "editable": true
   },
   "outputs": [
    {
     "data": {
      "text/html": [
       "<div>\n",
       "<style scoped>\n",
       "    .dataframe tbody tr th:only-of-type {\n",
       "        vertical-align: middle;\n",
       "    }\n",
       "\n",
       "    .dataframe tbody tr th {\n",
       "        vertical-align: top;\n",
       "    }\n",
       "\n",
       "    .dataframe thead th {\n",
       "        text-align: right;\n",
       "    }\n",
       "</style>\n",
       "<table border=\"1\" class=\"dataframe\">\n",
       "  <thead>\n",
       "    <tr style=\"text-align: right;\">\n",
       "      <th></th>\n",
       "      <th>city_population_key</th>\n",
       "      <th>year</th>\n",
       "      <th>city_population</th>\n",
       "      <th>state</th>\n",
       "      <th>city</th>\n",
       "    </tr>\n",
       "    <tr>\n",
       "      <th>state</th>\n",
       "      <th></th>\n",
       "      <th></th>\n",
       "      <th></th>\n",
       "      <th></th>\n",
       "      <th></th>\n",
       "    </tr>\n",
       "  </thead>\n",
       "  <tbody>\n",
       "    <tr>\n",
       "      <th>AK</th>\n",
       "      <td>82</td>\n",
       "      <td>41</td>\n",
       "      <td>82</td>\n",
       "      <td>1</td>\n",
       "      <td>2</td>\n",
       "    </tr>\n",
       "    <tr>\n",
       "      <th>AL</th>\n",
       "      <td>123</td>\n",
       "      <td>41</td>\n",
       "      <td>123</td>\n",
       "      <td>1</td>\n",
       "      <td>3</td>\n",
       "    </tr>\n",
       "    <tr>\n",
       "      <th>AR</th>\n",
       "      <td>82</td>\n",
       "      <td>41</td>\n",
       "      <td>82</td>\n",
       "      <td>1</td>\n",
       "      <td>2</td>\n",
       "    </tr>\n",
       "    <tr>\n",
       "      <th>AZ</th>\n",
       "      <td>123</td>\n",
       "      <td>41</td>\n",
       "      <td>123</td>\n",
       "      <td>1</td>\n",
       "      <td>3</td>\n",
       "    </tr>\n",
       "    <tr>\n",
       "      <th>CA</th>\n",
       "      <td>656</td>\n",
       "      <td>41</td>\n",
       "      <td>656</td>\n",
       "      <td>1</td>\n",
       "      <td>16</td>\n",
       "    </tr>\n",
       "    <tr>\n",
       "      <th>CO</th>\n",
       "      <td>123</td>\n",
       "      <td>41</td>\n",
       "      <td>122</td>\n",
       "      <td>1</td>\n",
       "      <td>3</td>\n",
       "    </tr>\n",
       "    <tr>\n",
       "      <th>CT</th>\n",
       "      <td>123</td>\n",
       "      <td>41</td>\n",
       "      <td>123</td>\n",
       "      <td>1</td>\n",
       "      <td>3</td>\n",
       "    </tr>\n",
       "    <tr>\n",
       "      <th>DC</th>\n",
       "      <td>41</td>\n",
       "      <td>41</td>\n",
       "      <td>41</td>\n",
       "      <td>1</td>\n",
       "      <td>1</td>\n",
       "    </tr>\n",
       "    <tr>\n",
       "      <th>DE</th>\n",
       "      <td>82</td>\n",
       "      <td>41</td>\n",
       "      <td>79</td>\n",
       "      <td>1</td>\n",
       "      <td>2</td>\n",
       "    </tr>\n",
       "    <tr>\n",
       "      <th>FL</th>\n",
       "      <td>328</td>\n",
       "      <td>41</td>\n",
       "      <td>328</td>\n",
       "      <td>1</td>\n",
       "      <td>8</td>\n",
       "    </tr>\n",
       "    <tr>\n",
       "      <th>GA</th>\n",
       "      <td>82</td>\n",
       "      <td>41</td>\n",
       "      <td>82</td>\n",
       "      <td>1</td>\n",
       "      <td>2</td>\n",
       "    </tr>\n",
       "    <tr>\n",
       "      <th>IA</th>\n",
       "      <td>82</td>\n",
       "      <td>41</td>\n",
       "      <td>82</td>\n",
       "      <td>1</td>\n",
       "      <td>2</td>\n",
       "    </tr>\n",
       "    <tr>\n",
       "      <th>ID</th>\n",
       "      <td>82</td>\n",
       "      <td>41</td>\n",
       "      <td>82</td>\n",
       "      <td>1</td>\n",
       "      <td>2</td>\n",
       "    </tr>\n",
       "    <tr>\n",
       "      <th>IL</th>\n",
       "      <td>82</td>\n",
       "      <td>41</td>\n",
       "      <td>82</td>\n",
       "      <td>1</td>\n",
       "      <td>2</td>\n",
       "    </tr>\n",
       "    <tr>\n",
       "      <th>IN</th>\n",
       "      <td>123</td>\n",
       "      <td>41</td>\n",
       "      <td>123</td>\n",
       "      <td>1</td>\n",
       "      <td>3</td>\n",
       "    </tr>\n",
       "    <tr>\n",
       "      <th>KS</th>\n",
       "      <td>123</td>\n",
       "      <td>41</td>\n",
       "      <td>123</td>\n",
       "      <td>1</td>\n",
       "      <td>3</td>\n",
       "    </tr>\n",
       "    <tr>\n",
       "      <th>KY</th>\n",
       "      <td>82</td>\n",
       "      <td>41</td>\n",
       "      <td>82</td>\n",
       "      <td>1</td>\n",
       "      <td>2</td>\n",
       "    </tr>\n",
       "    <tr>\n",
       "      <th>LA</th>\n",
       "      <td>123</td>\n",
       "      <td>41</td>\n",
       "      <td>123</td>\n",
       "      <td>1</td>\n",
       "      <td>3</td>\n",
       "    </tr>\n",
       "    <tr>\n",
       "      <th>MA</th>\n",
       "      <td>123</td>\n",
       "      <td>41</td>\n",
       "      <td>123</td>\n",
       "      <td>1</td>\n",
       "      <td>3</td>\n",
       "    </tr>\n",
       "    <tr>\n",
       "      <th>MD</th>\n",
       "      <td>82</td>\n",
       "      <td>41</td>\n",
       "      <td>82</td>\n",
       "      <td>1</td>\n",
       "      <td>2</td>\n",
       "    </tr>\n",
       "    <tr>\n",
       "      <th>ME</th>\n",
       "      <td>82</td>\n",
       "      <td>41</td>\n",
       "      <td>82</td>\n",
       "      <td>1</td>\n",
       "      <td>2</td>\n",
       "    </tr>\n",
       "    <tr>\n",
       "      <th>MI</th>\n",
       "      <td>164</td>\n",
       "      <td>41</td>\n",
       "      <td>164</td>\n",
       "      <td>1</td>\n",
       "      <td>4</td>\n",
       "    </tr>\n",
       "    <tr>\n",
       "      <th>MN</th>\n",
       "      <td>82</td>\n",
       "      <td>41</td>\n",
       "      <td>82</td>\n",
       "      <td>1</td>\n",
       "      <td>2</td>\n",
       "    </tr>\n",
       "    <tr>\n",
       "      <th>MO</th>\n",
       "      <td>82</td>\n",
       "      <td>41</td>\n",
       "      <td>82</td>\n",
       "      <td>1</td>\n",
       "      <td>2</td>\n",
       "    </tr>\n",
       "    <tr>\n",
       "      <th>MS</th>\n",
       "      <td>82</td>\n",
       "      <td>41</td>\n",
       "      <td>82</td>\n",
       "      <td>1</td>\n",
       "      <td>2</td>\n",
       "    </tr>\n",
       "    <tr>\n",
       "      <th>MT</th>\n",
       "      <td>82</td>\n",
       "      <td>41</td>\n",
       "      <td>82</td>\n",
       "      <td>1</td>\n",
       "      <td>2</td>\n",
       "    </tr>\n",
       "    <tr>\n",
       "      <th>Median for Cities</th>\n",
       "      <td>0</td>\n",
       "      <td>41</td>\n",
       "      <td>41</td>\n",
       "      <td>1</td>\n",
       "      <td>0</td>\n",
       "    </tr>\n",
       "    <tr>\n",
       "      <th>NC</th>\n",
       "      <td>164</td>\n",
       "      <td>41</td>\n",
       "      <td>164</td>\n",
       "      <td>1</td>\n",
       "      <td>4</td>\n",
       "    </tr>\n",
       "    <tr>\n",
       "      <th>ND</th>\n",
       "      <td>82</td>\n",
       "      <td>41</td>\n",
       "      <td>82</td>\n",
       "      <td>1</td>\n",
       "      <td>2</td>\n",
       "    </tr>\n",
       "    <tr>\n",
       "      <th>NE</th>\n",
       "      <td>82</td>\n",
       "      <td>41</td>\n",
       "      <td>82</td>\n",
       "      <td>1</td>\n",
       "      <td>2</td>\n",
       "    </tr>\n",
       "    <tr>\n",
       "      <th>NH</th>\n",
       "      <td>82</td>\n",
       "      <td>41</td>\n",
       "      <td>82</td>\n",
       "      <td>1</td>\n",
       "      <td>2</td>\n",
       "    </tr>\n",
       "    <tr>\n",
       "      <th>NM</th>\n",
       "      <td>82</td>\n",
       "      <td>41</td>\n",
       "      <td>82</td>\n",
       "      <td>1</td>\n",
       "      <td>2</td>\n",
       "    </tr>\n",
       "    <tr>\n",
       "      <th>NV</th>\n",
       "      <td>82</td>\n",
       "      <td>41</td>\n",
       "      <td>82</td>\n",
       "      <td>1</td>\n",
       "      <td>2</td>\n",
       "    </tr>\n",
       "    <tr>\n",
       "      <th>NY</th>\n",
       "      <td>205</td>\n",
       "      <td>41</td>\n",
       "      <td>205</td>\n",
       "      <td>1</td>\n",
       "      <td>5</td>\n",
       "    </tr>\n",
       "    <tr>\n",
       "      <th>OH</th>\n",
       "      <td>246</td>\n",
       "      <td>41</td>\n",
       "      <td>246</td>\n",
       "      <td>1</td>\n",
       "      <td>6</td>\n",
       "    </tr>\n",
       "    <tr>\n",
       "      <th>OK</th>\n",
       "      <td>82</td>\n",
       "      <td>41</td>\n",
       "      <td>82</td>\n",
       "      <td>1</td>\n",
       "      <td>2</td>\n",
       "    </tr>\n",
       "    <tr>\n",
       "      <th>OR</th>\n",
       "      <td>123</td>\n",
       "      <td>41</td>\n",
       "      <td>123</td>\n",
       "      <td>1</td>\n",
       "      <td>3</td>\n",
       "    </tr>\n",
       "    <tr>\n",
       "      <th>PA</th>\n",
       "      <td>82</td>\n",
       "      <td>41</td>\n",
       "      <td>82</td>\n",
       "      <td>1</td>\n",
       "      <td>2</td>\n",
       "    </tr>\n",
       "    <tr>\n",
       "      <th>RI</th>\n",
       "      <td>82</td>\n",
       "      <td>41</td>\n",
       "      <td>82</td>\n",
       "      <td>1</td>\n",
       "      <td>2</td>\n",
       "    </tr>\n",
       "    <tr>\n",
       "      <th>SC</th>\n",
       "      <td>82</td>\n",
       "      <td>41</td>\n",
       "      <td>82</td>\n",
       "      <td>1</td>\n",
       "      <td>2</td>\n",
       "    </tr>\n",
       "    <tr>\n",
       "      <th>SD</th>\n",
       "      <td>82</td>\n",
       "      <td>41</td>\n",
       "      <td>82</td>\n",
       "      <td>1</td>\n",
       "      <td>2</td>\n",
       "    </tr>\n",
       "    <tr>\n",
       "      <th>TN</th>\n",
       "      <td>164</td>\n",
       "      <td>41</td>\n",
       "      <td>164</td>\n",
       "      <td>1</td>\n",
       "      <td>4</td>\n",
       "    </tr>\n",
       "    <tr>\n",
       "      <th>TX</th>\n",
       "      <td>410</td>\n",
       "      <td>41</td>\n",
       "      <td>410</td>\n",
       "      <td>1</td>\n",
       "      <td>10</td>\n",
       "    </tr>\n",
       "    <tr>\n",
       "      <th>UT</th>\n",
       "      <td>82</td>\n",
       "      <td>41</td>\n",
       "      <td>82</td>\n",
       "      <td>1</td>\n",
       "      <td>2</td>\n",
       "    </tr>\n",
       "    <tr>\n",
       "      <th>VA</th>\n",
       "      <td>164</td>\n",
       "      <td>41</td>\n",
       "      <td>163</td>\n",
       "      <td>1</td>\n",
       "      <td>4</td>\n",
       "    </tr>\n",
       "    <tr>\n",
       "      <th>VT</th>\n",
       "      <td>82</td>\n",
       "      <td>41</td>\n",
       "      <td>81</td>\n",
       "      <td>1</td>\n",
       "      <td>2</td>\n",
       "    </tr>\n",
       "    <tr>\n",
       "      <th>WA</th>\n",
       "      <td>123</td>\n",
       "      <td>41</td>\n",
       "      <td>123</td>\n",
       "      <td>1</td>\n",
       "      <td>3</td>\n",
       "    </tr>\n",
       "    <tr>\n",
       "      <th>WI</th>\n",
       "      <td>82</td>\n",
       "      <td>41</td>\n",
       "      <td>82</td>\n",
       "      <td>1</td>\n",
       "      <td>2</td>\n",
       "    </tr>\n",
       "    <tr>\n",
       "      <th>WV</th>\n",
       "      <td>82</td>\n",
       "      <td>41</td>\n",
       "      <td>82</td>\n",
       "      <td>1</td>\n",
       "      <td>2</td>\n",
       "    </tr>\n",
       "    <tr>\n",
       "      <th>WY</th>\n",
       "      <td>82</td>\n",
       "      <td>41</td>\n",
       "      <td>82</td>\n",
       "      <td>1</td>\n",
       "      <td>2</td>\n",
       "    </tr>\n",
       "  </tbody>\n",
       "</table>\n",
       "</div>"
      ],
      "text/plain": [
       "                   city_population_key  year  city_population  state  city\n",
       "state                                                                     \n",
       "AK                                  82    41               82      1     2\n",
       "AL                                 123    41              123      1     3\n",
       "AR                                  82    41               82      1     2\n",
       "AZ                                 123    41              123      1     3\n",
       "CA                                 656    41              656      1    16\n",
       "CO                                 123    41              122      1     3\n",
       "CT                                 123    41              123      1     3\n",
       "DC                                  41    41               41      1     1\n",
       "DE                                  82    41               79      1     2\n",
       "FL                                 328    41              328      1     8\n",
       "GA                                  82    41               82      1     2\n",
       "IA                                  82    41               82      1     2\n",
       "ID                                  82    41               82      1     2\n",
       "IL                                  82    41               82      1     2\n",
       "IN                                 123    41              123      1     3\n",
       "KS                                 123    41              123      1     3\n",
       "KY                                  82    41               82      1     2\n",
       "LA                                 123    41              123      1     3\n",
       "MA                                 123    41              123      1     3\n",
       "MD                                  82    41               82      1     2\n",
       "ME                                  82    41               82      1     2\n",
       "MI                                 164    41              164      1     4\n",
       "MN                                  82    41               82      1     2\n",
       "MO                                  82    41               82      1     2\n",
       "MS                                  82    41               82      1     2\n",
       "MT                                  82    41               82      1     2\n",
       "Median for Cities                    0    41               41      1     0\n",
       "NC                                 164    41              164      1     4\n",
       "ND                                  82    41               82      1     2\n",
       "NE                                  82    41               82      1     2\n",
       "NH                                  82    41               82      1     2\n",
       "NM                                  82    41               82      1     2\n",
       "NV                                  82    41               82      1     2\n",
       "NY                                 205    41              205      1     5\n",
       "OH                                 246    41              246      1     6\n",
       "OK                                  82    41               82      1     2\n",
       "OR                                 123    41              123      1     3\n",
       "PA                                  82    41               82      1     2\n",
       "RI                                  82    41               82      1     2\n",
       "SC                                  82    41               82      1     2\n",
       "SD                                  82    41               82      1     2\n",
       "TN                                 164    41              164      1     4\n",
       "TX                                 410    41              410      1    10\n",
       "UT                                  82    41               82      1     2\n",
       "VA                                 164    41              163      1     4\n",
       "VT                                  82    41               81      1     2\n",
       "WA                                 123    41              123      1     3\n",
       "WI                                  82    41               82      1     2\n",
       "WV                                  82    41               82      1     2\n",
       "WY                                  82    41               82      1     2"
      ]
     },
     "execution_count": 76,
     "metadata": {},
     "output_type": "execute_result"
    }
   ],
   "source": [
    "city_population.groupby('state').nunique()"
   ]
  },
  {
   "cell_type": "markdown",
   "metadata": {
    "editable": true
   },
   "source": [
    "- I noticed that this dataset has median values for cities, which I don't want. So I am going to delete these records. This explains why I had 41 duplicated values for my primary key."
   ]
  },
  {
   "cell_type": "code",
   "execution_count": 77,
   "metadata": {
    "editable": true
   },
   "outputs": [
    {
     "data": {
      "text/plain": [
       "city_population_key     0\n",
       "year                   41\n",
       "city_population        41\n",
       "state                  41\n",
       "city                    0\n",
       "dtype: int64"
      ]
     },
     "execution_count": 77,
     "metadata": {},
     "output_type": "execute_result"
    }
   ],
   "source": [
    "city_population.query('state == \"Median for Cities\"').count()"
   ]
  },
  {
   "cell_type": "markdown",
   "metadata": {
    "editable": true
   },
   "source": [
    "- After deleting the 41 records, I should expect to 6150 records in the dataset"
   ]
  },
  {
   "cell_type": "code",
   "execution_count": 78,
   "metadata": {
    "editable": true
   },
   "outputs": [],
   "source": [
    "city_population = city_population.query('state != \"Median for Cities\"')"
   ]
  },
  {
   "cell_type": "code",
   "execution_count": 79,
   "metadata": {
    "editable": true
   },
   "outputs": [
    {
     "data": {
      "text/plain": [
       "6150"
      ]
     },
     "execution_count": 79,
     "metadata": {},
     "output_type": "execute_result"
    }
   ],
   "source": [
    "len(city_population)"
   ]
  },
  {
   "cell_type": "code",
   "execution_count": 80,
   "metadata": {
    "editable": true
   },
   "outputs": [],
   "source": [
    "city_population_file = 'city_population.csv'"
   ]
  },
  {
   "cell_type": "code",
   "execution_count": 225,
   "metadata": {
    "editable": true
   },
   "outputs": [],
   "source": [
    "city_population.to_csv(os.path.join(s3path, city_population_file), header=True, index = False)"
   ]
  },
  {
   "cell_type": "markdown",
   "metadata": {
    "editable": true
   },
   "source": [
    "#### 3. Police Killings"
   ]
  },
  {
   "cell_type": "code",
   "execution_count": 82,
   "metadata": {
    "editable": true
   },
   "outputs": [
    {
     "data": {
      "text/html": [
       "<div>\n",
       "<style scoped>\n",
       "    .dataframe tbody tr th:only-of-type {\n",
       "        vertical-align: middle;\n",
       "    }\n",
       "\n",
       "    .dataframe tbody tr th {\n",
       "        vertical-align: top;\n",
       "    }\n",
       "\n",
       "    .dataframe thead th {\n",
       "        text-align: right;\n",
       "    }\n",
       "</style>\n",
       "<table border=\"1\" class=\"dataframe\">\n",
       "  <thead>\n",
       "    <tr style=\"text-align: right;\">\n",
       "      <th></th>\n",
       "      <th>Victim's name</th>\n",
       "      <th>Victim's age</th>\n",
       "      <th>Victim's gender</th>\n",
       "      <th>Victim's race</th>\n",
       "      <th>URL of image of victim</th>\n",
       "      <th>Date of Incident (month/day/year)</th>\n",
       "      <th>Street Address of Incident</th>\n",
       "      <th>City</th>\n",
       "      <th>State</th>\n",
       "      <th>Zipcode</th>\n",
       "      <th>...</th>\n",
       "      <th>Unnamed: 56</th>\n",
       "      <th>Unnamed: 57</th>\n",
       "      <th>Unnamed: 58</th>\n",
       "      <th>Unnamed: 59</th>\n",
       "      <th>Unnamed: 60</th>\n",
       "      <th>Unnamed: 61</th>\n",
       "      <th>Unnamed: 62</th>\n",
       "      <th>Unnamed: 63</th>\n",
       "      <th>Unnamed: 64</th>\n",
       "      <th>Unnamed: 65</th>\n",
       "    </tr>\n",
       "  </thead>\n",
       "  <tbody>\n",
       "    <tr>\n",
       "      <th>0</th>\n",
       "      <td>Eric M. Tellez</td>\n",
       "      <td>28</td>\n",
       "      <td>Male</td>\n",
       "      <td>White</td>\n",
       "      <td>https://fatalencounters.org/wp-content/uploads...</td>\n",
       "      <td>31/12/2019</td>\n",
       "      <td>Broad St.</td>\n",
       "      <td>Globe</td>\n",
       "      <td>AZ</td>\n",
       "      <td>85501.0</td>\n",
       "      <td>...</td>\n",
       "      <td>NaN</td>\n",
       "      <td>NaN</td>\n",
       "      <td>NaN</td>\n",
       "      <td>NaN</td>\n",
       "      <td>NaN</td>\n",
       "      <td>NaN</td>\n",
       "      <td>NaN</td>\n",
       "      <td>NaN</td>\n",
       "      <td>NaN</td>\n",
       "      <td>NaN</td>\n",
       "    </tr>\n",
       "    <tr>\n",
       "      <th>1</th>\n",
       "      <td>Name withheld by police</td>\n",
       "      <td>NaN</td>\n",
       "      <td>Male</td>\n",
       "      <td>Unknown race</td>\n",
       "      <td>NaN</td>\n",
       "      <td>31/12/2019</td>\n",
       "      <td>7239-7411 I-40</td>\n",
       "      <td>Memphis</td>\n",
       "      <td>AR</td>\n",
       "      <td>38103.0</td>\n",
       "      <td>...</td>\n",
       "      <td>NaN</td>\n",
       "      <td>NaN</td>\n",
       "      <td>NaN</td>\n",
       "      <td>NaN</td>\n",
       "      <td>NaN</td>\n",
       "      <td>NaN</td>\n",
       "      <td>NaN</td>\n",
       "      <td>NaN</td>\n",
       "      <td>NaN</td>\n",
       "      <td>NaN</td>\n",
       "    </tr>\n",
       "  </tbody>\n",
       "</table>\n",
       "<p>2 rows × 66 columns</p>\n",
       "</div>"
      ],
      "text/plain": [
       "             Victim's name Victim's age Victim's gender Victim's race  \\\n",
       "0           Eric M. Tellez           28            Male         White   \n",
       "1  Name withheld by police          NaN            Male  Unknown race   \n",
       "\n",
       "                              URL of image of victim  \\\n",
       "0  https://fatalencounters.org/wp-content/uploads...   \n",
       "1                                                NaN   \n",
       "\n",
       "  Date of Incident (month/day/year) Street Address of Incident     City State  \\\n",
       "0                        31/12/2019                 Broad St.     Globe    AZ   \n",
       "1                        31/12/2019             7239-7411 I-40  Memphis    AR   \n",
       "\n",
       "   Zipcode  ... Unnamed: 56 Unnamed: 57 Unnamed: 58 Unnamed: 59 Unnamed: 60  \\\n",
       "0  85501.0  ...         NaN         NaN         NaN         NaN         NaN   \n",
       "1  38103.0  ...         NaN         NaN         NaN         NaN         NaN   \n",
       "\n",
       "  Unnamed: 61 Unnamed: 62 Unnamed: 63 Unnamed: 64 Unnamed: 65  \n",
       "0         NaN         NaN         NaN         NaN         NaN  \n",
       "1         NaN         NaN         NaN         NaN         NaN  \n",
       "\n",
       "[2 rows x 66 columns]"
      ]
     },
     "execution_count": 82,
     "metadata": {},
     "output_type": "execute_result"
    }
   ],
   "source": [
    "police_killings_df.head(2)"
   ]
  },
  {
   "cell_type": "code",
   "execution_count": 83,
   "metadata": {
    "editable": true
   },
   "outputs": [
    {
     "name": "stdout",
     "output_type": "stream",
     "text": [
      "<class 'pandas.core.frame.DataFrame'>\n",
      "RangeIndex: 7907 entries, 0 to 7906\n",
      "Data columns (total 66 columns):\n",
      " #   Column                                                                                                                                                                      Non-Null Count  Dtype  \n",
      "---  ------                                                                                                                                                                      --------------  -----  \n",
      " 0   Victim's name                                                                                                                                                               7663 non-null   object \n",
      " 1   Victim's age                                                                                                                                                                7596 non-null   object \n",
      " 2   Victim's gender                                                                                                                                                             7655 non-null   object \n",
      " 3   Victim's race                                                                                                                                                               7663 non-null   object \n",
      " 4   URL of image of victim                                                                                                                                                      4200 non-null   object \n",
      " 5   Date of Incident (month/day/year)                                                                                                                                           7663 non-null   object \n",
      " 6   Street Address of Incident                                                                                                                                                  7580 non-null   object \n",
      " 7   City                                                                                                                                                                        7657 non-null   object \n",
      " 8   State                                                                                                                                                                       7663 non-null   object \n",
      " 9   Zipcode                                                                                                                                                                     7624 non-null   float64\n",
      " 10  County                                                                                                                                                                      7648 non-null   object \n",
      " 11  Agency responsible for death                                                                                                                                                7647 non-null   object \n",
      " 12  Cause of death                                                                                                                                                              7663 non-null   object \n",
      " 13  A brief description of the circumstances surrounding the death                                                                                                              7643 non-null   object \n",
      " 14  Official disposition of death (justified or other)                                                                                                                          7407 non-null   object \n",
      " 15  Criminal Charges?                                                                                                                                                           7663 non-null   object \n",
      " 16  Link to news article or photo of official document                                                                                                                          7651 non-null   object \n",
      " 17  Symptoms of mental illness?                                                                                                                                                 7652 non-null   object \n",
      " 18  Unarmed                                                                                                                                                                     7663 non-null   object \n",
      " 19  Alleged Weapon (Source: WaPo)                                                                                                                                               7663 non-null   object \n",
      " 20  Alleged Threat Level (Source: WaPo)                                                                                                                                         5281 non-null   object \n",
      " 21  Fleeing (Source: WaPo)                                                                                                                                                      5047 non-null   object \n",
      " 22  Body Camera (Source: WaPo)                                                                                                                                                  4794 non-null   object \n",
      " 23  WaPo ID (If included in WaPo database)                                                                                                                                      4878 non-null   float64\n",
      " 24  Off-Duty Killing?                                                                                                                                                           226 non-null    object \n",
      " 25  Geography (via Trulia methodology based on zipcode population density: http://jedkolko.com/wp-content/uploads/2015/05/full-ZCTA-urban-suburban-rural-classification.xlsx )  7596 non-null   object \n",
      " 26  ID                                                                                                                                                                          7663 non-null   float64\n",
      " 27  Unnamed: 27                                                                                                                                                                 0 non-null      float64\n",
      " 28  Unnamed: 28                                                                                                                                                                 0 non-null      float64\n",
      " 29  Unnamed: 29                                                                                                                                                                 0 non-null      float64\n",
      " 30  Unnamed: 30                                                                                                                                                                 0 non-null      float64\n",
      " 31  Unnamed: 31                                                                                                                                                                 0 non-null      float64\n",
      " 32  Unnamed: 32                                                                                                                                                                 0 non-null      float64\n",
      " 33  Unnamed: 33                                                                                                                                                                 0 non-null      float64\n",
      " 34  Unnamed: 34                                                                                                                                                                 0 non-null      float64\n",
      " 35  Unnamed: 35                                                                                                                                                                 0 non-null      float64\n",
      " 36  Unnamed: 36                                                                                                                                                                 0 non-null      float64\n",
      " 37  Unnamed: 37                                                                                                                                                                 0 non-null      float64\n",
      " 38  Unnamed: 38                                                                                                                                                                 0 non-null      float64\n",
      " 39  Unnamed: 39                                                                                                                                                                 0 non-null      float64\n",
      " 40  Unnamed: 40                                                                                                                                                                 0 non-null      float64\n",
      " 41  Unnamed: 41                                                                                                                                                                 0 non-null      float64\n",
      " 42  Unnamed: 42                                                                                                                                                                 0 non-null      float64\n",
      " 43  Unnamed: 43                                                                                                                                                                 0 non-null      float64\n",
      " 44  Unnamed: 44                                                                                                                                                                 0 non-null      float64\n",
      " 45  Unnamed: 45                                                                                                                                                                 0 non-null      float64\n",
      " 46  Unnamed: 46                                                                                                                                                                 0 non-null      float64\n",
      " 47  Unnamed: 47                                                                                                                                                                 0 non-null      float64\n",
      " 48  Unnamed: 48                                                                                                                                                                 0 non-null      float64\n",
      " 49  Unnamed: 49                                                                                                                                                                 0 non-null      float64\n",
      " 50  Unnamed: 50                                                                                                                                                                 0 non-null      float64\n",
      " 51  Unnamed: 51                                                                                                                                                                 0 non-null      float64\n",
      " 52  Unnamed: 52                                                                                                                                                                 0 non-null      float64\n",
      " 53  Unnamed: 53                                                                                                                                                                 0 non-null      float64\n",
      " 54  Unnamed: 54                                                                                                                                                                 0 non-null      float64\n",
      " 55  Unnamed: 55                                                                                                                                                                 0 non-null      float64\n",
      " 56  Unnamed: 56                                                                                                                                                                 0 non-null      float64\n",
      " 57  Unnamed: 57                                                                                                                                                                 0 non-null      float64\n",
      " 58  Unnamed: 58                                                                                                                                                                 0 non-null      float64\n",
      " 59  Unnamed: 59                                                                                                                                                                 0 non-null      float64\n",
      " 60  Unnamed: 60                                                                                                                                                                 0 non-null      float64\n",
      " 61  Unnamed: 61                                                                                                                                                                 0 non-null      float64\n",
      " 62  Unnamed: 62                                                                                                                                                                 0 non-null      float64\n",
      " 63  Unnamed: 63                                                                                                                                                                 0 non-null      float64\n",
      " 64  Unnamed: 64                                                                                                                                                                 0 non-null      float64\n",
      " 65  Unnamed: 65                                                                                                                                                                 0 non-null      float64\n",
      "dtypes: float64(42), object(24)\n",
      "memory usage: 4.0+ MB\n"
     ]
    }
   ],
   "source": [
    "police_killings_df.info()"
   ]
  },
  {
   "cell_type": "markdown",
   "metadata": {
    "editable": true
   },
   "source": [
    "- There are a lot of unmaned columns with no value. I will delete them"
   ]
  },
  {
   "cell_type": "code",
   "execution_count": 84,
   "metadata": {
    "editable": true
   },
   "outputs": [
    {
     "data": {
      "text/plain": [
       "7907"
      ]
     },
     "execution_count": 84,
     "metadata": {},
     "output_type": "execute_result"
    }
   ],
   "source": [
    "len(police_killings_df)"
   ]
  },
  {
   "cell_type": "markdown",
   "metadata": {
    "editable": true
   },
   "source": [
    "- This dataset has 7907 rows"
   ]
  },
  {
   "cell_type": "code",
   "execution_count": 85,
   "metadata": {
    "editable": true
   },
   "outputs": [],
   "source": [
    "police_killings_cleaned = police_killings_df[[\"Victim's name\", \"Victim's age\", \"Victim's gender\",\"Victim's race\",\"URL of image of victim\",\"Date of Incident (month/day/year)\",\"Street Address of Incident\"\\\n",
    "                                             ,\"City\",\"State\",\"Zipcode\",\"County\",\"Agency responsible for death\",\"Cause of death\",\"A brief description of the circumstances surrounding the death\"\\\n",
    "                                             ,\"Official disposition of death (justified or other)\",\"Criminal Charges?\",\"Link to news article or photo of official document\",\"Symptoms of mental illness?\"\\\n",
    "                                             ,\"Unarmed\",\"Alleged Weapon (Source: WaPo)\",\"Alleged Threat Level (Source: WaPo)\",\"Fleeing (Source: WaPo)\",\"Body Camera (Source: WaPo)\",\"WaPo ID (If included in WaPo database)\"\\\n",
    "                                             ,\"Off-Duty Killing?\",\"Geography (via Trulia methodology based on zipcode population density: http://jedkolko.com/wp-content/uploads/2015/05/full-ZCTA-urban-suburban-rural-classification.xlsx )\"\\\n",
    "                                             ,\"ID\"]]"
   ]
  },
  {
   "cell_type": "code",
   "execution_count": 86,
   "metadata": {
    "editable": true
   },
   "outputs": [
    {
     "data": {
      "text/plain": [
       "Victim's name                                                                                                                                                                 7663\n",
       "Victim's age                                                                                                                                                                  7596\n",
       "Victim's gender                                                                                                                                                               7655\n",
       "Victim's race                                                                                                                                                                 7663\n",
       "URL of image of victim                                                                                                                                                        4200\n",
       "Date of Incident (month/day/year)                                                                                                                                             7663\n",
       "Street Address of Incident                                                                                                                                                    7580\n",
       "City                                                                                                                                                                          7657\n",
       "State                                                                                                                                                                         7663\n",
       "Zipcode                                                                                                                                                                       7624\n",
       "County                                                                                                                                                                        7648\n",
       "Agency responsible for death                                                                                                                                                  7647\n",
       "Cause of death                                                                                                                                                                7663\n",
       "A brief description of the circumstances surrounding the death                                                                                                                7643\n",
       "Official disposition of death (justified or other)                                                                                                                            7407\n",
       "Criminal Charges?                                                                                                                                                             7663\n",
       "Link to news article or photo of official document                                                                                                                            7651\n",
       "Symptoms of mental illness?                                                                                                                                                   7652\n",
       "Unarmed                                                                                                                                                                       7663\n",
       "Alleged Weapon (Source: WaPo)                                                                                                                                                 7663\n",
       "Alleged Threat Level (Source: WaPo)                                                                                                                                           5281\n",
       "Fleeing (Source: WaPo)                                                                                                                                                        5047\n",
       "Body Camera (Source: WaPo)                                                                                                                                                    4794\n",
       "WaPo ID (If included in WaPo database)                                                                                                                                        4878\n",
       "Off-Duty Killing?                                                                                                                                                              226\n",
       "Geography (via Trulia methodology based on zipcode population density: http://jedkolko.com/wp-content/uploads/2015/05/full-ZCTA-urban-suburban-rural-classification.xlsx )    7596\n",
       "ID                                                                                                                                                                            7663\n",
       "dtype: int64"
      ]
     },
     "execution_count": 86,
     "metadata": {},
     "output_type": "execute_result"
    }
   ],
   "source": [
    "police_killings_cleaned.count()"
   ]
  },
  {
   "cell_type": "code",
   "execution_count": 87,
   "metadata": {
    "editable": true
   },
   "outputs": [
    {
     "data": {
      "text/html": [
       "<div>\n",
       "<style scoped>\n",
       "    .dataframe tbody tr th:only-of-type {\n",
       "        vertical-align: middle;\n",
       "    }\n",
       "\n",
       "    .dataframe tbody tr th {\n",
       "        vertical-align: top;\n",
       "    }\n",
       "\n",
       "    .dataframe thead th {\n",
       "        text-align: right;\n",
       "    }\n",
       "</style>\n",
       "<table border=\"1\" class=\"dataframe\">\n",
       "  <thead>\n",
       "    <tr style=\"text-align: right;\">\n",
       "      <th></th>\n",
       "      <th>Victim's name</th>\n",
       "      <th>Victim's age</th>\n",
       "      <th>Victim's gender</th>\n",
       "      <th>Victim's race</th>\n",
       "      <th>URL of image of victim</th>\n",
       "      <th>Date of Incident (month/day/year)</th>\n",
       "      <th>Street Address of Incident</th>\n",
       "      <th>City</th>\n",
       "      <th>State</th>\n",
       "      <th>Zipcode</th>\n",
       "      <th>...</th>\n",
       "      <th>Symptoms of mental illness?</th>\n",
       "      <th>Unarmed</th>\n",
       "      <th>Alleged Weapon (Source: WaPo)</th>\n",
       "      <th>Alleged Threat Level (Source: WaPo)</th>\n",
       "      <th>Fleeing (Source: WaPo)</th>\n",
       "      <th>Body Camera (Source: WaPo)</th>\n",
       "      <th>WaPo ID (If included in WaPo database)</th>\n",
       "      <th>Off-Duty Killing?</th>\n",
       "      <th>Geography (via Trulia methodology based on zipcode population density: http://jedkolko.com/wp-content/uploads/2015/05/full-ZCTA-urban-suburban-rural-classification.xlsx )</th>\n",
       "      <th>ID</th>\n",
       "    </tr>\n",
       "  </thead>\n",
       "  <tbody>\n",
       "    <tr>\n",
       "      <th>0</th>\n",
       "      <td>Eric M. Tellez</td>\n",
       "      <td>28</td>\n",
       "      <td>Male</td>\n",
       "      <td>White</td>\n",
       "      <td>https://fatalencounters.org/wp-content/uploads...</td>\n",
       "      <td>31/12/2019</td>\n",
       "      <td>Broad St.</td>\n",
       "      <td>Globe</td>\n",
       "      <td>AZ</td>\n",
       "      <td>85501.0</td>\n",
       "      <td>...</td>\n",
       "      <td>No</td>\n",
       "      <td>Allegedly Armed</td>\n",
       "      <td>knife</td>\n",
       "      <td>other</td>\n",
       "      <td>not fleeing</td>\n",
       "      <td>no</td>\n",
       "      <td>5332.0</td>\n",
       "      <td>NaN</td>\n",
       "      <td>Rural</td>\n",
       "      <td>7664.0</td>\n",
       "    </tr>\n",
       "    <tr>\n",
       "      <th>1</th>\n",
       "      <td>Name withheld by police</td>\n",
       "      <td>NaN</td>\n",
       "      <td>Male</td>\n",
       "      <td>Unknown race</td>\n",
       "      <td>NaN</td>\n",
       "      <td>31/12/2019</td>\n",
       "      <td>7239-7411 I-40</td>\n",
       "      <td>Memphis</td>\n",
       "      <td>AR</td>\n",
       "      <td>38103.0</td>\n",
       "      <td>...</td>\n",
       "      <td>No</td>\n",
       "      <td>Unclear</td>\n",
       "      <td>unclear</td>\n",
       "      <td>other</td>\n",
       "      <td>NaN</td>\n",
       "      <td>NaN</td>\n",
       "      <td>NaN</td>\n",
       "      <td>NaN</td>\n",
       "      <td>Urban</td>\n",
       "      <td>7665.0</td>\n",
       "    </tr>\n",
       "    <tr>\n",
       "      <th>2</th>\n",
       "      <td>Terry Hudson</td>\n",
       "      <td>57</td>\n",
       "      <td>Male</td>\n",
       "      <td>Black</td>\n",
       "      <td>NaN</td>\n",
       "      <td>31/12/2019</td>\n",
       "      <td>3600 N 24th St</td>\n",
       "      <td>Omaha</td>\n",
       "      <td>NE</td>\n",
       "      <td>68110.0</td>\n",
       "      <td>...</td>\n",
       "      <td>No</td>\n",
       "      <td>Allegedly Armed</td>\n",
       "      <td>gun</td>\n",
       "      <td>attack</td>\n",
       "      <td>not fleeing</td>\n",
       "      <td>no</td>\n",
       "      <td>5359.0</td>\n",
       "      <td>NaN</td>\n",
       "      <td>Urban</td>\n",
       "      <td>7661.0</td>\n",
       "    </tr>\n",
       "  </tbody>\n",
       "</table>\n",
       "<p>3 rows × 27 columns</p>\n",
       "</div>"
      ],
      "text/plain": [
       "             Victim's name Victim's age Victim's gender Victim's race  \\\n",
       "0           Eric M. Tellez           28            Male         White   \n",
       "1  Name withheld by police          NaN            Male  Unknown race   \n",
       "2             Terry Hudson           57            Male         Black   \n",
       "\n",
       "                              URL of image of victim  \\\n",
       "0  https://fatalencounters.org/wp-content/uploads...   \n",
       "1                                                NaN   \n",
       "2                                                NaN   \n",
       "\n",
       "  Date of Incident (month/day/year) Street Address of Incident     City State  \\\n",
       "0                        31/12/2019                 Broad St.     Globe    AZ   \n",
       "1                        31/12/2019             7239-7411 I-40  Memphis    AR   \n",
       "2                        31/12/2019             3600 N 24th St    Omaha    NE   \n",
       "\n",
       "   Zipcode  ... Symptoms of mental illness?          Unarmed  \\\n",
       "0  85501.0  ...                          No  Allegedly Armed   \n",
       "1  38103.0  ...                          No          Unclear   \n",
       "2  68110.0  ...                          No  Allegedly Armed   \n",
       "\n",
       "  Alleged Weapon (Source: WaPo) Alleged Threat Level (Source: WaPo)  \\\n",
       "0                         knife                               other   \n",
       "1                       unclear                               other   \n",
       "2                           gun                              attack   \n",
       "\n",
       "  Fleeing (Source: WaPo) Body Camera (Source: WaPo)  \\\n",
       "0            not fleeing                         no   \n",
       "1                    NaN                        NaN   \n",
       "2            not fleeing                         no   \n",
       "\n",
       "  WaPo ID (If included in WaPo database) Off-Duty Killing?  \\\n",
       "0                                 5332.0               NaN   \n",
       "1                                    NaN               NaN   \n",
       "2                                 5359.0               NaN   \n",
       "\n",
       "  Geography (via Trulia methodology based on zipcode population density: http://jedkolko.com/wp-content/uploads/2015/05/full-ZCTA-urban-suburban-rural-classification.xlsx )  \\\n",
       "0                                              Rural                                                                                                                           \n",
       "1                                              Urban                                                                                                                           \n",
       "2                                              Urban                                                                                                                           \n",
       "\n",
       "       ID  \n",
       "0  7664.0  \n",
       "1  7665.0  \n",
       "2  7661.0  \n",
       "\n",
       "[3 rows x 27 columns]"
      ]
     },
     "execution_count": 87,
     "metadata": {},
     "output_type": "execute_result"
    }
   ],
   "source": [
    "police_killings_cleaned.head(3)"
   ]
  },
  {
   "cell_type": "markdown",
   "metadata": {
    "editable": true
   },
   "source": [
    "- The names of columns are long and messy, I am going to tidy them up"
   ]
  },
  {
   "cell_type": "code",
   "execution_count": 88,
   "metadata": {
    "editable": true
   },
   "outputs": [],
   "source": [
    "new_columns = {\n",
    "   \"Victim's name\":\"victim_name\",\n",
    "   \"Victim's age\":\"victim_age\",\n",
    "   \"Victim's race\":\"victim_race\",\n",
    "   \"Victim's gender\":\"victim_gender\",\n",
    "   \"URL of image of victim\":\"victim_image\",\n",
    "   \"Date of Incident (month/day/year)\":\"date_of_incident\",\n",
    "   \"Street Address of Incident\":\"street_address_of_incident\",\n",
    "   \"City\":\"city\",\n",
    "   \"State\":\"state\",\n",
    "   \"Zipcode\":\"zipcode\",\n",
    "   \"County\":\"county\",\n",
    "   \"Agency responsible for death\":\"agency_responsible_for_death\",\n",
    "   \"Cause of death\":\"cause_of_death\",\n",
    "   \"A brief description of the circumstances surrounding the death\":\"desc_death\",\n",
    "   \"Official disposition of death (justified or other)\":\"official_justice_desposition\",\n",
    "   \"Criminal Charges?\":\"has_criminal_charges\",\n",
    "   \"Link to news article or photo of official document\":\"link_to_document\",\n",
    "   \"Symptoms of mental illness?\": \"has_symtoms_of_mental_ilness\",\n",
    "   \"Unarmed\":'unarmed',\n",
    "   \"Alleged Weapon (Source: WaPo)\":\"alleged_weapon\",\n",
    "   \"Alleged Threat Level (Source: WaPo)\":\"alleged_threat_level\",\n",
    "   \"Fleeing (Source: WaPo)\":\"fleeing\",\n",
    "   \"Body Camera (Source: WaPo)\":\"body_camera\",\n",
    "   \"WaPo ID (If included in WaPo database)\":\"wapo_id\",\n",
    "   \"Off-Duty Killing?\":\"is_off_duty_killing\",\n",
    "   \"Geography (via Trulia methodology based on zipcode population density: http://jedkolko.com/wp-content/uploads/2015/05/full-ZCTA-urban-suburban-rural-classification.xlsx )\":\"geography\",\n",
    "   \"ID\":\"id\"\n",
    "}"
   ]
  },
  {
   "cell_type": "code",
   "execution_count": 89,
   "metadata": {
    "editable": true
   },
   "outputs": [],
   "source": [
    "police_killings_cleaned = police_killings_cleaned.rename(columns=new_columns)"
   ]
  },
  {
   "cell_type": "code",
   "execution_count": 90,
   "metadata": {
    "editable": true
   },
   "outputs": [
    {
     "data": {
      "text/html": [
       "<div>\n",
       "<style scoped>\n",
       "    .dataframe tbody tr th:only-of-type {\n",
       "        vertical-align: middle;\n",
       "    }\n",
       "\n",
       "    .dataframe tbody tr th {\n",
       "        vertical-align: top;\n",
       "    }\n",
       "\n",
       "    .dataframe thead th {\n",
       "        text-align: right;\n",
       "    }\n",
       "</style>\n",
       "<table border=\"1\" class=\"dataframe\">\n",
       "  <thead>\n",
       "    <tr style=\"text-align: right;\">\n",
       "      <th></th>\n",
       "      <th>victim_name</th>\n",
       "      <th>victim_age</th>\n",
       "      <th>victim_gender</th>\n",
       "      <th>victim_race</th>\n",
       "      <th>victim_image</th>\n",
       "      <th>date_of_incident</th>\n",
       "      <th>street_address_of_incident</th>\n",
       "      <th>city</th>\n",
       "      <th>state</th>\n",
       "      <th>zipcode</th>\n",
       "      <th>...</th>\n",
       "      <th>has_symtoms_of_mental_ilness</th>\n",
       "      <th>unarmed</th>\n",
       "      <th>alleged_weapon</th>\n",
       "      <th>alleged_threat_level</th>\n",
       "      <th>fleeing</th>\n",
       "      <th>body_camera</th>\n",
       "      <th>wapo_id</th>\n",
       "      <th>is_off_duty_killing</th>\n",
       "      <th>geography</th>\n",
       "      <th>id</th>\n",
       "    </tr>\n",
       "  </thead>\n",
       "  <tbody>\n",
       "    <tr>\n",
       "      <th>0</th>\n",
       "      <td>Eric M. Tellez</td>\n",
       "      <td>28</td>\n",
       "      <td>Male</td>\n",
       "      <td>White</td>\n",
       "      <td>https://fatalencounters.org/wp-content/uploads...</td>\n",
       "      <td>31/12/2019</td>\n",
       "      <td>Broad St.</td>\n",
       "      <td>Globe</td>\n",
       "      <td>AZ</td>\n",
       "      <td>85501.0</td>\n",
       "      <td>...</td>\n",
       "      <td>No</td>\n",
       "      <td>Allegedly Armed</td>\n",
       "      <td>knife</td>\n",
       "      <td>other</td>\n",
       "      <td>not fleeing</td>\n",
       "      <td>no</td>\n",
       "      <td>5332.0</td>\n",
       "      <td>NaN</td>\n",
       "      <td>Rural</td>\n",
       "      <td>7664.0</td>\n",
       "    </tr>\n",
       "    <tr>\n",
       "      <th>1</th>\n",
       "      <td>Name withheld by police</td>\n",
       "      <td>NaN</td>\n",
       "      <td>Male</td>\n",
       "      <td>Unknown race</td>\n",
       "      <td>NaN</td>\n",
       "      <td>31/12/2019</td>\n",
       "      <td>7239-7411 I-40</td>\n",
       "      <td>Memphis</td>\n",
       "      <td>AR</td>\n",
       "      <td>38103.0</td>\n",
       "      <td>...</td>\n",
       "      <td>No</td>\n",
       "      <td>Unclear</td>\n",
       "      <td>unclear</td>\n",
       "      <td>other</td>\n",
       "      <td>NaN</td>\n",
       "      <td>NaN</td>\n",
       "      <td>NaN</td>\n",
       "      <td>NaN</td>\n",
       "      <td>Urban</td>\n",
       "      <td>7665.0</td>\n",
       "    </tr>\n",
       "  </tbody>\n",
       "</table>\n",
       "<p>2 rows × 27 columns</p>\n",
       "</div>"
      ],
      "text/plain": [
       "               victim_name victim_age victim_gender   victim_race  \\\n",
       "0           Eric M. Tellez         28          Male         White   \n",
       "1  Name withheld by police        NaN          Male  Unknown race   \n",
       "\n",
       "                                        victim_image date_of_incident  \\\n",
       "0  https://fatalencounters.org/wp-content/uploads...       31/12/2019   \n",
       "1                                                NaN       31/12/2019   \n",
       "\n",
       "  street_address_of_incident     city state  zipcode  ...  \\\n",
       "0                 Broad St.     Globe    AZ  85501.0  ...   \n",
       "1             7239-7411 I-40  Memphis    AR  38103.0  ...   \n",
       "\n",
       "  has_symtoms_of_mental_ilness          unarmed alleged_weapon  \\\n",
       "0                           No  Allegedly Armed          knife   \n",
       "1                           No          Unclear        unclear   \n",
       "\n",
       "  alleged_threat_level      fleeing body_camera wapo_id is_off_duty_killing  \\\n",
       "0                other  not fleeing          no  5332.0                 NaN   \n",
       "1                other          NaN         NaN     NaN                 NaN   \n",
       "\n",
       "  geography      id  \n",
       "0     Rural  7664.0  \n",
       "1     Urban  7665.0  \n",
       "\n",
       "[2 rows x 27 columns]"
      ]
     },
     "execution_count": 90,
     "metadata": {},
     "output_type": "execute_result"
    }
   ],
   "source": [
    "police_killings_cleaned.head(2)"
   ]
  },
  {
   "cell_type": "code",
   "execution_count": 91,
   "metadata": {
    "editable": true
   },
   "outputs": [
    {
     "data": {
      "text/plain": [
       "victim_name                     7411\n",
       "victim_age                        87\n",
       "victim_gender                      4\n",
       "victim_race                        8\n",
       "victim_image                    4191\n",
       "date_of_incident                2404\n",
       "street_address_of_incident      7487\n",
       "city                            2885\n",
       "state                             51\n",
       "zipcode                         4969\n",
       "county                          1112\n",
       "agency_responsible_for_death    2855\n",
       "cause_of_death                    30\n",
       "desc_death                      7581\n",
       "official_justice_desposition     100\n",
       "has_criminal_charges              29\n",
       "link_to_document                7560\n",
       "has_symtoms_of_mental_ilness       7\n",
       "unarmed                            4\n",
       "alleged_weapon                   172\n",
       "alleged_threat_level               3\n",
       "fleeing                            8\n",
       "body_camera                        5\n",
       "wapo_id                         4876\n",
       "is_off_duty_killing                1\n",
       "geography                          3\n",
       "id                              7663\n",
       "dtype: int64"
      ]
     },
     "execution_count": 91,
     "metadata": {},
     "output_type": "execute_result"
    }
   ],
   "source": [
    "police_killings_cleaned.nunique()"
   ]
  },
  {
   "cell_type": "markdown",
   "metadata": {
    "editable": true
   },
   "source": [
    "- I noticed that there are some duplicated names and I want to know that those duplicated values are."
   ]
  },
  {
   "cell_type": "code",
   "execution_count": 92,
   "metadata": {
    "editable": true
   },
   "outputs": [
    {
     "data": {
      "text/plain": [
       "Name withheld by police    210\n",
       "Robert Edwards               3\n",
       "Michael Brown                3\n",
       "Victor Hernandez             2\n",
       "Eduardo Rodriguez            2\n",
       "Name: victim_name, dtype: int64"
      ]
     },
     "execution_count": 92,
     "metadata": {},
     "output_type": "execute_result"
    }
   ],
   "source": [
    "police_killings_cleaned.victim_name.value_counts().head(5)"
   ]
  },
  {
   "cell_type": "markdown",
   "metadata": {
    "editable": true
   },
   "source": [
    "- Now this is clearer. The names are withheld by police. For sake of data integrity, I will not delete these records\n"
   ]
  },
  {
   "cell_type": "code",
   "execution_count": 93,
   "metadata": {
    "editable": true
   },
   "outputs": [
    {
     "data": {
      "text/plain": [
       "victim_name                     210\n",
       "victim_age                      154\n",
       "victim_gender                   205\n",
       "victim_race                     210\n",
       "victim_image                      0\n",
       "date_of_incident                210\n",
       "street_address_of_incident      198\n",
       "city                            209\n",
       "state                           210\n",
       "zipcode                         204\n",
       "county                          205\n",
       "agency_responsible_for_death    205\n",
       "cause_of_death                  210\n",
       "desc_death                      205\n",
       "official_justice_desposition    206\n",
       "has_criminal_charges            210\n",
       "link_to_document                205\n",
       "has_symtoms_of_mental_ilness    207\n",
       "unarmed                         210\n",
       "alleged_weapon                  210\n",
       "alleged_threat_level            147\n",
       "fleeing                         132\n",
       "body_camera                     117\n",
       "wapo_id                         120\n",
       "is_off_duty_killing               9\n",
       "geography                       204\n",
       "id                              210\n",
       "dtype: int64"
      ]
     },
     "execution_count": 93,
     "metadata": {},
     "output_type": "execute_result"
    }
   ],
   "source": [
    "police_killings_cleaned.query(\"victim_name == 'Name withheld by police'\").count()"
   ]
  },
  {
   "cell_type": "code",
   "execution_count": 94,
   "metadata": {
    "editable": true
   },
   "outputs": [
    {
     "data": {
      "text/plain": [
       "array(['AZ', 'AR', 'NE', 'WA', 'MO', 'WV', 'MS', 'KS', 'TX', 'CA', 'SD',\n",
       "       'IN', 'AK', 'OH', 'TN', 'MD', 'VA', 'UT', 'ME', 'FL', 'GA', 'OK',\n",
       "       'PA', 'NY', 'NC', 'CO', 'MT', 'HI', 'WI', 'MN', 'MI', 'AL', 'SC',\n",
       "       'NJ', 'IA', 'LA', 'OR', 'DE', 'NV', 'IL', 'ID', 'MA', 'KY', 'NM',\n",
       "       'VT', 'WY', 'DC', 'CT', 'NH', 'RI', 'ND', nan], dtype=object)"
      ]
     },
     "execution_count": 94,
     "metadata": {},
     "output_type": "execute_result"
    }
   ],
   "source": [
    "police_killings_cleaned.state.unique()"
   ]
  },
  {
   "cell_type": "code",
   "execution_count": 95,
   "metadata": {
    "editable": true
   },
   "outputs": [
    {
     "data": {
      "text/plain": [
       "51"
      ]
     },
     "execution_count": 95,
     "metadata": {},
     "output_type": "execute_result"
    }
   ],
   "source": [
    "police_killings_cleaned.state.nunique()"
   ]
  },
  {
   "cell_type": "code",
   "execution_count": 96,
   "metadata": {
    "editable": true
   },
   "outputs": [
    {
     "data": {
      "text/html": [
       "<div>\n",
       "<style scoped>\n",
       "    .dataframe tbody tr th:only-of-type {\n",
       "        vertical-align: middle;\n",
       "    }\n",
       "\n",
       "    .dataframe tbody tr th {\n",
       "        vertical-align: top;\n",
       "    }\n",
       "\n",
       "    .dataframe thead th {\n",
       "        text-align: right;\n",
       "    }\n",
       "</style>\n",
       "<table border=\"1\" class=\"dataframe\">\n",
       "  <thead>\n",
       "    <tr style=\"text-align: right;\">\n",
       "      <th></th>\n",
       "      <th>victim_name</th>\n",
       "      <th>victim_age</th>\n",
       "      <th>victim_gender</th>\n",
       "      <th>victim_race</th>\n",
       "      <th>victim_image</th>\n",
       "      <th>date_of_incident</th>\n",
       "      <th>street_address_of_incident</th>\n",
       "      <th>city</th>\n",
       "      <th>state</th>\n",
       "      <th>zipcode</th>\n",
       "      <th>...</th>\n",
       "      <th>has_symtoms_of_mental_ilness</th>\n",
       "      <th>unarmed</th>\n",
       "      <th>alleged_weapon</th>\n",
       "      <th>alleged_threat_level</th>\n",
       "      <th>fleeing</th>\n",
       "      <th>body_camera</th>\n",
       "      <th>wapo_id</th>\n",
       "      <th>is_off_duty_killing</th>\n",
       "      <th>geography</th>\n",
       "      <th>id</th>\n",
       "    </tr>\n",
       "  </thead>\n",
       "  <tbody>\n",
       "    <tr>\n",
       "      <th>7663</th>\n",
       "      <td>NaN</td>\n",
       "      <td>NaN</td>\n",
       "      <td>NaN</td>\n",
       "      <td>NaN</td>\n",
       "      <td>NaN</td>\n",
       "      <td>NaN</td>\n",
       "      <td>NaN</td>\n",
       "      <td>NaN</td>\n",
       "      <td>NaN</td>\n",
       "      <td>NaN</td>\n",
       "      <td>...</td>\n",
       "      <td>NaN</td>\n",
       "      <td>NaN</td>\n",
       "      <td>NaN</td>\n",
       "      <td>NaN</td>\n",
       "      <td>NaN</td>\n",
       "      <td>NaN</td>\n",
       "      <td>NaN</td>\n",
       "      <td>NaN</td>\n",
       "      <td>NaN</td>\n",
       "      <td>NaN</td>\n",
       "    </tr>\n",
       "    <tr>\n",
       "      <th>7664</th>\n",
       "      <td>NaN</td>\n",
       "      <td>NaN</td>\n",
       "      <td>NaN</td>\n",
       "      <td>NaN</td>\n",
       "      <td>NaN</td>\n",
       "      <td>NaN</td>\n",
       "      <td>NaN</td>\n",
       "      <td>NaN</td>\n",
       "      <td>NaN</td>\n",
       "      <td>NaN</td>\n",
       "      <td>...</td>\n",
       "      <td>NaN</td>\n",
       "      <td>NaN</td>\n",
       "      <td>NaN</td>\n",
       "      <td>NaN</td>\n",
       "      <td>NaN</td>\n",
       "      <td>NaN</td>\n",
       "      <td>NaN</td>\n",
       "      <td>NaN</td>\n",
       "      <td>NaN</td>\n",
       "      <td>NaN</td>\n",
       "    </tr>\n",
       "    <tr>\n",
       "      <th>7665</th>\n",
       "      <td>NaN</td>\n",
       "      <td>NaN</td>\n",
       "      <td>NaN</td>\n",
       "      <td>NaN</td>\n",
       "      <td>NaN</td>\n",
       "      <td>NaN</td>\n",
       "      <td>NaN</td>\n",
       "      <td>NaN</td>\n",
       "      <td>NaN</td>\n",
       "      <td>NaN</td>\n",
       "      <td>...</td>\n",
       "      <td>NaN</td>\n",
       "      <td>NaN</td>\n",
       "      <td>NaN</td>\n",
       "      <td>NaN</td>\n",
       "      <td>NaN</td>\n",
       "      <td>NaN</td>\n",
       "      <td>NaN</td>\n",
       "      <td>NaN</td>\n",
       "      <td>NaN</td>\n",
       "      <td>NaN</td>\n",
       "    </tr>\n",
       "    <tr>\n",
       "      <th>7666</th>\n",
       "      <td>NaN</td>\n",
       "      <td>NaN</td>\n",
       "      <td>NaN</td>\n",
       "      <td>NaN</td>\n",
       "      <td>NaN</td>\n",
       "      <td>NaN</td>\n",
       "      <td>NaN</td>\n",
       "      <td>NaN</td>\n",
       "      <td>NaN</td>\n",
       "      <td>NaN</td>\n",
       "      <td>...</td>\n",
       "      <td>NaN</td>\n",
       "      <td>NaN</td>\n",
       "      <td>NaN</td>\n",
       "      <td>NaN</td>\n",
       "      <td>NaN</td>\n",
       "      <td>NaN</td>\n",
       "      <td>NaN</td>\n",
       "      <td>NaN</td>\n",
       "      <td>NaN</td>\n",
       "      <td>NaN</td>\n",
       "    </tr>\n",
       "    <tr>\n",
       "      <th>7667</th>\n",
       "      <td>NaN</td>\n",
       "      <td>NaN</td>\n",
       "      <td>NaN</td>\n",
       "      <td>NaN</td>\n",
       "      <td>NaN</td>\n",
       "      <td>NaN</td>\n",
       "      <td>NaN</td>\n",
       "      <td>NaN</td>\n",
       "      <td>NaN</td>\n",
       "      <td>NaN</td>\n",
       "      <td>...</td>\n",
       "      <td>NaN</td>\n",
       "      <td>NaN</td>\n",
       "      <td>NaN</td>\n",
       "      <td>NaN</td>\n",
       "      <td>NaN</td>\n",
       "      <td>NaN</td>\n",
       "      <td>NaN</td>\n",
       "      <td>NaN</td>\n",
       "      <td>NaN</td>\n",
       "      <td>NaN</td>\n",
       "    </tr>\n",
       "    <tr>\n",
       "      <th>7668</th>\n",
       "      <td>NaN</td>\n",
       "      <td>NaN</td>\n",
       "      <td>NaN</td>\n",
       "      <td>NaN</td>\n",
       "      <td>NaN</td>\n",
       "      <td>NaN</td>\n",
       "      <td>NaN</td>\n",
       "      <td>NaN</td>\n",
       "      <td>NaN</td>\n",
       "      <td>NaN</td>\n",
       "      <td>...</td>\n",
       "      <td>NaN</td>\n",
       "      <td>NaN</td>\n",
       "      <td>NaN</td>\n",
       "      <td>NaN</td>\n",
       "      <td>NaN</td>\n",
       "      <td>NaN</td>\n",
       "      <td>NaN</td>\n",
       "      <td>NaN</td>\n",
       "      <td>NaN</td>\n",
       "      <td>NaN</td>\n",
       "    </tr>\n",
       "    <tr>\n",
       "      <th>7669</th>\n",
       "      <td>NaN</td>\n",
       "      <td>NaN</td>\n",
       "      <td>NaN</td>\n",
       "      <td>NaN</td>\n",
       "      <td>NaN</td>\n",
       "      <td>NaN</td>\n",
       "      <td>NaN</td>\n",
       "      <td>NaN</td>\n",
       "      <td>NaN</td>\n",
       "      <td>NaN</td>\n",
       "      <td>...</td>\n",
       "      <td>NaN</td>\n",
       "      <td>NaN</td>\n",
       "      <td>NaN</td>\n",
       "      <td>NaN</td>\n",
       "      <td>NaN</td>\n",
       "      <td>NaN</td>\n",
       "      <td>NaN</td>\n",
       "      <td>NaN</td>\n",
       "      <td>NaN</td>\n",
       "      <td>NaN</td>\n",
       "    </tr>\n",
       "    <tr>\n",
       "      <th>7670</th>\n",
       "      <td>NaN</td>\n",
       "      <td>NaN</td>\n",
       "      <td>NaN</td>\n",
       "      <td>NaN</td>\n",
       "      <td>NaN</td>\n",
       "      <td>NaN</td>\n",
       "      <td>NaN</td>\n",
       "      <td>NaN</td>\n",
       "      <td>NaN</td>\n",
       "      <td>NaN</td>\n",
       "      <td>...</td>\n",
       "      <td>NaN</td>\n",
       "      <td>NaN</td>\n",
       "      <td>NaN</td>\n",
       "      <td>NaN</td>\n",
       "      <td>NaN</td>\n",
       "      <td>NaN</td>\n",
       "      <td>NaN</td>\n",
       "      <td>NaN</td>\n",
       "      <td>NaN</td>\n",
       "      <td>NaN</td>\n",
       "    </tr>\n",
       "    <tr>\n",
       "      <th>7671</th>\n",
       "      <td>NaN</td>\n",
       "      <td>NaN</td>\n",
       "      <td>NaN</td>\n",
       "      <td>NaN</td>\n",
       "      <td>NaN</td>\n",
       "      <td>NaN</td>\n",
       "      <td>NaN</td>\n",
       "      <td>NaN</td>\n",
       "      <td>NaN</td>\n",
       "      <td>NaN</td>\n",
       "      <td>...</td>\n",
       "      <td>NaN</td>\n",
       "      <td>NaN</td>\n",
       "      <td>NaN</td>\n",
       "      <td>NaN</td>\n",
       "      <td>NaN</td>\n",
       "      <td>NaN</td>\n",
       "      <td>NaN</td>\n",
       "      <td>NaN</td>\n",
       "      <td>NaN</td>\n",
       "      <td>NaN</td>\n",
       "    </tr>\n",
       "    <tr>\n",
       "      <th>7672</th>\n",
       "      <td>NaN</td>\n",
       "      <td>NaN</td>\n",
       "      <td>NaN</td>\n",
       "      <td>NaN</td>\n",
       "      <td>NaN</td>\n",
       "      <td>NaN</td>\n",
       "      <td>NaN</td>\n",
       "      <td>NaN</td>\n",
       "      <td>NaN</td>\n",
       "      <td>NaN</td>\n",
       "      <td>...</td>\n",
       "      <td>NaN</td>\n",
       "      <td>NaN</td>\n",
       "      <td>NaN</td>\n",
       "      <td>NaN</td>\n",
       "      <td>NaN</td>\n",
       "      <td>NaN</td>\n",
       "      <td>NaN</td>\n",
       "      <td>NaN</td>\n",
       "      <td>NaN</td>\n",
       "      <td>NaN</td>\n",
       "    </tr>\n",
       "    <tr>\n",
       "      <th>7673</th>\n",
       "      <td>NaN</td>\n",
       "      <td>NaN</td>\n",
       "      <td>NaN</td>\n",
       "      <td>NaN</td>\n",
       "      <td>NaN</td>\n",
       "      <td>NaN</td>\n",
       "      <td>NaN</td>\n",
       "      <td>NaN</td>\n",
       "      <td>NaN</td>\n",
       "      <td>NaN</td>\n",
       "      <td>...</td>\n",
       "      <td>NaN</td>\n",
       "      <td>NaN</td>\n",
       "      <td>NaN</td>\n",
       "      <td>NaN</td>\n",
       "      <td>NaN</td>\n",
       "      <td>NaN</td>\n",
       "      <td>NaN</td>\n",
       "      <td>NaN</td>\n",
       "      <td>NaN</td>\n",
       "      <td>NaN</td>\n",
       "    </tr>\n",
       "    <tr>\n",
       "      <th>7674</th>\n",
       "      <td>NaN</td>\n",
       "      <td>NaN</td>\n",
       "      <td>NaN</td>\n",
       "      <td>NaN</td>\n",
       "      <td>NaN</td>\n",
       "      <td>NaN</td>\n",
       "      <td>NaN</td>\n",
       "      <td>NaN</td>\n",
       "      <td>NaN</td>\n",
       "      <td>NaN</td>\n",
       "      <td>...</td>\n",
       "      <td>NaN</td>\n",
       "      <td>NaN</td>\n",
       "      <td>NaN</td>\n",
       "      <td>NaN</td>\n",
       "      <td>NaN</td>\n",
       "      <td>NaN</td>\n",
       "      <td>NaN</td>\n",
       "      <td>NaN</td>\n",
       "      <td>NaN</td>\n",
       "      <td>NaN</td>\n",
       "    </tr>\n",
       "    <tr>\n",
       "      <th>7675</th>\n",
       "      <td>NaN</td>\n",
       "      <td>NaN</td>\n",
       "      <td>NaN</td>\n",
       "      <td>NaN</td>\n",
       "      <td>NaN</td>\n",
       "      <td>NaN</td>\n",
       "      <td>NaN</td>\n",
       "      <td>NaN</td>\n",
       "      <td>NaN</td>\n",
       "      <td>NaN</td>\n",
       "      <td>...</td>\n",
       "      <td>NaN</td>\n",
       "      <td>NaN</td>\n",
       "      <td>NaN</td>\n",
       "      <td>NaN</td>\n",
       "      <td>NaN</td>\n",
       "      <td>NaN</td>\n",
       "      <td>NaN</td>\n",
       "      <td>NaN</td>\n",
       "      <td>NaN</td>\n",
       "      <td>NaN</td>\n",
       "    </tr>\n",
       "    <tr>\n",
       "      <th>7676</th>\n",
       "      <td>NaN</td>\n",
       "      <td>NaN</td>\n",
       "      <td>NaN</td>\n",
       "      <td>NaN</td>\n",
       "      <td>NaN</td>\n",
       "      <td>NaN</td>\n",
       "      <td>NaN</td>\n",
       "      <td>NaN</td>\n",
       "      <td>NaN</td>\n",
       "      <td>NaN</td>\n",
       "      <td>...</td>\n",
       "      <td>NaN</td>\n",
       "      <td>NaN</td>\n",
       "      <td>NaN</td>\n",
       "      <td>NaN</td>\n",
       "      <td>NaN</td>\n",
       "      <td>NaN</td>\n",
       "      <td>NaN</td>\n",
       "      <td>NaN</td>\n",
       "      <td>NaN</td>\n",
       "      <td>NaN</td>\n",
       "    </tr>\n",
       "    <tr>\n",
       "      <th>7677</th>\n",
       "      <td>NaN</td>\n",
       "      <td>NaN</td>\n",
       "      <td>NaN</td>\n",
       "      <td>NaN</td>\n",
       "      <td>NaN</td>\n",
       "      <td>NaN</td>\n",
       "      <td>NaN</td>\n",
       "      <td>NaN</td>\n",
       "      <td>NaN</td>\n",
       "      <td>NaN</td>\n",
       "      <td>...</td>\n",
       "      <td>NaN</td>\n",
       "      <td>NaN</td>\n",
       "      <td>NaN</td>\n",
       "      <td>NaN</td>\n",
       "      <td>NaN</td>\n",
       "      <td>NaN</td>\n",
       "      <td>NaN</td>\n",
       "      <td>NaN</td>\n",
       "      <td>NaN</td>\n",
       "      <td>NaN</td>\n",
       "    </tr>\n",
       "    <tr>\n",
       "      <th>7678</th>\n",
       "      <td>NaN</td>\n",
       "      <td>NaN</td>\n",
       "      <td>NaN</td>\n",
       "      <td>NaN</td>\n",
       "      <td>NaN</td>\n",
       "      <td>NaN</td>\n",
       "      <td>NaN</td>\n",
       "      <td>NaN</td>\n",
       "      <td>NaN</td>\n",
       "      <td>NaN</td>\n",
       "      <td>...</td>\n",
       "      <td>NaN</td>\n",
       "      <td>NaN</td>\n",
       "      <td>NaN</td>\n",
       "      <td>NaN</td>\n",
       "      <td>NaN</td>\n",
       "      <td>NaN</td>\n",
       "      <td>NaN</td>\n",
       "      <td>NaN</td>\n",
       "      <td>NaN</td>\n",
       "      <td>NaN</td>\n",
       "    </tr>\n",
       "    <tr>\n",
       "      <th>7679</th>\n",
       "      <td>NaN</td>\n",
       "      <td>NaN</td>\n",
       "      <td>NaN</td>\n",
       "      <td>NaN</td>\n",
       "      <td>NaN</td>\n",
       "      <td>NaN</td>\n",
       "      <td>NaN</td>\n",
       "      <td>NaN</td>\n",
       "      <td>NaN</td>\n",
       "      <td>NaN</td>\n",
       "      <td>...</td>\n",
       "      <td>NaN</td>\n",
       "      <td>NaN</td>\n",
       "      <td>NaN</td>\n",
       "      <td>NaN</td>\n",
       "      <td>NaN</td>\n",
       "      <td>NaN</td>\n",
       "      <td>NaN</td>\n",
       "      <td>NaN</td>\n",
       "      <td>NaN</td>\n",
       "      <td>NaN</td>\n",
       "    </tr>\n",
       "    <tr>\n",
       "      <th>7680</th>\n",
       "      <td>NaN</td>\n",
       "      <td>NaN</td>\n",
       "      <td>NaN</td>\n",
       "      <td>NaN</td>\n",
       "      <td>NaN</td>\n",
       "      <td>NaN</td>\n",
       "      <td>NaN</td>\n",
       "      <td>NaN</td>\n",
       "      <td>NaN</td>\n",
       "      <td>NaN</td>\n",
       "      <td>...</td>\n",
       "      <td>NaN</td>\n",
       "      <td>NaN</td>\n",
       "      <td>NaN</td>\n",
       "      <td>NaN</td>\n",
       "      <td>NaN</td>\n",
       "      <td>NaN</td>\n",
       "      <td>NaN</td>\n",
       "      <td>NaN</td>\n",
       "      <td>NaN</td>\n",
       "      <td>NaN</td>\n",
       "    </tr>\n",
       "    <tr>\n",
       "      <th>7681</th>\n",
       "      <td>NaN</td>\n",
       "      <td>NaN</td>\n",
       "      <td>NaN</td>\n",
       "      <td>NaN</td>\n",
       "      <td>NaN</td>\n",
       "      <td>NaN</td>\n",
       "      <td>NaN</td>\n",
       "      <td>NaN</td>\n",
       "      <td>NaN</td>\n",
       "      <td>NaN</td>\n",
       "      <td>...</td>\n",
       "      <td>NaN</td>\n",
       "      <td>NaN</td>\n",
       "      <td>NaN</td>\n",
       "      <td>NaN</td>\n",
       "      <td>NaN</td>\n",
       "      <td>NaN</td>\n",
       "      <td>NaN</td>\n",
       "      <td>NaN</td>\n",
       "      <td>NaN</td>\n",
       "      <td>NaN</td>\n",
       "    </tr>\n",
       "    <tr>\n",
       "      <th>7682</th>\n",
       "      <td>NaN</td>\n",
       "      <td>NaN</td>\n",
       "      <td>NaN</td>\n",
       "      <td>NaN</td>\n",
       "      <td>NaN</td>\n",
       "      <td>NaN</td>\n",
       "      <td>NaN</td>\n",
       "      <td>NaN</td>\n",
       "      <td>NaN</td>\n",
       "      <td>NaN</td>\n",
       "      <td>...</td>\n",
       "      <td>NaN</td>\n",
       "      <td>NaN</td>\n",
       "      <td>NaN</td>\n",
       "      <td>NaN</td>\n",
       "      <td>NaN</td>\n",
       "      <td>NaN</td>\n",
       "      <td>NaN</td>\n",
       "      <td>NaN</td>\n",
       "      <td>NaN</td>\n",
       "      <td>NaN</td>\n",
       "    </tr>\n",
       "  </tbody>\n",
       "</table>\n",
       "<p>20 rows × 27 columns</p>\n",
       "</div>"
      ],
      "text/plain": [
       "     victim_name victim_age victim_gender victim_race victim_image  \\\n",
       "7663         NaN        NaN           NaN         NaN          NaN   \n",
       "7664         NaN        NaN           NaN         NaN          NaN   \n",
       "7665         NaN        NaN           NaN         NaN          NaN   \n",
       "7666         NaN        NaN           NaN         NaN          NaN   \n",
       "7667         NaN        NaN           NaN         NaN          NaN   \n",
       "7668         NaN        NaN           NaN         NaN          NaN   \n",
       "7669         NaN        NaN           NaN         NaN          NaN   \n",
       "7670         NaN        NaN           NaN         NaN          NaN   \n",
       "7671         NaN        NaN           NaN         NaN          NaN   \n",
       "7672         NaN        NaN           NaN         NaN          NaN   \n",
       "7673         NaN        NaN           NaN         NaN          NaN   \n",
       "7674         NaN        NaN           NaN         NaN          NaN   \n",
       "7675         NaN        NaN           NaN         NaN          NaN   \n",
       "7676         NaN        NaN           NaN         NaN          NaN   \n",
       "7677         NaN        NaN           NaN         NaN          NaN   \n",
       "7678         NaN        NaN           NaN         NaN          NaN   \n",
       "7679         NaN        NaN           NaN         NaN          NaN   \n",
       "7680         NaN        NaN           NaN         NaN          NaN   \n",
       "7681         NaN        NaN           NaN         NaN          NaN   \n",
       "7682         NaN        NaN           NaN         NaN          NaN   \n",
       "\n",
       "     date_of_incident street_address_of_incident city state  zipcode  ...  \\\n",
       "7663              NaN                        NaN  NaN   NaN      NaN  ...   \n",
       "7664              NaN                        NaN  NaN   NaN      NaN  ...   \n",
       "7665              NaN                        NaN  NaN   NaN      NaN  ...   \n",
       "7666              NaN                        NaN  NaN   NaN      NaN  ...   \n",
       "7667              NaN                        NaN  NaN   NaN      NaN  ...   \n",
       "7668              NaN                        NaN  NaN   NaN      NaN  ...   \n",
       "7669              NaN                        NaN  NaN   NaN      NaN  ...   \n",
       "7670              NaN                        NaN  NaN   NaN      NaN  ...   \n",
       "7671              NaN                        NaN  NaN   NaN      NaN  ...   \n",
       "7672              NaN                        NaN  NaN   NaN      NaN  ...   \n",
       "7673              NaN                        NaN  NaN   NaN      NaN  ...   \n",
       "7674              NaN                        NaN  NaN   NaN      NaN  ...   \n",
       "7675              NaN                        NaN  NaN   NaN      NaN  ...   \n",
       "7676              NaN                        NaN  NaN   NaN      NaN  ...   \n",
       "7677              NaN                        NaN  NaN   NaN      NaN  ...   \n",
       "7678              NaN                        NaN  NaN   NaN      NaN  ...   \n",
       "7679              NaN                        NaN  NaN   NaN      NaN  ...   \n",
       "7680              NaN                        NaN  NaN   NaN      NaN  ...   \n",
       "7681              NaN                        NaN  NaN   NaN      NaN  ...   \n",
       "7682              NaN                        NaN  NaN   NaN      NaN  ...   \n",
       "\n",
       "     has_symtoms_of_mental_ilness unarmed alleged_weapon alleged_threat_level  \\\n",
       "7663                          NaN     NaN            NaN                  NaN   \n",
       "7664                          NaN     NaN            NaN                  NaN   \n",
       "7665                          NaN     NaN            NaN                  NaN   \n",
       "7666                          NaN     NaN            NaN                  NaN   \n",
       "7667                          NaN     NaN            NaN                  NaN   \n",
       "7668                          NaN     NaN            NaN                  NaN   \n",
       "7669                          NaN     NaN            NaN                  NaN   \n",
       "7670                          NaN     NaN            NaN                  NaN   \n",
       "7671                          NaN     NaN            NaN                  NaN   \n",
       "7672                          NaN     NaN            NaN                  NaN   \n",
       "7673                          NaN     NaN            NaN                  NaN   \n",
       "7674                          NaN     NaN            NaN                  NaN   \n",
       "7675                          NaN     NaN            NaN                  NaN   \n",
       "7676                          NaN     NaN            NaN                  NaN   \n",
       "7677                          NaN     NaN            NaN                  NaN   \n",
       "7678                          NaN     NaN            NaN                  NaN   \n",
       "7679                          NaN     NaN            NaN                  NaN   \n",
       "7680                          NaN     NaN            NaN                  NaN   \n",
       "7681                          NaN     NaN            NaN                  NaN   \n",
       "7682                          NaN     NaN            NaN                  NaN   \n",
       "\n",
       "     fleeing body_camera wapo_id is_off_duty_killing geography  id  \n",
       "7663     NaN         NaN     NaN                 NaN       NaN NaN  \n",
       "7664     NaN         NaN     NaN                 NaN       NaN NaN  \n",
       "7665     NaN         NaN     NaN                 NaN       NaN NaN  \n",
       "7666     NaN         NaN     NaN                 NaN       NaN NaN  \n",
       "7667     NaN         NaN     NaN                 NaN       NaN NaN  \n",
       "7668     NaN         NaN     NaN                 NaN       NaN NaN  \n",
       "7669     NaN         NaN     NaN                 NaN       NaN NaN  \n",
       "7670     NaN         NaN     NaN                 NaN       NaN NaN  \n",
       "7671     NaN         NaN     NaN                 NaN       NaN NaN  \n",
       "7672     NaN         NaN     NaN                 NaN       NaN NaN  \n",
       "7673     NaN         NaN     NaN                 NaN       NaN NaN  \n",
       "7674     NaN         NaN     NaN                 NaN       NaN NaN  \n",
       "7675     NaN         NaN     NaN                 NaN       NaN NaN  \n",
       "7676     NaN         NaN     NaN                 NaN       NaN NaN  \n",
       "7677     NaN         NaN     NaN                 NaN       NaN NaN  \n",
       "7678     NaN         NaN     NaN                 NaN       NaN NaN  \n",
       "7679     NaN         NaN     NaN                 NaN       NaN NaN  \n",
       "7680     NaN         NaN     NaN                 NaN       NaN NaN  \n",
       "7681     NaN         NaN     NaN                 NaN       NaN NaN  \n",
       "7682     NaN         NaN     NaN                 NaN       NaN NaN  \n",
       "\n",
       "[20 rows x 27 columns]"
      ]
     },
     "execution_count": 96,
     "metadata": {},
     "output_type": "execute_result"
    }
   ],
   "source": [
    "police_killings_cleaned[(police_killings_cleaned.state.isnull())].head(20)"
   ]
  },
  {
   "cell_type": "markdown",
   "metadata": {
    "editable": true
   },
   "source": [
    "- Seems like all the records with no state also do not have any records in other columns. I will delete them too"
   ]
  },
  {
   "cell_type": "code",
   "execution_count": 97,
   "metadata": {
    "editable": true
   },
   "outputs": [
    {
     "data": {
      "text/plain": [
       "244"
      ]
     },
     "execution_count": 97,
     "metadata": {},
     "output_type": "execute_result"
    }
   ],
   "source": [
    "len(police_killings_cleaned[(police_killings_cleaned.state.isnull())])"
   ]
  },
  {
   "cell_type": "markdown",
   "metadata": {
    "editable": true
   },
   "source": [
    "- 244 records need to be deleted "
   ]
  },
  {
   "cell_type": "code",
   "execution_count": 98,
   "metadata": {
    "editable": true
   },
   "outputs": [],
   "source": [
    "police_killings_cleaned = police_killings_cleaned[(police_killings_cleaned.state.notnull())]"
   ]
  },
  {
   "cell_type": "code",
   "execution_count": 99,
   "metadata": {
    "editable": true
   },
   "outputs": [
    {
     "data": {
      "text/plain": [
       "7663"
      ]
     },
     "execution_count": 99,
     "metadata": {},
     "output_type": "execute_result"
    }
   ],
   "source": [
    "len(police_killings_cleaned)"
   ]
  },
  {
   "cell_type": "markdown",
   "metadata": {
    "editable": true
   },
   "source": [
    "- Original dataset had 7907 reccords, minus 244 and we get 7663 records"
   ]
  },
  {
   "cell_type": "markdown",
   "metadata": {
    "editable": true
   },
   "source": [
    "#### Now I will look at the values of columns and see if I can group up some information"
   ]
  },
  {
   "cell_type": "code",
   "execution_count": 100,
   "metadata": {
    "editable": true
   },
   "outputs": [
    {
     "data": {
      "text/plain": [
       "array(['Gunshot', 'Gunshot, Taser', 'Physical Restraint', 'Taser',\n",
       "       'Beaten/Bludgeoned with instrument', 'Beaten', 'Vehicle',\n",
       "       'Asphyxiated', 'Other', 'Gunshot, Beanbag Gun',\n",
       "       'Gunshot, Police Dog', 'Gunshot, Bean Bag Gun',\n",
       "       'Gunshot, Pepper Spray', 'Bean bag', 'Gunshot, Taser, Baton',\n",
       "       'Gunshot, Taser, Beanbag Shotgun', 'Pepper Spray',\n",
       "       'Gunshot, Unspecified Less Lethal Weapon', 'Physical restraint',\n",
       "       'Taser, Baton', 'Bomb', 'Taser, Physical Restraint',\n",
       "       'Baton, Pepper Spray, Physical Restraint', 'Gunshot, Vehicle',\n",
       "       'Gunshot, Stabbed', 'Gunshot, Taser, Pepper spray',\n",
       "       'Taser, Pepper Spray, Beaten', 'Taser, Beaten',\n",
       "       'Taser, Pepper spray, beaten', 'Tasered'], dtype=object)"
      ]
     },
     "execution_count": 100,
     "metadata": {},
     "output_type": "execute_result"
    }
   ],
   "source": [
    "police_killings_cleaned.cause_of_death.unique()"
   ]
  },
  {
   "cell_type": "code",
   "execution_count": 101,
   "metadata": {
    "editable": true
   },
   "outputs": [
    {
     "data": {
      "text/plain": [
       "Gunshot                                    7059\n",
       "Taser                                       246\n",
       "Gunshot, Taser                              223\n",
       "Vehicle                                      33\n",
       "Beaten                                       30\n",
       "Asphyxiated                                  14\n",
       "Physical Restraint                           11\n",
       "Physical restraint                            9\n",
       "Other                                         5\n",
       "Gunshot, Police Dog                           5\n",
       "Gunshot, Pepper Spray                         4\n",
       "Pepper Spray                                  4\n",
       "Bean bag                                      2\n",
       "Taser, Physical Restraint                     2\n",
       "Baton, Pepper Spray, Physical Restraint       1\n",
       "Gunshot, Beanbag Gun                          1\n",
       "Taser, Pepper spray, beaten                   1\n",
       "Taser, Pepper Spray, Beaten                   1\n",
       "Gunshot, Taser, Pepper spray                  1\n",
       "Beaten/Bludgeoned with instrument             1\n",
       "Gunshot, Taser, Baton                         1\n",
       "Gunshot, Unspecified Less Lethal Weapon       1\n",
       "Bomb                                          1\n",
       "Taser, Baton                                  1\n",
       "Gunshot, Bean Bag Gun                         1\n",
       "Gunshot, Stabbed                              1\n",
       "Gunshot, Vehicle                              1\n",
       "Tasered                                       1\n",
       "Taser, Beaten                                 1\n",
       "Gunshot, Taser, Beanbag Shotgun               1\n",
       "Name: cause_of_death, dtype: int64"
      ]
     },
     "execution_count": 101,
     "metadata": {},
     "output_type": "execute_result"
    }
   ],
   "source": [
    "police_killings_cleaned.cause_of_death.value_counts()"
   ]
  },
  {
   "cell_type": "code",
   "execution_count": 102,
   "metadata": {
    "editable": true
   },
   "outputs": [],
   "source": [
    "police_killings_cleaned.cause_of_death = police_killings_cleaned.cause_of_death.replace('Taser, Pepper spray, beaten', 'Taser, Pepper Spray, Beaten')\n",
    "police_killings_cleaned.cause_of_death = police_killings_cleaned.cause_of_death.replace('Physical restraint', 'Physical Restraint')\n",
    "police_killings_cleaned.cause_of_death = police_killings_cleaned.cause_of_death.replace('Gunshot, Bean Bag Gun', 'Gunshot, Bean Bag, Gun')\n",
    "police_killings_cleaned.cause_of_death = police_killings_cleaned.cause_of_death.replace('Gunshot, Beanbag Gun', 'Gunshot, Bean Bag, Gun')\n",
    "police_killings_cleaned.cause_of_death = police_killings_cleaned.cause_of_death.replace('Taser, Pepper spray, beaten', 'Taser, Pepper Spray, Beaten')\n",
    "police_killings_cleaned.cause_of_death = police_killings_cleaned.cause_of_death.replace('Tasered', 'Taser')\n",
    "# Grouping up cases with similar kind"
   ]
  },
  {
   "cell_type": "code",
   "execution_count": 103,
   "metadata": {
    "editable": true
   },
   "outputs": [
    {
     "data": {
      "text/plain": [
       "Gunshot                                    7059\n",
       "Taser                                       247\n",
       "Gunshot, Taser                              223\n",
       "Vehicle                                      33\n",
       "Beaten                                       30\n",
       "Physical Restraint                           20\n",
       "Asphyxiated                                  14\n",
       "Gunshot, Police Dog                           5\n",
       "Other                                         5\n",
       "Gunshot, Pepper Spray                         4\n",
       "Pepper Spray                                  4\n",
       "Taser, Pepper Spray, Beaten                   2\n",
       "Bean bag                                      2\n",
       "Taser, Physical Restraint                     2\n",
       "Gunshot, Bean Bag, Gun                        2\n",
       "Taser, Beaten                                 1\n",
       "Baton, Pepper Spray, Physical Restraint       1\n",
       "Gunshot, Taser, Pepper spray                  1\n",
       "Beaten/Bludgeoned with instrument             1\n",
       "Gunshot, Taser, Baton                         1\n",
       "Gunshot, Stabbed                              1\n",
       "Bomb                                          1\n",
       "Gunshot, Unspecified Less Lethal Weapon       1\n",
       "Gunshot, Vehicle                              1\n",
       "Taser, Baton                                  1\n",
       "Gunshot, Taser, Beanbag Shotgun               1\n",
       "Name: cause_of_death, dtype: int64"
      ]
     },
     "execution_count": 103,
     "metadata": {},
     "output_type": "execute_result"
    }
   ],
   "source": [
    "police_killings_cleaned.cause_of_death.value_counts()"
   ]
  },
  {
   "cell_type": "code",
   "execution_count": 104,
   "metadata": {
    "editable": true
   },
   "outputs": [
    {
     "data": {
      "text/plain": [
       "array(['No known charges', 'Charged with a crime',\n",
       "       'Charged with manslaughter', 'No', 'Charged, Convicted', 'NO',\n",
       "       'Charged, Acquitted', 'Charged, Charges Dropped',\n",
       "       'Charged, Convicted, Sentenced to 5 years in prison',\n",
       "       'Charged, Convicted, Sentenced to 40 years in prison',\n",
       "       'Charged, Convicted, Sentenced to 3 months in jail',\n",
       "       'Charged, Mistrial',\n",
       "       'Charged, Convicted, Sentenced to 30 years in prison',\n",
       "       'Charged, Convicted, Sentenced to 2.5 years in prison',\n",
       "       'Charged, Mistrial, Plead Guilty to Civil Rights Charges',\n",
       "       'Charged, Convicted, Sentenced to 4 years',\n",
       "       'Charged, Convicted, Sentenced to 5 years probation.',\n",
       "       'Charged, Convicted, Sentenced to 20 years in prison',\n",
       "       'Charged, Convicted, Sentenced to 16 years in prison',\n",
       "       'Charged, Convicted, Sentenced to life in prison without parole, plus 16 years',\n",
       "       'Charged, Convicted, Sentenced to 1 year in prison',\n",
       "       'Charged, Convicted, Sentenced to life in prison',\n",
       "       'Charged, Convicted, Sentenced to Life in Prison',\n",
       "       'Charged, Convicted, Sentenced to 3 years probation ',\n",
       "       'Charged, Convicted, Sentenced to 1 year in jail, 3 years suspended',\n",
       "       'Charged, Convicted, Sentenced to 50 years',\n",
       "       'Charged, Charges Tossed',\n",
       "       'Charged, Convicted, Sentenced to 18 months',\n",
       "       'Charged, Convicted, Sentenced to 6 years'], dtype=object)"
      ]
     },
     "execution_count": 104,
     "metadata": {},
     "output_type": "execute_result"
    }
   ],
   "source": [
    "police_killings_cleaned.has_criminal_charges.unique()"
   ]
  },
  {
   "cell_type": "code",
   "execution_count": 105,
   "metadata": {
    "editable": true
   },
   "outputs": [
    {
     "data": {
      "text/plain": [
       "No known charges                                                                 7524\n",
       "Charged with a crime                                                               49\n",
       "No                                                                                 37\n",
       "Charged, Acquitted                                                                 17\n",
       "Charged, Mistrial                                                                   5\n",
       "Charged, Convicted                                                                  4\n",
       "Charged, Convicted, Sentenced to 30 years in prison                                 2\n",
       "Charged, Convicted, Sentenced to 5 years probation.                                 2\n",
       "Charged, Charges Tossed                                                             2\n",
       "Charged, Convicted, Sentenced to life in prison                                     2\n",
       "Charged, Convicted, Sentenced to 18 months                                          1\n",
       "Charged, Convicted, Sentenced to 20 years in prison                                 1\n",
       "Charged, Convicted, Sentenced to 3 months in jail                                   1\n",
       "Charged, Convicted, Sentenced to 6 years                                            1\n",
       "Charged, Convicted, Sentenced to 1 year in prison                                   1\n",
       "Charged, Convicted, Sentenced to life in prison without parole, plus 16 years       1\n",
       "Charged, Convicted, Sentenced to 2.5 years in prison                                1\n",
       "Charged, Convicted, Sentenced to 1 year in jail, 3 years suspended                  1\n",
       "Charged, Convicted, Sentenced to 50 years                                           1\n",
       "Charged, Convicted, Sentenced to 4 years                                            1\n",
       "Charged, Convicted, Sentenced to 40 years in prison                                 1\n",
       "NO                                                                                  1\n",
       "Charged, Convicted, Sentenced to 3 years probation                                  1\n",
       "Charged, Mistrial, Plead Guilty to Civil Rights Charges                             1\n",
       "Charged, Convicted, Sentenced to Life in Prison                                     1\n",
       "Charged, Charges Dropped                                                            1\n",
       "Charged, Convicted, Sentenced to 16 years in prison                                 1\n",
       "Charged, Convicted, Sentenced to 5 years in prison                                  1\n",
       "Charged with manslaughter                                                           1\n",
       "Name: has_criminal_charges, dtype: int64"
      ]
     },
     "execution_count": 105,
     "metadata": {},
     "output_type": "execute_result"
    }
   ],
   "source": [
    "police_killings_cleaned.has_criminal_charges.value_counts()"
   ]
  },
  {
   "cell_type": "code",
   "execution_count": 106,
   "metadata": {
    "editable": true
   },
   "outputs": [],
   "source": [
    "police_killings_cleaned.has_criminal_charges = police_killings_cleaned.has_criminal_charges.replace('NO', 'No known charges')\n",
    "police_killings_cleaned.has_criminal_charges = police_killings_cleaned.has_criminal_charges.replace('No', 'No known charges')\n",
    "# Grouping all the 'No' cases with \"No known charges\""
   ]
  },
  {
   "cell_type": "code",
   "execution_count": 107,
   "metadata": {
    "editable": true
   },
   "outputs": [
    {
     "data": {
      "text/plain": [
       "No known charges                                                                 7562\n",
       "Charged with a crime                                                               49\n",
       "Charged, Acquitted                                                                 17\n",
       "Charged, Mistrial                                                                   5\n",
       "Charged, Convicted                                                                  4\n",
       "Charged, Convicted, Sentenced to 30 years in prison                                 2\n",
       "Charged, Convicted, Sentenced to 5 years probation.                                 2\n",
       "Charged, Charges Tossed                                                             2\n",
       "Charged, Convicted, Sentenced to life in prison                                     2\n",
       "Charged, Convicted, Sentenced to 16 years in prison                                 1\n",
       "Charged, Convicted, Sentenced to 20 years in prison                                 1\n",
       "Charged, Convicted, Sentenced to 3 months in jail                                   1\n",
       "Charged, Convicted, Sentenced to 6 years                                            1\n",
       "Charged, Convicted, Sentenced to 1 year in prison                                   1\n",
       "Charged, Convicted, Sentenced to life in prison without parole, plus 16 years       1\n",
       "Charged, Convicted, Sentenced to 2.5 years in prison                                1\n",
       "Charged, Convicted, Sentenced to 1 year in jail, 3 years suspended                  1\n",
       "Charged, Convicted, Sentenced to 50 years                                           1\n",
       "Charged, Convicted, Sentenced to 4 years                                            1\n",
       "Charged, Convicted, Sentenced to 18 months                                          1\n",
       "Charged, Convicted, Sentenced to 3 years probation                                  1\n",
       "Charged, Mistrial, Plead Guilty to Civil Rights Charges                             1\n",
       "Charged, Convicted, Sentenced to Life in Prison                                     1\n",
       "Charged, Charges Dropped                                                            1\n",
       "Charged, Convicted, Sentenced to 5 years in prison                                  1\n",
       "Charged, Convicted, Sentenced to 40 years in prison                                 1\n",
       "Charged with manslaughter                                                           1\n",
       "Name: has_criminal_charges, dtype: int64"
      ]
     },
     "execution_count": 107,
     "metadata": {},
     "output_type": "execute_result"
    }
   ],
   "source": [
    "police_killings_cleaned.has_criminal_charges.value_counts()"
   ]
  },
  {
   "cell_type": "code",
   "execution_count": 108,
   "metadata": {
    "editable": true
   },
   "outputs": [
    {
     "data": {
      "text/plain": [
       "No                     4765\n",
       "Yes                    1467\n",
       "Unknown                1121\n",
       "Drug or alcohol use     296\n",
       "unknown                   1\n",
       "Unkown                    1\n",
       "Unknown                   1\n",
       "Name: has_symtoms_of_mental_ilness, dtype: int64"
      ]
     },
     "execution_count": 108,
     "metadata": {},
     "output_type": "execute_result"
    }
   ],
   "source": [
    "police_killings_cleaned.has_symtoms_of_mental_ilness.value_counts()"
   ]
  },
  {
   "cell_type": "code",
   "execution_count": 109,
   "metadata": {
    "editable": true
   },
   "outputs": [],
   "source": [
    "police_killings_cleaned.has_symtoms_of_mental_ilness = police_killings_cleaned.has_symtoms_of_mental_ilness.replace('Unkown', 'Unknown')\n",
    "police_killings_cleaned.has_symtoms_of_mental_ilness = police_killings_cleaned.has_symtoms_of_mental_ilness.replace('Unknown ', 'Unknown')\n",
    "police_killings_cleaned.has_symtoms_of_mental_ilness = police_killings_cleaned.has_symtoms_of_mental_ilness.replace('unknown', 'Unknown')\n",
    "# Grouping all the unknown cases together"
   ]
  },
  {
   "cell_type": "code",
   "execution_count": 110,
   "metadata": {
    "editable": true
   },
   "outputs": [
    {
     "data": {
      "text/plain": [
       "No                     4765\n",
       "Yes                    1467\n",
       "Unknown                1124\n",
       "Drug or alcohol use     296\n",
       "Name: has_symtoms_of_mental_ilness, dtype: int64"
      ]
     },
     "execution_count": 110,
     "metadata": {},
     "output_type": "execute_result"
    }
   ],
   "source": [
    "police_killings_cleaned.has_symtoms_of_mental_ilness.value_counts()"
   ]
  },
  {
   "cell_type": "code",
   "execution_count": 111,
   "metadata": {
    "editable": true
   },
   "outputs": [
    {
     "data": {
      "text/plain": [
       "array(['Male', 'Female', nan, 'Transgender', 'Unknown'], dtype=object)"
      ]
     },
     "execution_count": 111,
     "metadata": {},
     "output_type": "execute_result"
    }
   ],
   "source": [
    "police_killings_cleaned.victim_gender.unique()"
   ]
  },
  {
   "cell_type": "code",
   "execution_count": 112,
   "metadata": {
    "editable": true
   },
   "outputs": [
    {
     "data": {
      "text/plain": [
       "Male           7253\n",
       "Female          391\n",
       "Transgender       7\n",
       "Unknown           4\n",
       "Name: victim_gender, dtype: int64"
      ]
     },
     "execution_count": 112,
     "metadata": {},
     "output_type": "execute_result"
    }
   ],
   "source": [
    "police_killings_cleaned.victim_gender.value_counts()"
   ]
  },
  {
   "cell_type": "code",
   "execution_count": 113,
   "metadata": {
    "editable": true
   },
   "outputs": [
    {
     "data": {
      "text/plain": [
       "array(['Allegedly Armed', 'Unclear', 'Vehicle', 'Unarmed'], dtype=object)"
      ]
     },
     "execution_count": 113,
     "metadata": {},
     "output_type": "execute_result"
    }
   ],
   "source": [
    "police_killings_cleaned.unarmed.unique()"
   ]
  },
  {
   "cell_type": "code",
   "execution_count": 114,
   "metadata": {
    "editable": true
   },
   "outputs": [
    {
     "data": {
      "text/plain": [
       "Allegedly Armed    5428\n",
       "Unarmed            1073\n",
       "Unclear             649\n",
       "Vehicle             513\n",
       "Name: unarmed, dtype: int64"
      ]
     },
     "execution_count": 114,
     "metadata": {},
     "output_type": "execute_result"
    }
   ],
   "source": [
    "police_killings_cleaned.unarmed.value_counts()"
   ]
  },
  {
   "cell_type": "code",
   "execution_count": 115,
   "metadata": {
    "editable": true
   },
   "outputs": [
    {
     "data": {
      "text/plain": [
       "array(['Allegedly Armed', 'Unclear', 'Vehicle', 'Unarmed'], dtype=object)"
      ]
     },
     "execution_count": 115,
     "metadata": {},
     "output_type": "execute_result"
    }
   ],
   "source": [
    "police_killings_cleaned.unarmed.unique()"
   ]
  },
  {
   "cell_type": "code",
   "execution_count": 116,
   "metadata": {
    "editable": true
   },
   "outputs": [
    {
     "data": {
      "text/plain": [
       "array(['White', 'Unknown race', 'Black', 'Hispanic', 'Pacific Islander',\n",
       "       'Asian', 'Native American', 'Unknown Race'], dtype=object)"
      ]
     },
     "execution_count": 116,
     "metadata": {},
     "output_type": "execute_result"
    }
   ],
   "source": [
    "police_killings_cleaned.victim_race.unique()"
   ]
  },
  {
   "cell_type": "markdown",
   "metadata": {
    "editable": true
   },
   "source": [
    "- I will group 'Unknown race' and 'Unknown Race' together"
   ]
  },
  {
   "cell_type": "code",
   "execution_count": 117,
   "metadata": {
    "editable": true
   },
   "outputs": [],
   "source": [
    "police_killings_cleaned.victim_race = police_killings_cleaned.victim_race.replace('Unknown race', 'Unknown Race')\n"
   ]
  },
  {
   "cell_type": "code",
   "execution_count": 118,
   "metadata": {
    "editable": true
   },
   "outputs": [
    {
     "data": {
      "text/plain": [
       "array(['White', 'Unknown Race', 'Black', 'Hispanic', 'Pacific Islander',\n",
       "       'Asian', 'Native American'], dtype=object)"
      ]
     },
     "execution_count": 118,
     "metadata": {},
     "output_type": "execute_result"
    }
   ],
   "source": [
    "police_killings_cleaned.victim_race.unique()"
   ]
  },
  {
   "cell_type": "code",
   "execution_count": 119,
   "metadata": {
    "editable": true
   },
   "outputs": [],
   "source": [
    "# I want to extract racial information for later use\n",
    "race_list = police_killings_cleaned.victim_race.unique()"
   ]
  },
  {
   "cell_type": "code",
   "execution_count": 120,
   "metadata": {
    "editable": true
   },
   "outputs": [
    {
     "data": {
      "text/plain": [
       "array(['other', 'attack', nan, 'undetermined'], dtype=object)"
      ]
     },
     "execution_count": 120,
     "metadata": {},
     "output_type": "execute_result"
    }
   ],
   "source": [
    "police_killings_cleaned.alleged_threat_level.unique()"
   ]
  },
  {
   "cell_type": "code",
   "execution_count": 121,
   "metadata": {
    "editable": true
   },
   "outputs": [
    {
     "data": {
      "text/plain": [
       "attack          3395\n",
       "other           1595\n",
       "undetermined     291\n",
       "Name: alleged_threat_level, dtype: int64"
      ]
     },
     "execution_count": 121,
     "metadata": {},
     "output_type": "execute_result"
    }
   ],
   "source": [
    "police_killings_cleaned.alleged_threat_level.value_counts()"
   ]
  },
  {
   "cell_type": "code",
   "execution_count": 122,
   "metadata": {
    "editable": true
   },
   "outputs": [
    {
     "data": {
      "text/plain": [
       "array(['not fleeing', nan, 'car', 'Foot', 'Not fleeing', '0', 'foot',\n",
       "       'Car', 'Other'], dtype=object)"
      ]
     },
     "execution_count": 122,
     "metadata": {},
     "output_type": "execute_result"
    }
   ],
   "source": [
    "police_killings_cleaned.fleeing.unique()"
   ]
  },
  {
   "cell_type": "code",
   "execution_count": 123,
   "metadata": {
    "editable": true
   },
   "outputs": [
    {
     "data": {
      "text/plain": [
       "Not fleeing    3365\n",
       "Car             808\n",
       "Foot            632\n",
       "Other           144\n",
       "0                83\n",
       "not fleeing       8\n",
       "car               5\n",
       "foot              2\n",
       "Name: fleeing, dtype: int64"
      ]
     },
     "execution_count": 123,
     "metadata": {},
     "output_type": "execute_result"
    }
   ],
   "source": [
    "police_killings_cleaned.fleeing.value_counts()"
   ]
  },
  {
   "cell_type": "code",
   "execution_count": 124,
   "metadata": {
    "editable": true
   },
   "outputs": [
    {
     "data": {
      "text/html": [
       "<div>\n",
       "<style scoped>\n",
       "    .dataframe tbody tr th:only-of-type {\n",
       "        vertical-align: middle;\n",
       "    }\n",
       "\n",
       "    .dataframe tbody tr th {\n",
       "        vertical-align: top;\n",
       "    }\n",
       "\n",
       "    .dataframe thead th {\n",
       "        text-align: right;\n",
       "    }\n",
       "</style>\n",
       "<table border=\"1\" class=\"dataframe\">\n",
       "  <thead>\n",
       "    <tr style=\"text-align: right;\">\n",
       "      <th></th>\n",
       "      <th>victim_name</th>\n",
       "      <th>victim_age</th>\n",
       "      <th>victim_gender</th>\n",
       "      <th>victim_race</th>\n",
       "      <th>victim_image</th>\n",
       "      <th>date_of_incident</th>\n",
       "      <th>street_address_of_incident</th>\n",
       "      <th>city</th>\n",
       "      <th>state</th>\n",
       "      <th>zipcode</th>\n",
       "      <th>...</th>\n",
       "      <th>has_symtoms_of_mental_ilness</th>\n",
       "      <th>unarmed</th>\n",
       "      <th>alleged_weapon</th>\n",
       "      <th>alleged_threat_level</th>\n",
       "      <th>fleeing</th>\n",
       "      <th>body_camera</th>\n",
       "      <th>wapo_id</th>\n",
       "      <th>is_off_duty_killing</th>\n",
       "      <th>geography</th>\n",
       "      <th>id</th>\n",
       "    </tr>\n",
       "  </thead>\n",
       "  <tbody>\n",
       "    <tr>\n",
       "      <th>11</th>\n",
       "      <td>John Bott</td>\n",
       "      <td>76</td>\n",
       "      <td>Male</td>\n",
       "      <td>Unknown Race</td>\n",
       "      <td>NaN</td>\n",
       "      <td>29/12/2019</td>\n",
       "      <td>US-78</td>\n",
       "      <td>Byhalia</td>\n",
       "      <td>MS</td>\n",
       "      <td>38611.0</td>\n",
       "      <td>...</td>\n",
       "      <td>Unknown</td>\n",
       "      <td>Allegedly Armed</td>\n",
       "      <td>gun</td>\n",
       "      <td>undetermined</td>\n",
       "      <td>0</td>\n",
       "      <td>No</td>\n",
       "      <td>5310.0</td>\n",
       "      <td>NaN</td>\n",
       "      <td>Rural</td>\n",
       "      <td>7654.0</td>\n",
       "    </tr>\n",
       "    <tr>\n",
       "      <th>23</th>\n",
       "      <td>Christopher Camacho</td>\n",
       "      <td>16</td>\n",
       "      <td>Male</td>\n",
       "      <td>Unknown Race</td>\n",
       "      <td>NaN</td>\n",
       "      <td>27/12/2019</td>\n",
       "      <td>138 Washington St</td>\n",
       "      <td>Limerick</td>\n",
       "      <td>ME</td>\n",
       "      <td>4048.0</td>\n",
       "      <td>...</td>\n",
       "      <td>No</td>\n",
       "      <td>Unclear</td>\n",
       "      <td>undetermined</td>\n",
       "      <td>undetermined</td>\n",
       "      <td>0</td>\n",
       "      <td>No</td>\n",
       "      <td>5322.0</td>\n",
       "      <td>NaN</td>\n",
       "      <td>Rural</td>\n",
       "      <td>7647.0</td>\n",
       "    </tr>\n",
       "    <tr>\n",
       "      <th>24</th>\n",
       "      <td>Antonio Smith</td>\n",
       "      <td>35</td>\n",
       "      <td>Male</td>\n",
       "      <td>Black</td>\n",
       "      <td>https://fatalencounters.org/wp-content/uploads...</td>\n",
       "      <td>26/12/2019</td>\n",
       "      <td>3600 Hallbrook St</td>\n",
       "      <td>Memphis</td>\n",
       "      <td>TN</td>\n",
       "      <td>38127.0</td>\n",
       "      <td>...</td>\n",
       "      <td>No</td>\n",
       "      <td>Unclear</td>\n",
       "      <td>unknown weapon</td>\n",
       "      <td>other</td>\n",
       "      <td>0</td>\n",
       "      <td>No</td>\n",
       "      <td>5314.0</td>\n",
       "      <td>NaN</td>\n",
       "      <td>Suburban</td>\n",
       "      <td>7643.0</td>\n",
       "    </tr>\n",
       "    <tr>\n",
       "      <th>43</th>\n",
       "      <td>Gary Wayne Madewell</td>\n",
       "      <td>38</td>\n",
       "      <td>Male</td>\n",
       "      <td>White</td>\n",
       "      <td>https://fatalencounters.org/wp-content/uploads...</td>\n",
       "      <td>19/12/2019</td>\n",
       "      <td>5 Boyd Ln</td>\n",
       "      <td>Carthage</td>\n",
       "      <td>TN</td>\n",
       "      <td>37030.0</td>\n",
       "      <td>...</td>\n",
       "      <td>No</td>\n",
       "      <td>Allegedly Armed</td>\n",
       "      <td>knife</td>\n",
       "      <td>other</td>\n",
       "      <td>0</td>\n",
       "      <td>No</td>\n",
       "      <td>5294.0</td>\n",
       "      <td>NaN</td>\n",
       "      <td>Rural</td>\n",
       "      <td>7620.0</td>\n",
       "    </tr>\n",
       "    <tr>\n",
       "      <th>54</th>\n",
       "      <td>Dana Brown</td>\n",
       "      <td>27</td>\n",
       "      <td>Male</td>\n",
       "      <td>Pacific Islander</td>\n",
       "      <td>https://fatalencounters.org/wp-content/uploads...</td>\n",
       "      <td>17/12/2019</td>\n",
       "      <td>Malakole Street</td>\n",
       "      <td>Kapolei</td>\n",
       "      <td>HI</td>\n",
       "      <td>96707.0</td>\n",
       "      <td>...</td>\n",
       "      <td>No</td>\n",
       "      <td>Allegedly Armed</td>\n",
       "      <td>knife</td>\n",
       "      <td>attack</td>\n",
       "      <td>0</td>\n",
       "      <td>Yes</td>\n",
       "      <td>5290.0</td>\n",
       "      <td>NaN</td>\n",
       "      <td>Suburban</td>\n",
       "      <td>7616.0</td>\n",
       "    </tr>\n",
       "  </tbody>\n",
       "</table>\n",
       "<p>5 rows × 27 columns</p>\n",
       "</div>"
      ],
      "text/plain": [
       "            victim_name victim_age victim_gender       victim_race  \\\n",
       "11            John Bott         76          Male      Unknown Race   \n",
       "23  Christopher Camacho         16          Male      Unknown Race   \n",
       "24        Antonio Smith         35          Male             Black   \n",
       "43  Gary Wayne Madewell         38          Male             White   \n",
       "54           Dana Brown         27          Male  Pacific Islander   \n",
       "\n",
       "                                         victim_image date_of_incident  \\\n",
       "11                                                NaN       29/12/2019   \n",
       "23                                                NaN       27/12/2019   \n",
       "24  https://fatalencounters.org/wp-content/uploads...       26/12/2019   \n",
       "43  https://fatalencounters.org/wp-content/uploads...       19/12/2019   \n",
       "54  https://fatalencounters.org/wp-content/uploads...       17/12/2019   \n",
       "\n",
       "   street_address_of_incident      city state  zipcode  ...  \\\n",
       "11                      US-78   Byhalia    MS  38611.0  ...   \n",
       "23          138 Washington St  Limerick    ME   4048.0  ...   \n",
       "24          3600 Hallbrook St   Memphis    TN  38127.0  ...   \n",
       "43                  5 Boyd Ln  Carthage    TN  37030.0  ...   \n",
       "54            Malakole Street   Kapolei    HI  96707.0  ...   \n",
       "\n",
       "   has_symtoms_of_mental_ilness          unarmed  alleged_weapon  \\\n",
       "11                      Unknown  Allegedly Armed             gun   \n",
       "23                           No          Unclear    undetermined   \n",
       "24                           No          Unclear  unknown weapon   \n",
       "43                           No  Allegedly Armed           knife   \n",
       "54                           No  Allegedly Armed           knife   \n",
       "\n",
       "   alleged_threat_level fleeing body_camera wapo_id is_off_duty_killing  \\\n",
       "11         undetermined       0          No  5310.0                 NaN   \n",
       "23         undetermined       0          No  5322.0                 NaN   \n",
       "24                other       0          No  5314.0                 NaN   \n",
       "43                other       0          No  5294.0                 NaN   \n",
       "54               attack       0         Yes  5290.0                 NaN   \n",
       "\n",
       "   geography      id  \n",
       "11     Rural  7654.0  \n",
       "23     Rural  7647.0  \n",
       "24  Suburban  7643.0  \n",
       "43     Rural  7620.0  \n",
       "54  Suburban  7616.0  \n",
       "\n",
       "[5 rows x 27 columns]"
      ]
     },
     "execution_count": 124,
     "metadata": {},
     "output_type": "execute_result"
    }
   ],
   "source": [
    "police_killings_cleaned[(police_killings_cleaned.fleeing == '0')].head(5)"
   ]
  },
  {
   "cell_type": "markdown",
   "metadata": {
    "editable": true
   },
   "source": [
    "- There are some duplicated values due to use of capital letters. I will tidy it up. I will also group '0' under 'Other'"
   ]
  },
  {
   "cell_type": "code",
   "execution_count": 125,
   "metadata": {
    "editable": true
   },
   "outputs": [],
   "source": [
    "police_killings_cleaned.fleeing = police_killings_cleaned.fleeing.replace('not fleeing', 'Not fleeing')\n",
    "police_killings_cleaned.fleeing = police_killings_cleaned.fleeing.replace('car', 'Car')\n",
    "police_killings_cleaned.fleeing = police_killings_cleaned.fleeing.replace('foot', 'Foot')\n",
    "police_killings_cleaned.fleeing = police_killings_cleaned.fleeing.replace('0', 'Other')"
   ]
  },
  {
   "cell_type": "code",
   "execution_count": 126,
   "metadata": {
    "editable": true
   },
   "outputs": [
    {
     "data": {
      "text/plain": [
       "Not fleeing    3373\n",
       "Car             813\n",
       "Foot            634\n",
       "Other           227\n",
       "Name: fleeing, dtype: int64"
      ]
     },
     "execution_count": 126,
     "metadata": {},
     "output_type": "execute_result"
    }
   ],
   "source": [
    "police_killings_cleaned.fleeing.value_counts()"
   ]
  },
  {
   "cell_type": "code",
   "execution_count": 127,
   "metadata": {
    "editable": true
   },
   "outputs": [
    {
     "data": {
      "text/plain": [
       "array([nan, 'Off-Duty'], dtype=object)"
      ]
     },
     "execution_count": 127,
     "metadata": {},
     "output_type": "execute_result"
    }
   ],
   "source": [
    "police_killings_cleaned.is_off_duty_killing.unique()"
   ]
  },
  {
   "cell_type": "code",
   "execution_count": 128,
   "metadata": {
    "editable": true
   },
   "outputs": [
    {
     "data": {
      "text/plain": [
       "1"
      ]
     },
     "execution_count": 128,
     "metadata": {},
     "output_type": "execute_result"
    }
   ],
   "source": [
    "police_killings_cleaned.is_off_duty_killing.nunique()"
   ]
  },
  {
   "cell_type": "code",
   "execution_count": 129,
   "metadata": {
    "editable": true
   },
   "outputs": [
    {
     "data": {
      "text/plain": [
       "array(['knife', 'unclear', 'gun', 'vehicle', 'chain', 'unknown weapon',\n",
       "       'Taser', 'undetermined', 'gun and vehicle', 'shovel',\n",
       "       'gun and car', 'toy weapon', 'unarmed', 'baseball bat', 'hatchet',\n",
       "       'car, knife and mace', 'sword', 'vehicle and machete',\n",
       "       'screwdriver', 'vehicle and gun', 'BB gun', 'sharp object',\n",
       "       'box cutter', 'ax', 'hammer', 'crowbar', 'chair', 'scissors',\n",
       "       'toy', 'baseball bat and knife', 'straight edge razor', 'machete',\n",
       "       'baton', 'Airsoft pistol', 'air pistol', 'wasp spray',\n",
       "       'BB gun and vehicle', 'piece of wood', 'gun and knife',\n",
       "       'garden tool', 'barstool', 'walking stick', 'wrench',\n",
       "       'beer bottle', 'meat cleaver', 'metal pipe', 'flag pole', 'rock',\n",
       "       'lawn mower blade', 'crossbow', 'metal object', 'bow and arrow',\n",
       "       'pick-axe', 'lamp', 'glass shard', 'incendiary device', 'unknown',\n",
       "       'pipe', 'pole and knife', 'Unknown weapon', 'lighter fluid',\n",
       "       'pitchfork', 'gun and sword', 'taser', 'blunt object', 'chainsaw',\n",
       "       'pen', 'fireworks', 'gun and hatchet', 'baseball bat and bottle',\n",
       "       'electric razor on cord', 'metal stick', 'golf club',\n",
       "       'pole and Knife', 'air conditioner and glass bottle', 'Scissors',\n",
       "       'tire iron', 'gun and machete', 'oar', 'bat', 'bottle',\n",
       "       'metal rake', 'brick', 'motorcycle', 'chain saw', 'bayonet',\n",
       "       'metal pole', 'Ax', 'spear', 'stick', 'knife, toy', 'flashlight',\n",
       "       'Pole', 'hand torch', 'baseball bat and fireplace poker',\n",
       "       'toy broomstick', 'bean-bag Gun', 'binoculars', 'Stapler',\n",
       "       'railroad spike', 'guns and explosives', \"contractor's level\",\n",
       "       'carjack', 'vehicle ', 'flagpole', 'metal hand tool',\n",
       "       'cordless drill', 'Hammer', 'nail gun', 'sock', 'edged weapon',\n",
       "       'wooden nightstand', 'knife and rocks', 'cell phone',\n",
       "       'baseball bat and screwdriver', 'metal bar', 'knife and crowbar',\n",
       "       'knife and screwdriver', 'axe', 'metal post', 'pepper spray',\n",
       "       'knives', 'toy sword', 'rocks', 'claw hammer', 'cologne',\n",
       "       'broken glass bottle', 'cane and knife', 'knife and stick',\n",
       "       'blade', 'gun and explosives', 'lighter', 'hockey stick',\n",
       "       'garden shears', 'gun ', 'wood stick ', 'knife and gun',\n",
       "       'ax and knife', 'cane', 'cleaver', 'game controller',\n",
       "       'screw driver', 'unclear weapon', 'guns', 'mallett',\n",
       "       'machete and pipe', 'knife and hammer', 'taser, baton, gun',\n",
       "       'hunting bow', 'wooden stick', 'unclear ', 'knife and bat',\n",
       "       'gun and knives', 'knife and taser', 'hammer and knife',\n",
       "       'knife and scissors', 'fireworks and gun', 'metal tool',\n",
       "       'explosives and guns', 'flare gun', 'knife/scissors', 'probe',\n",
       "       'tree branch', 'bike', 'table leg', 'unknown object', 'tool',\n",
       "       'gun, vehicle', 'sticks', 'hot glue gun', 'club', 'blunt weapon'],\n",
       "      dtype=object)"
      ]
     },
     "execution_count": 129,
     "metadata": {},
     "output_type": "execute_result"
    }
   ],
   "source": [
    "police_killings_cleaned.alleged_weapon.unique()"
   ]
  },
  {
   "cell_type": "markdown",
   "metadata": {
    "editable": true
   },
   "source": [
    "- There are too many items in the weapon column. I am not going to tidy it up"
   ]
  },
  {
   "cell_type": "code",
   "execution_count": 130,
   "metadata": {
    "editable": true
   },
   "outputs": [
    {
     "data": {
      "text/plain": [
       "array(['Rural', 'Urban', 'Suburban', nan], dtype=object)"
      ]
     },
     "execution_count": 130,
     "metadata": {},
     "output_type": "execute_result"
    }
   ],
   "source": [
    "police_killings_cleaned.geography.unique()"
   ]
  },
  {
   "cell_type": "code",
   "execution_count": 131,
   "metadata": {
    "editable": true
   },
   "outputs": [
    {
     "data": {
      "text/plain": [
       "3"
      ]
     },
     "execution_count": 131,
     "metadata": {},
     "output_type": "execute_result"
    }
   ],
   "source": [
    "police_killings_cleaned.geography.nunique()"
   ]
  },
  {
   "cell_type": "code",
   "execution_count": 132,
   "metadata": {
    "editable": true
   },
   "outputs": [
    {
     "data": {
      "text/plain": [
       "victim_name                     7411\n",
       "victim_age                        87\n",
       "victim_gender                      4\n",
       "victim_race                        7\n",
       "victim_image                    4191\n",
       "date_of_incident                2404\n",
       "street_address_of_incident      7487\n",
       "city                            2885\n",
       "state                             51\n",
       "zipcode                         4969\n",
       "county                          1112\n",
       "agency_responsible_for_death    2855\n",
       "cause_of_death                    26\n",
       "desc_death                      7581\n",
       "official_justice_desposition     100\n",
       "has_criminal_charges              27\n",
       "link_to_document                7560\n",
       "has_symtoms_of_mental_ilness       4\n",
       "unarmed                            4\n",
       "alleged_weapon                   172\n",
       "alleged_threat_level               3\n",
       "fleeing                            4\n",
       "body_camera                        5\n",
       "wapo_id                         4876\n",
       "is_off_duty_killing                1\n",
       "geography                          3\n",
       "id                              7663\n",
       "dtype: int64"
      ]
     },
     "execution_count": 132,
     "metadata": {},
     "output_type": "execute_result"
    }
   ],
   "source": [
    "police_killings_cleaned.nunique()"
   ]
  },
  {
   "cell_type": "code",
   "execution_count": 133,
   "metadata": {
    "editable": true
   },
   "outputs": [
    {
     "data": {
      "text/plain": [
       "7663"
      ]
     },
     "execution_count": 133,
     "metadata": {},
     "output_type": "execute_result"
    }
   ],
   "source": [
    "len(police_killings_cleaned)"
   ]
  },
  {
   "cell_type": "code",
   "execution_count": 134,
   "metadata": {
    "editable": true
   },
   "outputs": [],
   "source": [
    "police_killings_cleaned = police_killings_cleaned.rename(columns={\"id\":\"victim_id\"})\n",
    "# renaming"
   ]
  },
  {
   "cell_type": "code",
   "execution_count": 135,
   "metadata": {
    "editable": true
   },
   "outputs": [
    {
     "data": {
      "text/html": [
       "<div>\n",
       "<style scoped>\n",
       "    .dataframe tbody tr th:only-of-type {\n",
       "        vertical-align: middle;\n",
       "    }\n",
       "\n",
       "    .dataframe tbody tr th {\n",
       "        vertical-align: top;\n",
       "    }\n",
       "\n",
       "    .dataframe thead th {\n",
       "        text-align: right;\n",
       "    }\n",
       "</style>\n",
       "<table border=\"1\" class=\"dataframe\">\n",
       "  <thead>\n",
       "    <tr style=\"text-align: right;\">\n",
       "      <th></th>\n",
       "      <th>victim_name</th>\n",
       "      <th>victim_age</th>\n",
       "      <th>victim_gender</th>\n",
       "      <th>victim_race</th>\n",
       "      <th>victim_image</th>\n",
       "      <th>date_of_incident</th>\n",
       "      <th>street_address_of_incident</th>\n",
       "      <th>city</th>\n",
       "      <th>state</th>\n",
       "      <th>zipcode</th>\n",
       "      <th>...</th>\n",
       "      <th>has_symtoms_of_mental_ilness</th>\n",
       "      <th>unarmed</th>\n",
       "      <th>alleged_weapon</th>\n",
       "      <th>alleged_threat_level</th>\n",
       "      <th>fleeing</th>\n",
       "      <th>body_camera</th>\n",
       "      <th>wapo_id</th>\n",
       "      <th>is_off_duty_killing</th>\n",
       "      <th>geography</th>\n",
       "      <th>victim_id</th>\n",
       "    </tr>\n",
       "  </thead>\n",
       "  <tbody>\n",
       "    <tr>\n",
       "      <th>0</th>\n",
       "      <td>Eric M. Tellez</td>\n",
       "      <td>28</td>\n",
       "      <td>Male</td>\n",
       "      <td>White</td>\n",
       "      <td>https://fatalencounters.org/wp-content/uploads...</td>\n",
       "      <td>31/12/2019</td>\n",
       "      <td>Broad St.</td>\n",
       "      <td>Globe</td>\n",
       "      <td>AZ</td>\n",
       "      <td>85501.0</td>\n",
       "      <td>...</td>\n",
       "      <td>No</td>\n",
       "      <td>Allegedly Armed</td>\n",
       "      <td>knife</td>\n",
       "      <td>other</td>\n",
       "      <td>Not fleeing</td>\n",
       "      <td>no</td>\n",
       "      <td>5332.0</td>\n",
       "      <td>NaN</td>\n",
       "      <td>Rural</td>\n",
       "      <td>7664.0</td>\n",
       "    </tr>\n",
       "    <tr>\n",
       "      <th>1</th>\n",
       "      <td>Name withheld by police</td>\n",
       "      <td>NaN</td>\n",
       "      <td>Male</td>\n",
       "      <td>Unknown Race</td>\n",
       "      <td>NaN</td>\n",
       "      <td>31/12/2019</td>\n",
       "      <td>7239-7411 I-40</td>\n",
       "      <td>Memphis</td>\n",
       "      <td>AR</td>\n",
       "      <td>38103.0</td>\n",
       "      <td>...</td>\n",
       "      <td>No</td>\n",
       "      <td>Unclear</td>\n",
       "      <td>unclear</td>\n",
       "      <td>other</td>\n",
       "      <td>NaN</td>\n",
       "      <td>NaN</td>\n",
       "      <td>NaN</td>\n",
       "      <td>NaN</td>\n",
       "      <td>Urban</td>\n",
       "      <td>7665.0</td>\n",
       "    </tr>\n",
       "  </tbody>\n",
       "</table>\n",
       "<p>2 rows × 27 columns</p>\n",
       "</div>"
      ],
      "text/plain": [
       "               victim_name victim_age victim_gender   victim_race  \\\n",
       "0           Eric M. Tellez         28          Male         White   \n",
       "1  Name withheld by police        NaN          Male  Unknown Race   \n",
       "\n",
       "                                        victim_image date_of_incident  \\\n",
       "0  https://fatalencounters.org/wp-content/uploads...       31/12/2019   \n",
       "1                                                NaN       31/12/2019   \n",
       "\n",
       "  street_address_of_incident     city state  zipcode  ...  \\\n",
       "0                 Broad St.     Globe    AZ  85501.0  ...   \n",
       "1             7239-7411 I-40  Memphis    AR  38103.0  ...   \n",
       "\n",
       "  has_symtoms_of_mental_ilness          unarmed alleged_weapon  \\\n",
       "0                           No  Allegedly Armed          knife   \n",
       "1                           No          Unclear        unclear   \n",
       "\n",
       "  alleged_threat_level      fleeing body_camera wapo_id is_off_duty_killing  \\\n",
       "0                other  Not fleeing          no  5332.0                 NaN   \n",
       "1                other          NaN         NaN     NaN                 NaN   \n",
       "\n",
       "  geography victim_id  \n",
       "0     Rural    7664.0  \n",
       "1     Urban    7665.0  \n",
       "\n",
       "[2 rows x 27 columns]"
      ]
     },
     "execution_count": 135,
     "metadata": {},
     "output_type": "execute_result"
    }
   ],
   "source": [
    "police_killings_cleaned.head(2)"
   ]
  },
  {
   "cell_type": "markdown",
   "metadata": {
    "editable": true
   },
   "source": [
    "- I want to change the datatype of some columns so that they can be joined with other datasets during analysis"
   ]
  },
  {
   "cell_type": "code",
   "execution_count": 136,
   "metadata": {
    "editable": true
   },
   "outputs": [],
   "source": [
    "police_killings_cleaned.victim_id = police_killings_cleaned.victim_id.astype(int)\n",
    "police_killings_cleaned.zipcode = police_killings_cleaned.zipcode.astype(str)\n",
    "police_killings_cleaned.wapo_id = police_killings_cleaned.wapo_id.astype(str)\n",
    "police_killings_cleaned.date_of_incident = police_killings_cleaned.date_of_incident.astype('datetime64[ns]') "
   ]
  },
  {
   "cell_type": "code",
   "execution_count": 137,
   "metadata": {
    "editable": true
   },
   "outputs": [
    {
     "name": "stdout",
     "output_type": "stream",
     "text": [
      "<class 'pandas.core.frame.DataFrame'>\n",
      "Int64Index: 7663 entries, 0 to 7662\n",
      "Data columns (total 27 columns):\n",
      " #   Column                        Non-Null Count  Dtype         \n",
      "---  ------                        --------------  -----         \n",
      " 0   victim_name                   7663 non-null   object        \n",
      " 1   victim_age                    7596 non-null   object        \n",
      " 2   victim_gender                 7655 non-null   object        \n",
      " 3   victim_race                   7663 non-null   object        \n",
      " 4   victim_image                  4200 non-null   object        \n",
      " 5   date_of_incident              7663 non-null   datetime64[ns]\n",
      " 6   street_address_of_incident    7580 non-null   object        \n",
      " 7   city                          7657 non-null   object        \n",
      " 8   state                         7663 non-null   object        \n",
      " 9   zipcode                       7663 non-null   object        \n",
      " 10  county                        7648 non-null   object        \n",
      " 11  agency_responsible_for_death  7647 non-null   object        \n",
      " 12  cause_of_death                7663 non-null   object        \n",
      " 13  desc_death                    7643 non-null   object        \n",
      " 14  official_justice_desposition  7407 non-null   object        \n",
      " 15  has_criminal_charges          7663 non-null   object        \n",
      " 16  link_to_document              7651 non-null   object        \n",
      " 17  has_symtoms_of_mental_ilness  7652 non-null   object        \n",
      " 18  unarmed                       7663 non-null   object        \n",
      " 19  alleged_weapon                7663 non-null   object        \n",
      " 20  alleged_threat_level          5281 non-null   object        \n",
      " 21  fleeing                       5047 non-null   object        \n",
      " 22  body_camera                   4794 non-null   object        \n",
      " 23  wapo_id                       7663 non-null   object        \n",
      " 24  is_off_duty_killing           226 non-null    object        \n",
      " 25  geography                     7596 non-null   object        \n",
      " 26  victim_id                     7663 non-null   int64         \n",
      "dtypes: datetime64[ns](1), int64(1), object(25)\n",
      "memory usage: 1.6+ MB\n"
     ]
    }
   ],
   "source": [
    "police_killings_cleaned.info()"
   ]
  },
  {
   "cell_type": "code",
   "execution_count": 138,
   "metadata": {
    "editable": true
   },
   "outputs": [
    {
     "data": {
      "text/html": [
       "<div>\n",
       "<style scoped>\n",
       "    .dataframe tbody tr th:only-of-type {\n",
       "        vertical-align: middle;\n",
       "    }\n",
       "\n",
       "    .dataframe tbody tr th {\n",
       "        vertical-align: top;\n",
       "    }\n",
       "\n",
       "    .dataframe thead th {\n",
       "        text-align: right;\n",
       "    }\n",
       "</style>\n",
       "<table border=\"1\" class=\"dataframe\">\n",
       "  <thead>\n",
       "    <tr style=\"text-align: right;\">\n",
       "      <th></th>\n",
       "      <th>victim_name</th>\n",
       "      <th>victim_age</th>\n",
       "      <th>victim_gender</th>\n",
       "      <th>victim_race</th>\n",
       "      <th>victim_image</th>\n",
       "      <th>date_of_incident</th>\n",
       "      <th>street_address_of_incident</th>\n",
       "      <th>city</th>\n",
       "      <th>state</th>\n",
       "      <th>zipcode</th>\n",
       "      <th>...</th>\n",
       "      <th>has_symtoms_of_mental_ilness</th>\n",
       "      <th>unarmed</th>\n",
       "      <th>alleged_weapon</th>\n",
       "      <th>alleged_threat_level</th>\n",
       "      <th>fleeing</th>\n",
       "      <th>body_camera</th>\n",
       "      <th>wapo_id</th>\n",
       "      <th>is_off_duty_killing</th>\n",
       "      <th>geography</th>\n",
       "      <th>victim_id</th>\n",
       "    </tr>\n",
       "  </thead>\n",
       "  <tbody>\n",
       "    <tr>\n",
       "      <th>0</th>\n",
       "      <td>Eric M. Tellez</td>\n",
       "      <td>28</td>\n",
       "      <td>Male</td>\n",
       "      <td>White</td>\n",
       "      <td>https://fatalencounters.org/wp-content/uploads...</td>\n",
       "      <td>2019-12-31</td>\n",
       "      <td>Broad St.</td>\n",
       "      <td>Globe</td>\n",
       "      <td>AZ</td>\n",
       "      <td>85501.0</td>\n",
       "      <td>...</td>\n",
       "      <td>No</td>\n",
       "      <td>Allegedly Armed</td>\n",
       "      <td>knife</td>\n",
       "      <td>other</td>\n",
       "      <td>Not fleeing</td>\n",
       "      <td>no</td>\n",
       "      <td>5332.0</td>\n",
       "      <td>NaN</td>\n",
       "      <td>Rural</td>\n",
       "      <td>7664</td>\n",
       "    </tr>\n",
       "  </tbody>\n",
       "</table>\n",
       "<p>1 rows × 27 columns</p>\n",
       "</div>"
      ],
      "text/plain": [
       "      victim_name victim_age victim_gender victim_race  \\\n",
       "0  Eric M. Tellez         28          Male       White   \n",
       "\n",
       "                                        victim_image date_of_incident  \\\n",
       "0  https://fatalencounters.org/wp-content/uploads...       2019-12-31   \n",
       "\n",
       "  street_address_of_incident   city state  zipcode  ...  \\\n",
       "0                 Broad St.   Globe    AZ  85501.0  ...   \n",
       "\n",
       "  has_symtoms_of_mental_ilness          unarmed alleged_weapon  \\\n",
       "0                           No  Allegedly Armed          knife   \n",
       "\n",
       "  alleged_threat_level      fleeing body_camera wapo_id is_off_duty_killing  \\\n",
       "0                other  Not fleeing          no  5332.0                 NaN   \n",
       "\n",
       "  geography victim_id  \n",
       "0     Rural      7664  \n",
       "\n",
       "[1 rows x 27 columns]"
      ]
     },
     "execution_count": 138,
     "metadata": {},
     "output_type": "execute_result"
    }
   ],
   "source": [
    "police_killings_cleaned.head(1)"
   ]
  },
  {
   "cell_type": "code",
   "execution_count": 139,
   "metadata": {
    "editable": true
   },
   "outputs": [],
   "source": [
    "new_order = [\"victim_id\",\"victim_name\",\"victim_gender\"\\\n",
    "            ,\"victim_race\",\"victim_image\",\"date_of_incident\"\\\n",
    "            ,\"street_address_of_incident\",\"city\",\"state\",\"zipcode\"\\\n",
    "            ,\"county\",\"agency_responsible_for_death\",\"cause_of_death\"\\\n",
    "            ,\"desc_death\",\"official_justice_desposition\",\"has_criminal_charges\"\\\n",
    "            ,\"link_to_document\",\"has_symtoms_of_mental_ilness\",\"unarmed\",\"alleged_weapon\"\\\n",
    "            ,\"alleged_threat_level\",\"fleeing\",\"body_camera\",\"wapo_id\",\"is_off_duty_killing\"\\\n",
    "            ,\"geography\"]"
   ]
  },
  {
   "cell_type": "code",
   "execution_count": 140,
   "metadata": {
    "editable": true
   },
   "outputs": [],
   "source": [
    "police_killings_cleaned = police_killings_cleaned.reindex(columns=new_order)"
   ]
  },
  {
   "cell_type": "code",
   "execution_count": 141,
   "metadata": {
    "editable": true
   },
   "outputs": [
    {
     "data": {
      "text/html": [
       "<div>\n",
       "<style scoped>\n",
       "    .dataframe tbody tr th:only-of-type {\n",
       "        vertical-align: middle;\n",
       "    }\n",
       "\n",
       "    .dataframe tbody tr th {\n",
       "        vertical-align: top;\n",
       "    }\n",
       "\n",
       "    .dataframe thead th {\n",
       "        text-align: right;\n",
       "    }\n",
       "</style>\n",
       "<table border=\"1\" class=\"dataframe\">\n",
       "  <thead>\n",
       "    <tr style=\"text-align: right;\">\n",
       "      <th></th>\n",
       "      <th>victim_id</th>\n",
       "      <th>victim_name</th>\n",
       "      <th>victim_gender</th>\n",
       "      <th>victim_race</th>\n",
       "      <th>victim_image</th>\n",
       "      <th>date_of_incident</th>\n",
       "      <th>street_address_of_incident</th>\n",
       "      <th>city</th>\n",
       "      <th>state</th>\n",
       "      <th>zipcode</th>\n",
       "      <th>...</th>\n",
       "      <th>link_to_document</th>\n",
       "      <th>has_symtoms_of_mental_ilness</th>\n",
       "      <th>unarmed</th>\n",
       "      <th>alleged_weapon</th>\n",
       "      <th>alleged_threat_level</th>\n",
       "      <th>fleeing</th>\n",
       "      <th>body_camera</th>\n",
       "      <th>wapo_id</th>\n",
       "      <th>is_off_duty_killing</th>\n",
       "      <th>geography</th>\n",
       "    </tr>\n",
       "  </thead>\n",
       "  <tbody>\n",
       "    <tr>\n",
       "      <th>0</th>\n",
       "      <td>7664</td>\n",
       "      <td>Eric M. Tellez</td>\n",
       "      <td>Male</td>\n",
       "      <td>White</td>\n",
       "      <td>https://fatalencounters.org/wp-content/uploads...</td>\n",
       "      <td>2019-12-31</td>\n",
       "      <td>Broad St.</td>\n",
       "      <td>Globe</td>\n",
       "      <td>AZ</td>\n",
       "      <td>85501.0</td>\n",
       "      <td>...</td>\n",
       "      <td>https://www.azfamily.com/news/phoenix-man-arme...</td>\n",
       "      <td>No</td>\n",
       "      <td>Allegedly Armed</td>\n",
       "      <td>knife</td>\n",
       "      <td>other</td>\n",
       "      <td>Not fleeing</td>\n",
       "      <td>no</td>\n",
       "      <td>5332.0</td>\n",
       "      <td>NaN</td>\n",
       "      <td>Rural</td>\n",
       "    </tr>\n",
       "  </tbody>\n",
       "</table>\n",
       "<p>1 rows × 26 columns</p>\n",
       "</div>"
      ],
      "text/plain": [
       "   victim_id     victim_name victim_gender victim_race  \\\n",
       "0       7664  Eric M. Tellez          Male       White   \n",
       "\n",
       "                                        victim_image date_of_incident  \\\n",
       "0  https://fatalencounters.org/wp-content/uploads...       2019-12-31   \n",
       "\n",
       "  street_address_of_incident   city state  zipcode  ...  \\\n",
       "0                 Broad St.   Globe    AZ  85501.0  ...   \n",
       "\n",
       "                                    link_to_document  \\\n",
       "0  https://www.azfamily.com/news/phoenix-man-arme...   \n",
       "\n",
       "  has_symtoms_of_mental_ilness          unarmed alleged_weapon  \\\n",
       "0                           No  Allegedly Armed          knife   \n",
       "\n",
       "  alleged_threat_level      fleeing body_camera wapo_id is_off_duty_killing  \\\n",
       "0                other  Not fleeing          no  5332.0                 NaN   \n",
       "\n",
       "  geography  \n",
       "0     Rural  \n",
       "\n",
       "[1 rows x 26 columns]"
      ]
     },
     "execution_count": 141,
     "metadata": {},
     "output_type": "execute_result"
    }
   ],
   "source": [
    "police_killings_cleaned.head(1)"
   ]
  },
  {
   "cell_type": "code",
   "execution_count": 142,
   "metadata": {
    "editable": true
   },
   "outputs": [],
   "source": [
    "victims_list = 'victims.csv'"
   ]
  },
  {
   "cell_type": "code",
   "execution_count": 224,
   "metadata": {
    "editable": true
   },
   "outputs": [],
   "source": [
    "police_killings_cleaned.to_csv(os.path.join(s3path, victims_list),header=True, index = False)"
   ]
  },
  {
   "cell_type": "markdown",
   "metadata": {
    "editable": true
   },
   "source": [
    "#### 4. Police Deaths"
   ]
  },
  {
   "cell_type": "code",
   "execution_count": 144,
   "metadata": {
    "editable": true
   },
   "outputs": [
    {
     "name": "stdout",
     "output_type": "stream",
     "text": [
      "<class 'pandas.core.frame.DataFrame'>\n",
      "RangeIndex: 22800 entries, 0 to 22799\n",
      "Data columns (total 10 columns):\n",
      " #   Column       Non-Null Count  Dtype \n",
      "---  ------       --------------  ----- \n",
      " 0   person       22800 non-null  object\n",
      " 1   dept         22800 non-null  object\n",
      " 2   eow          22800 non-null  object\n",
      " 3   cause        22800 non-null  object\n",
      " 4   cause_short  22800 non-null  object\n",
      " 5   date         22800 non-null  object\n",
      " 6   year         22800 non-null  int64 \n",
      " 7   canine       22800 non-null  bool  \n",
      " 8   dept_name    22800 non-null  object\n",
      " 9   state        22800 non-null  object\n",
      "dtypes: bool(1), int64(1), object(8)\n",
      "memory usage: 1.6+ MB\n"
     ]
    }
   ],
   "source": [
    "police_deaths_df.info()"
   ]
  },
  {
   "cell_type": "code",
   "execution_count": 145,
   "metadata": {
    "editable": true
   },
   "outputs": [],
   "source": [
    "police_deaths_df_cleaned = police_deaths_df"
   ]
  },
  {
   "cell_type": "code",
   "execution_count": 146,
   "metadata": {
    "editable": true
   },
   "outputs": [
    {
     "data": {
      "text/plain": [
       "person         22742\n",
       "dept            6528\n",
       "eow            17158\n",
       "cause             36\n",
       "cause_short       36\n",
       "date           17158\n",
       "year             202\n",
       "canine             2\n",
       "dept_name       5525\n",
       "state             60\n",
       "dtype: int64"
      ]
     },
     "execution_count": 146,
     "metadata": {},
     "output_type": "execute_result"
    }
   ],
   "source": [
    "police_deaths_df_cleaned.nunique()"
   ]
  },
  {
   "cell_type": "code",
   "execution_count": 147,
   "metadata": {
    "editable": true
   },
   "outputs": [
    {
     "data": {
      "text/html": [
       "<div>\n",
       "<style scoped>\n",
       "    .dataframe tbody tr th:only-of-type {\n",
       "        vertical-align: middle;\n",
       "    }\n",
       "\n",
       "    .dataframe tbody tr th {\n",
       "        vertical-align: top;\n",
       "    }\n",
       "\n",
       "    .dataframe thead th {\n",
       "        text-align: right;\n",
       "    }\n",
       "</style>\n",
       "<table border=\"1\" class=\"dataframe\">\n",
       "  <thead>\n",
       "    <tr style=\"text-align: right;\">\n",
       "      <th></th>\n",
       "      <th>person</th>\n",
       "      <th>dept</th>\n",
       "      <th>eow</th>\n",
       "      <th>cause</th>\n",
       "      <th>cause_short</th>\n",
       "      <th>date</th>\n",
       "      <th>year</th>\n",
       "      <th>canine</th>\n",
       "      <th>dept_name</th>\n",
       "      <th>state</th>\n",
       "    </tr>\n",
       "  </thead>\n",
       "  <tbody>\n",
       "    <tr>\n",
       "      <th>0</th>\n",
       "      <td>Constable Darius Quimby</td>\n",
       "      <td>Albany County Constable's Office, NY</td>\n",
       "      <td>EOW: Monday, January 3, 1791</td>\n",
       "      <td>Cause of Death: Gunfire</td>\n",
       "      <td>Gunfire</td>\n",
       "      <td>1791-01-03</td>\n",
       "      <td>1791</td>\n",
       "      <td>False</td>\n",
       "      <td>Albany County Constable's Office</td>\n",
       "      <td>NY</td>\n",
       "    </tr>\n",
       "    <tr>\n",
       "      <th>1</th>\n",
       "      <td>Sheriff Cornelius Hogeboom</td>\n",
       "      <td>Columbia County Sheriff's Office, NY</td>\n",
       "      <td>EOW: Saturday, October 22, 1791</td>\n",
       "      <td>Cause of Death: Gunfire</td>\n",
       "      <td>Gunfire</td>\n",
       "      <td>1791-10-22</td>\n",
       "      <td>1791</td>\n",
       "      <td>False</td>\n",
       "      <td>Columbia County Sheriff's Office</td>\n",
       "      <td>NY</td>\n",
       "    </tr>\n",
       "    <tr>\n",
       "      <th>2</th>\n",
       "      <td>Deputy Sheriff Isaac Smith</td>\n",
       "      <td>Westchester County Sheriff's Department, NY</td>\n",
       "      <td>EOW: Thursday, May 17, 1792</td>\n",
       "      <td>Cause of Death: Gunfire</td>\n",
       "      <td>Gunfire</td>\n",
       "      <td>1792-05-17</td>\n",
       "      <td>1792</td>\n",
       "      <td>False</td>\n",
       "      <td>Westchester County Sheriff's Department</td>\n",
       "      <td>NY</td>\n",
       "    </tr>\n",
       "    <tr>\n",
       "      <th>3</th>\n",
       "      <td>Marshal Robert Forsyth</td>\n",
       "      <td>United States Department of Justice - United S...</td>\n",
       "      <td>EOW: Saturday, January 11, 1794</td>\n",
       "      <td>Cause of Death: Gunfire</td>\n",
       "      <td>Gunfire</td>\n",
       "      <td>1794-01-11</td>\n",
       "      <td>1794</td>\n",
       "      <td>False</td>\n",
       "      <td>United States Department of Justice - United S...</td>\n",
       "      <td>US</td>\n",
       "    </tr>\n",
       "    <tr>\n",
       "      <th>4</th>\n",
       "      <td>Sheriff Robert Maxwell</td>\n",
       "      <td>Greenville County Sheriff's Office, SC</td>\n",
       "      <td>EOW: Sunday, November 12, 1797</td>\n",
       "      <td>Cause of Death: Gunfire</td>\n",
       "      <td>Gunfire</td>\n",
       "      <td>1797-11-12</td>\n",
       "      <td>1797</td>\n",
       "      <td>False</td>\n",
       "      <td>Greenville County Sheriff's Office</td>\n",
       "      <td>SC</td>\n",
       "    </tr>\n",
       "  </tbody>\n",
       "</table>\n",
       "</div>"
      ],
      "text/plain": [
       "                       person  \\\n",
       "0     Constable Darius Quimby   \n",
       "1  Sheriff Cornelius Hogeboom   \n",
       "2  Deputy Sheriff Isaac Smith   \n",
       "3      Marshal Robert Forsyth   \n",
       "4      Sheriff Robert Maxwell   \n",
       "\n",
       "                                                dept  \\\n",
       "0               Albany County Constable's Office, NY   \n",
       "1               Columbia County Sheriff's Office, NY   \n",
       "2        Westchester County Sheriff's Department, NY   \n",
       "3  United States Department of Justice - United S...   \n",
       "4             Greenville County Sheriff's Office, SC   \n",
       "\n",
       "                               eow                    cause cause_short  \\\n",
       "0     EOW: Monday, January 3, 1791  Cause of Death: Gunfire     Gunfire   \n",
       "1  EOW: Saturday, October 22, 1791  Cause of Death: Gunfire     Gunfire   \n",
       "2      EOW: Thursday, May 17, 1792  Cause of Death: Gunfire     Gunfire   \n",
       "3  EOW: Saturday, January 11, 1794  Cause of Death: Gunfire     Gunfire   \n",
       "4   EOW: Sunday, November 12, 1797  Cause of Death: Gunfire     Gunfire   \n",
       "\n",
       "         date  year  canine  \\\n",
       "0  1791-01-03  1791   False   \n",
       "1  1791-10-22  1791   False   \n",
       "2  1792-05-17  1792   False   \n",
       "3  1794-01-11  1794   False   \n",
       "4  1797-11-12  1797   False   \n",
       "\n",
       "                                           dept_name state  \n",
       "0                   Albany County Constable's Office    NY  \n",
       "1                   Columbia County Sheriff's Office    NY  \n",
       "2            Westchester County Sheriff's Department    NY  \n",
       "3  United States Department of Justice - United S...    US  \n",
       "4                 Greenville County Sheriff's Office    SC  "
      ]
     },
     "execution_count": 147,
     "metadata": {},
     "output_type": "execute_result"
    }
   ],
   "source": [
    "police_deaths_df_cleaned.head()"
   ]
  },
  {
   "cell_type": "code",
   "execution_count": 148,
   "metadata": {
    "editable": true
   },
   "outputs": [
    {
     "data": {
      "text/plain": [
       "Cause of Death: Gunfire                     12067\n",
       "Cause of Death: Automobile accident          2348\n",
       "Cause of Death: Motorcycle accident          1134\n",
       "Cause of Death: Heart attack                  977\n",
       "Cause of Death: Vehicular assault             888\n",
       "Cause of Death: Struck by vehicle             868\n",
       "Cause of Death: Vehicle pursuit               627\n",
       "Cause of Death: Assault                       613\n",
       "Cause of Death: Gunfire (Accidental)          604\n",
       "Cause of Death: Stabbed                       465\n",
       "Cause of Death: Aircraft accident             381\n",
       "Cause of Death: Drowned                       262\n",
       "Cause of Death: Struck by train               254\n",
       "Cause of Death: Fall                          197\n",
       "Cause of Death: Duty related illness          169\n",
       "Cause of Death: 9/11 related illness          110\n",
       "Cause of Death: Terrorist attack               85\n",
       "Cause of Death: Electrocuted                   83\n",
       "Cause of Death: Animal related                 82\n",
       "Cause of Death: Accidental                     80\n",
       "Cause of Death: Struck by streetcar            68\n",
       "Cause of Death: Fire                           63\n",
       "Cause of Death: Heat exhaustion                61\n",
       "Cause of Death: Explosion                      58\n",
       "Cause of Death: Bomb                           57\n",
       "Cause of Death: Exposure to toxins             44\n",
       "Cause of Death: Weather/Natural disaster       33\n",
       "Cause of Death: Training accident              28\n",
       "Cause of Death: Structure collapse             23\n",
       "Cause of Death: Train accident                 18\n",
       "Cause of Death: Exposure                       14\n",
       "Cause of Death: Bicycle accident               13\n",
       "Cause of Death: Boating accident               13\n",
       "Cause of Death: Unidentified                    7\n",
       "Cause of Death: Poisoned                        4\n",
       "Cause of Death: Asphyxiation                    2\n",
       "Name: cause, dtype: int64"
      ]
     },
     "execution_count": 148,
     "metadata": {},
     "output_type": "execute_result"
    }
   ],
   "source": [
    "police_deaths_df_cleaned.cause.value_counts()\n"
   ]
  },
  {
   "cell_type": "code",
   "execution_count": 149,
   "metadata": {
    "editable": true
   },
   "outputs": [
    {
     "data": {
      "text/plain": [
       "36"
      ]
     },
     "execution_count": 149,
     "metadata": {},
     "output_type": "execute_result"
    }
   ],
   "source": [
    "police_deaths_df_cleaned.cause.nunique()"
   ]
  },
  {
   "cell_type": "code",
   "execution_count": 150,
   "metadata": {
    "editable": true
   },
   "outputs": [
    {
     "data": {
      "text/plain": [
       "Gunfire                     12067\n",
       "Automobile accident          2348\n",
       "Motorcycle accident          1134\n",
       "Heart attack                  977\n",
       "Vehicular assault             888\n",
       "Struck by vehicle             868\n",
       "Vehicle pursuit               627\n",
       "Assault                       613\n",
       "Gunfire (Accidental)          604\n",
       "Stabbed                       465\n",
       "Aircraft accident             381\n",
       "Drowned                       262\n",
       "Struck by train               254\n",
       "Fall                          197\n",
       "Duty related illness          169\n",
       "9/11 related illness          110\n",
       "Terrorist attack               85\n",
       "Electrocuted                   83\n",
       "Animal related                 82\n",
       "Accidental                     80\n",
       "Struck by streetcar            68\n",
       "Fire                           63\n",
       "Heat exhaustion                61\n",
       "Explosion                      58\n",
       "Bomb                           57\n",
       "Exposure to toxins             44\n",
       "Weather/Natural disaster       33\n",
       "Training accident              28\n",
       "Structure collapse             23\n",
       "Train accident                 18\n",
       "Exposure                       14\n",
       "Bicycle accident               13\n",
       "Boating accident               13\n",
       "Unidentified                    7\n",
       "Poisoned                        4\n",
       "Asphyxiation                    2\n",
       "Name: cause_short, dtype: int64"
      ]
     },
     "execution_count": 150,
     "metadata": {},
     "output_type": "execute_result"
    }
   ],
   "source": [
    "police_deaths_df.cause_short.value_counts()"
   ]
  },
  {
   "cell_type": "code",
   "execution_count": 151,
   "metadata": {
    "editable": true
   },
   "outputs": [
    {
     "data": {
      "text/plain": [
       "36"
      ]
     },
     "execution_count": 151,
     "metadata": {},
     "output_type": "execute_result"
    }
   ],
   "source": [
    "police_deaths_df_cleaned.cause_short.nunique()"
   ]
  },
  {
   "cell_type": "markdown",
   "metadata": {
    "editable": true
   },
   "source": [
    "- Column 'cause' and 'cause_short' are the same. I will drop 'cause column'"
   ]
  },
  {
   "cell_type": "code",
   "execution_count": 152,
   "metadata": {
    "editable": true
   },
   "outputs": [
    {
     "data": {
      "text/plain": [
       "Gunfire                     12067\n",
       "Automobile accident          2348\n",
       "Motorcycle accident          1134\n",
       "Heart attack                  977\n",
       "Vehicular assault             888\n",
       "Struck by vehicle             868\n",
       "Vehicle pursuit               627\n",
       "Assault                       613\n",
       "Gunfire (Accidental)          604\n",
       "Stabbed                       465\n",
       "Aircraft accident             381\n",
       "Drowned                       262\n",
       "Struck by train               254\n",
       "Fall                          197\n",
       "Duty related illness          169\n",
       "9/11 related illness          110\n",
       "Terrorist attack               85\n",
       "Electrocuted                   83\n",
       "Animal related                 82\n",
       "Accidental                     80\n",
       "Struck by streetcar            68\n",
       "Fire                           63\n",
       "Heat exhaustion                61\n",
       "Explosion                      58\n",
       "Bomb                           57\n",
       "Exposure to toxins             44\n",
       "Weather/Natural disaster       33\n",
       "Training accident              28\n",
       "Structure collapse             23\n",
       "Train accident                 18\n",
       "Exposure                       14\n",
       "Bicycle accident               13\n",
       "Boating accident               13\n",
       "Unidentified                    7\n",
       "Poisoned                        4\n",
       "Asphyxiation                    2\n",
       "Name: cause_short, dtype: int64"
      ]
     },
     "execution_count": 152,
     "metadata": {},
     "output_type": "execute_result"
    }
   ],
   "source": [
    "police_deaths_df_cleaned.cause_short.value_counts()"
   ]
  },
  {
   "cell_type": "code",
   "execution_count": 153,
   "metadata": {
    "editable": true
   },
   "outputs": [
    {
     "data": {
      "text/plain": [
       " TX    1880\n",
       " CA    1639\n",
       " NY    1574\n",
       " US    1225\n",
       " IL    1073\n",
       " PA     901\n",
       " OH     834\n",
       " FL     820\n",
       " KY     772\n",
       " GA     698\n",
       " MO     666\n",
       " TN     607\n",
       " MI     574\n",
       " NC     549\n",
       " AL     537\n",
       " VA     523\n",
       " OK     496\n",
       " NJ     485\n",
       " LA     470\n",
       " IN     434\n",
       " PR     363\n",
       " SC     362\n",
       " MA     360\n",
       " MD     325\n",
       " CO     305\n",
       " WA     290\n",
       " AR     284\n",
       " RR     280\n",
       " WI     275\n",
       " AZ     273\n",
       " MS     261\n",
       " KS     257\n",
       " MN     244\n",
       " WV     208\n",
       " IA     197\n",
       " OR     182\n",
       " NM     151\n",
       " CT     144\n",
       " UT     128\n",
       " DC     128\n",
       " MT     128\n",
       " NV     120\n",
       " NE     110\n",
       " ME      86\n",
       " ID      64\n",
       " WY      57\n",
       " HI      56\n",
       " ND      55\n",
       " SD      53\n",
       " TR      51\n",
       " RI      50\n",
       " AK      48\n",
       " NH      46\n",
       " DE      41\n",
       " VT      26\n",
       " VI      14\n",
       " GU      12\n",
       " MP       3\n",
       " AS       3\n",
       " CZ       3\n",
       "Name: state, dtype: int64"
      ]
     },
     "execution_count": 153,
     "metadata": {},
     "output_type": "execute_result"
    }
   ],
   "source": [
    "police_deaths_df_cleaned.state.value_counts()"
   ]
  },
  {
   "cell_type": "code",
   "execution_count": 154,
   "metadata": {
    "editable": true
   },
   "outputs": [
    {
     "data": {
      "text/html": [
       "<div>\n",
       "<style scoped>\n",
       "    .dataframe tbody tr th:only-of-type {\n",
       "        vertical-align: middle;\n",
       "    }\n",
       "\n",
       "    .dataframe tbody tr th {\n",
       "        vertical-align: top;\n",
       "    }\n",
       "\n",
       "    .dataframe thead th {\n",
       "        text-align: right;\n",
       "    }\n",
       "</style>\n",
       "<table border=\"1\" class=\"dataframe\">\n",
       "  <thead>\n",
       "    <tr style=\"text-align: right;\">\n",
       "      <th></th>\n",
       "      <th>person</th>\n",
       "      <th>dept</th>\n",
       "      <th>eow</th>\n",
       "      <th>cause</th>\n",
       "      <th>cause_short</th>\n",
       "      <th>date</th>\n",
       "      <th>year</th>\n",
       "      <th>canine</th>\n",
       "      <th>dept_name</th>\n",
       "      <th>state</th>\n",
       "    </tr>\n",
       "  </thead>\n",
       "  <tbody>\n",
       "    <tr>\n",
       "      <th>3</th>\n",
       "      <td>Marshal Robert Forsyth</td>\n",
       "      <td>United States Department of Justice - United S...</td>\n",
       "      <td>EOW: Saturday, January 11, 1794</td>\n",
       "      <td>Cause of Death: Gunfire</td>\n",
       "      <td>Gunfire</td>\n",
       "      <td>1794-01-11</td>\n",
       "      <td>1794</td>\n",
       "      <td>False</td>\n",
       "      <td>United States Department of Justice - United S...</td>\n",
       "      <td>US</td>\n",
       "    </tr>\n",
       "    <tr>\n",
       "      <th>10</th>\n",
       "      <td>Boatman Asa Marsh</td>\n",
       "      <td>United States Department of the Treasury - Cus...</td>\n",
       "      <td>EOW: Wednesday, August 3, 1808</td>\n",
       "      <td>Cause of Death: Gunfire</td>\n",
       "      <td>Gunfire</td>\n",
       "      <td>1808-08-03</td>\n",
       "      <td>1808</td>\n",
       "      <td>False</td>\n",
       "      <td>United States Department of the Treasury - Cus...</td>\n",
       "      <td>US</td>\n",
       "    </tr>\n",
       "    <tr>\n",
       "      <th>11</th>\n",
       "      <td>Boatman Ellis Drake</td>\n",
       "      <td>United States Department of the Treasury - Cus...</td>\n",
       "      <td>EOW: Wednesday, August 3, 1808</td>\n",
       "      <td>Cause of Death: Gunfire</td>\n",
       "      <td>Gunfire</td>\n",
       "      <td>1808-08-03</td>\n",
       "      <td>1808</td>\n",
       "      <td>False</td>\n",
       "      <td>United States Department of the Treasury - Cus...</td>\n",
       "      <td>US</td>\n",
       "    </tr>\n",
       "    <tr>\n",
       "      <th>12</th>\n",
       "      <td>Custom House Officer Daniel Miller</td>\n",
       "      <td>United States Department of the Treasury - Cus...</td>\n",
       "      <td>EOW: Monday, January 1, 1810</td>\n",
       "      <td>Cause of Death: Gunfire</td>\n",
       "      <td>Gunfire</td>\n",
       "      <td>1810-01-01</td>\n",
       "      <td>1810</td>\n",
       "      <td>False</td>\n",
       "      <td>United States Department of the Treasury - Cus...</td>\n",
       "      <td>US</td>\n",
       "    </tr>\n",
       "    <tr>\n",
       "      <th>14</th>\n",
       "      <td>Customs Inspector John Stout</td>\n",
       "      <td>United States Department of the Treasury - Cus...</td>\n",
       "      <td>EOW: Friday, January 21, 1814</td>\n",
       "      <td>Cause of Death: Gunfire</td>\n",
       "      <td>Gunfire</td>\n",
       "      <td>1814-01-21</td>\n",
       "      <td>1814</td>\n",
       "      <td>False</td>\n",
       "      <td>United States Department of the Treasury - Cus...</td>\n",
       "      <td>US</td>\n",
       "    </tr>\n",
       "    <tr>\n",
       "      <th>...</th>\n",
       "      <td>...</td>\n",
       "      <td>...</td>\n",
       "      <td>...</td>\n",
       "      <td>...</td>\n",
       "      <td>...</td>\n",
       "      <td>...</td>\n",
       "      <td>...</td>\n",
       "      <td>...</td>\n",
       "      <td>...</td>\n",
       "      <td>...</td>\n",
       "    </tr>\n",
       "    <tr>\n",
       "      <th>22728</th>\n",
       "      <td>Special Agent Scott McGuire</td>\n",
       "      <td>United States Department of Homeland Security ...</td>\n",
       "      <td>EOW: Sunday, January 24, 2016</td>\n",
       "      <td>Cause of Death: Vehicular assault</td>\n",
       "      <td>Vehicular assault</td>\n",
       "      <td>2016-01-24</td>\n",
       "      <td>2016</td>\n",
       "      <td>False</td>\n",
       "      <td>United States Department of Homeland Security ...</td>\n",
       "      <td>US</td>\n",
       "    </tr>\n",
       "    <tr>\n",
       "      <th>22756</th>\n",
       "      <td>Border Patrol Agent Jose Daniel Barraza</td>\n",
       "      <td>United States Department of Homeland Security ...</td>\n",
       "      <td>EOW: Monday, April 18, 2016</td>\n",
       "      <td>Cause of Death: Automobile accident</td>\n",
       "      <td>Automobile accident</td>\n",
       "      <td>2016-04-18</td>\n",
       "      <td>2016</td>\n",
       "      <td>False</td>\n",
       "      <td>United States Department of Homeland Security ...</td>\n",
       "      <td>US</td>\n",
       "    </tr>\n",
       "    <tr>\n",
       "      <th>22767</th>\n",
       "      <td>Deportation Officer Brian Beliso</td>\n",
       "      <td>United States Department of Homeland Security ...</td>\n",
       "      <td>EOW: Wednesday, June 8, 2016</td>\n",
       "      <td>Cause of Death: Heart attack</td>\n",
       "      <td>Heart attack</td>\n",
       "      <td>2016-06-08</td>\n",
       "      <td>2016</td>\n",
       "      <td>False</td>\n",
       "      <td>United States Department of Homeland Security ...</td>\n",
       "      <td>US</td>\n",
       "    </tr>\n",
       "    <tr>\n",
       "      <th>22774</th>\n",
       "      <td>Officer Bradley Wayne Treat</td>\n",
       "      <td>United States Department of Agriculture - Fore...</td>\n",
       "      <td>EOW: Wednesday, June 29, 2016</td>\n",
       "      <td>Cause of Death: Animal related</td>\n",
       "      <td>Animal related</td>\n",
       "      <td>2016-06-29</td>\n",
       "      <td>2016</td>\n",
       "      <td>False</td>\n",
       "      <td>United States Department of Agriculture - Fore...</td>\n",
       "      <td>US</td>\n",
       "    </tr>\n",
       "    <tr>\n",
       "      <th>22796</th>\n",
       "      <td>K9 Lazer</td>\n",
       "      <td>United States Department of Homeland Security ...</td>\n",
       "      <td>EOW: Monday, June 20, 2016</td>\n",
       "      <td>Cause of Death: Heat exhaustion</td>\n",
       "      <td>Heat exhaustion</td>\n",
       "      <td>2016-06-20</td>\n",
       "      <td>2016</td>\n",
       "      <td>True</td>\n",
       "      <td>United States Department of Homeland Security ...</td>\n",
       "      <td>US</td>\n",
       "    </tr>\n",
       "  </tbody>\n",
       "</table>\n",
       "<p>1225 rows × 10 columns</p>\n",
       "</div>"
      ],
      "text/plain": [
       "                                        person  \\\n",
       "3                       Marshal Robert Forsyth   \n",
       "10                           Boatman Asa Marsh   \n",
       "11                         Boatman Ellis Drake   \n",
       "12          Custom House Officer Daniel Miller   \n",
       "14                Customs Inspector John Stout   \n",
       "...                                        ...   \n",
       "22728              Special Agent Scott McGuire   \n",
       "22756  Border Patrol Agent Jose Daniel Barraza   \n",
       "22767         Deportation Officer Brian Beliso   \n",
       "22774              Officer Bradley Wayne Treat   \n",
       "22796                                 K9 Lazer   \n",
       "\n",
       "                                                    dept  \\\n",
       "3      United States Department of Justice - United S...   \n",
       "10     United States Department of the Treasury - Cus...   \n",
       "11     United States Department of the Treasury - Cus...   \n",
       "12     United States Department of the Treasury - Cus...   \n",
       "14     United States Department of the Treasury - Cus...   \n",
       "...                                                  ...   \n",
       "22728  United States Department of Homeland Security ...   \n",
       "22756  United States Department of Homeland Security ...   \n",
       "22767  United States Department of Homeland Security ...   \n",
       "22774  United States Department of Agriculture - Fore...   \n",
       "22796  United States Department of Homeland Security ...   \n",
       "\n",
       "                                   eow                                cause  \\\n",
       "3      EOW: Saturday, January 11, 1794              Cause of Death: Gunfire   \n",
       "10      EOW: Wednesday, August 3, 1808              Cause of Death: Gunfire   \n",
       "11      EOW: Wednesday, August 3, 1808              Cause of Death: Gunfire   \n",
       "12        EOW: Monday, January 1, 1810              Cause of Death: Gunfire   \n",
       "14       EOW: Friday, January 21, 1814              Cause of Death: Gunfire   \n",
       "...                                ...                                  ...   \n",
       "22728    EOW: Sunday, January 24, 2016    Cause of Death: Vehicular assault   \n",
       "22756      EOW: Monday, April 18, 2016  Cause of Death: Automobile accident   \n",
       "22767     EOW: Wednesday, June 8, 2016         Cause of Death: Heart attack   \n",
       "22774    EOW: Wednesday, June 29, 2016       Cause of Death: Animal related   \n",
       "22796       EOW: Monday, June 20, 2016      Cause of Death: Heat exhaustion   \n",
       "\n",
       "               cause_short        date  year  canine  \\\n",
       "3                  Gunfire  1794-01-11  1794   False   \n",
       "10                 Gunfire  1808-08-03  1808   False   \n",
       "11                 Gunfire  1808-08-03  1808   False   \n",
       "12                 Gunfire  1810-01-01  1810   False   \n",
       "14                 Gunfire  1814-01-21  1814   False   \n",
       "...                    ...         ...   ...     ...   \n",
       "22728    Vehicular assault  2016-01-24  2016   False   \n",
       "22756  Automobile accident  2016-04-18  2016   False   \n",
       "22767         Heart attack  2016-06-08  2016   False   \n",
       "22774       Animal related  2016-06-29  2016   False   \n",
       "22796      Heat exhaustion  2016-06-20  2016    True   \n",
       "\n",
       "                                               dept_name state  \n",
       "3      United States Department of Justice - United S...    US  \n",
       "10     United States Department of the Treasury - Cus...    US  \n",
       "11     United States Department of the Treasury - Cus...    US  \n",
       "12     United States Department of the Treasury - Cus...    US  \n",
       "14     United States Department of the Treasury - Cus...    US  \n",
       "...                                                  ...   ...  \n",
       "22728  United States Department of Homeland Security ...    US  \n",
       "22756  United States Department of Homeland Security ...    US  \n",
       "22767  United States Department of Homeland Security ...    US  \n",
       "22774  United States Department of Agriculture - Fore...    US  \n",
       "22796  United States Department of Homeland Security ...    US  \n",
       "\n",
       "[1225 rows x 10 columns]"
      ]
     },
     "execution_count": 154,
     "metadata": {},
     "output_type": "execute_result"
    }
   ],
   "source": [
    "police_deaths_df_cleaned.query('state == \" US\"')\n",
    "# I need to get rid of the whitespace"
   ]
  },
  {
   "cell_type": "code",
   "execution_count": 155,
   "metadata": {
    "editable": true
   },
   "outputs": [],
   "source": [
    "police_deaths_df_cleaned['state']=police_deaths_df['state'].str.strip()"
   ]
  },
  {
   "cell_type": "code",
   "execution_count": 156,
   "metadata": {
    "editable": true
   },
   "outputs": [
    {
     "data": {
      "text/plain": [
       "person         1225\n",
       "dept           1225\n",
       "eow            1225\n",
       "cause          1225\n",
       "cause_short    1225\n",
       "date           1225\n",
       "year           1225\n",
       "canine         1225\n",
       "dept_name      1225\n",
       "state          1225\n",
       "dtype: int64"
      ]
     },
     "execution_count": 156,
     "metadata": {},
     "output_type": "execute_result"
    }
   ],
   "source": [
    "police_deaths_df_cleaned.query('state == \"US\"').count()"
   ]
  },
  {
   "cell_type": "markdown",
   "metadata": {
    "editable": true
   },
   "source": [
    "- Although the US is not a state, I don't want to remove all the records "
   ]
  },
  {
   "cell_type": "code",
   "execution_count": 157,
   "metadata": {
    "editable": true
   },
   "outputs": [
    {
     "data": {
      "text/plain": [
       "New York City Police Department, NY                                         753\n",
       "Chicago Police Department, IL                                               492\n",
       "Puerto Rico Police Department, PR                                           338\n",
       "United States Department of Justice - United States Marshals Service, US    279\n",
       "Philadelphia Police Department, PA                                          256\n",
       "                                                                           ... \n",
       "Allendale County Sheriff's Department, SC                                     1\n",
       "Kilgore Police Department, TX                                                 1\n",
       "Polk County Sheriff's Office, GA                                              1\n",
       "Goochland County Sheriff's Office, VA                                         1\n",
       "Avilla Police Department, IN                                                  1\n",
       "Name: dept, Length: 6528, dtype: int64"
      ]
     },
     "execution_count": 157,
     "metadata": {},
     "output_type": "execute_result"
    }
   ],
   "source": [
    "police_deaths_df_cleaned.dept.value_counts()"
   ]
  },
  {
   "cell_type": "code",
   "execution_count": 158,
   "metadata": {
    "editable": true
   },
   "outputs": [
    {
     "data": {
      "text/plain": [
       "New York City Police Department                                         753\n",
       "Chicago Police Department                                               492\n",
       "Puerto Rico Police Department                                           338\n",
       "United States Department of Justice - United States Marshals Service    279\n",
       "Philadelphia Police Department                                          256\n",
       "                                                                       ... \n",
       "Galena Park Police Department                                             1\n",
       "McLean County Coroner's Office                                            1\n",
       "Cayce Police Department                                                   1\n",
       "Ivanhoe Police Department                                                 1\n",
       "Matewan Police Department                                                 1\n",
       "Name: dept_name, Length: 5525, dtype: int64"
      ]
     },
     "execution_count": 158,
     "metadata": {},
     "output_type": "execute_result"
    }
   ],
   "source": [
    "police_deaths_df_cleaned.dept_name.value_counts()"
   ]
  },
  {
   "cell_type": "markdown",
   "metadata": {
    "editable": true
   },
   "source": [
    "- Dept and dept_name share the same information. Given that we already have the State column, I will drop 'dept' column"
   ]
  },
  {
   "cell_type": "code",
   "execution_count": 159,
   "metadata": {
    "editable": true
   },
   "outputs": [],
   "source": [
    "police_deaths_df_cleaned.date = police_deaths_df_cleaned.date.astype('datetime64[ns]') "
   ]
  },
  {
   "cell_type": "code",
   "execution_count": 160,
   "metadata": {
    "editable": true
   },
   "outputs": [
    {
     "name": "stdout",
     "output_type": "stream",
     "text": [
      "<class 'pandas.core.frame.DataFrame'>\n",
      "RangeIndex: 22800 entries, 0 to 22799\n",
      "Data columns (total 10 columns):\n",
      " #   Column       Non-Null Count  Dtype         \n",
      "---  ------       --------------  -----         \n",
      " 0   person       22800 non-null  object        \n",
      " 1   dept         22800 non-null  object        \n",
      " 2   eow          22800 non-null  object        \n",
      " 3   cause        22800 non-null  object        \n",
      " 4   cause_short  22800 non-null  object        \n",
      " 5   date         22800 non-null  datetime64[ns]\n",
      " 6   year         22800 non-null  int64         \n",
      " 7   canine       22800 non-null  bool          \n",
      " 8   dept_name    22800 non-null  object        \n",
      " 9   state        22800 non-null  object        \n",
      "dtypes: bool(1), datetime64[ns](1), int64(1), object(7)\n",
      "memory usage: 1.6+ MB\n"
     ]
    }
   ],
   "source": [
    "police_deaths_df_cleaned.info()"
   ]
  },
  {
   "cell_type": "markdown",
   "metadata": {
    "editable": true
   },
   "source": [
    "- Given eow and date are the same, I will drop eow column\n"
   ]
  },
  {
   "cell_type": "code",
   "execution_count": 161,
   "metadata": {
    "editable": true
   },
   "outputs": [],
   "source": [
    "police_deaths_df_cleaned = police_deaths_df_cleaned.drop(columns=['eow','cause','dept'])"
   ]
  },
  {
   "cell_type": "code",
   "execution_count": 162,
   "metadata": {
    "editable": true
   },
   "outputs": [],
   "source": [
    "police_deaths_df_cleaned = police_deaths_df_cleaned.rename(columns={\"cause_short\": \"cause_of_death\"})"
   ]
  },
  {
   "cell_type": "code",
   "execution_count": 163,
   "metadata": {
    "editable": true
   },
   "outputs": [
    {
     "name": "stdout",
     "output_type": "stream",
     "text": [
      "<class 'pandas.core.frame.DataFrame'>\n",
      "RangeIndex: 22800 entries, 0 to 22799\n",
      "Data columns (total 7 columns):\n",
      " #   Column          Non-Null Count  Dtype         \n",
      "---  ------          --------------  -----         \n",
      " 0   person          22800 non-null  object        \n",
      " 1   cause_of_death  22800 non-null  object        \n",
      " 2   date            22800 non-null  datetime64[ns]\n",
      " 3   year            22800 non-null  int64         \n",
      " 4   canine          22800 non-null  bool          \n",
      " 5   dept_name       22800 non-null  object        \n",
      " 6   state           22800 non-null  object        \n",
      "dtypes: bool(1), datetime64[ns](1), int64(1), object(4)\n",
      "memory usage: 1.1+ MB\n"
     ]
    }
   ],
   "source": [
    "police_deaths_df_cleaned.info()"
   ]
  },
  {
   "cell_type": "code",
   "execution_count": 164,
   "metadata": {
    "editable": true
   },
   "outputs": [
    {
     "data": {
      "text/plain": [
       "22800"
      ]
     },
     "execution_count": 164,
     "metadata": {},
     "output_type": "execute_result"
    }
   ],
   "source": [
    "len(police_deaths_df_cleaned)"
   ]
  },
  {
   "cell_type": "code",
   "execution_count": 165,
   "metadata": {
    "editable": true
   },
   "outputs": [
    {
     "data": {
      "text/plain": [
       "K9 Rocky                                   4\n",
       "K9 Bandit                                  3\n",
       "K9 Sarge                                   3\n",
       "K9 King                                    3\n",
       "K9 Bruno                                   3\n",
       "                                          ..\n",
       "Customs Officer Clyde M. Bristow           1\n",
       "Patrolman Jeff Evans                       1\n",
       "Patrolman Gordon W. Swettart               1\n",
       "Officer Nelson S. Dwelly                   1\n",
       "Corrections Employee Harold Edward Rice    1\n",
       "Name: person, Length: 22742, dtype: int64"
      ]
     },
     "execution_count": 165,
     "metadata": {},
     "output_type": "execute_result"
    }
   ],
   "source": [
    "police_deaths_df_cleaned.person.value_counts()"
   ]
  },
  {
   "cell_type": "markdown",
   "metadata": {
    "editable": true
   },
   "source": [
    "- Some names are duplicated but they seem to refer to a group of police. Given that I do not have more information about these records, I will keep them there"
   ]
  },
  {
   "cell_type": "code",
   "execution_count": 166,
   "metadata": {
    "editable": true
   },
   "outputs": [],
   "source": [
    "police_death_file = 'police_death.csv'"
   ]
  },
  {
   "cell_type": "code",
   "execution_count": 223,
   "metadata": {
    "editable": true
   },
   "outputs": [],
   "source": [
    "police_deaths_df_cleaned.to_csv(os.path.join(s3path, police_death_file), header=True, index = False)"
   ]
  },
  {
   "cell_type": "markdown",
   "metadata": {
    "editable": true
   },
   "source": [
    "#### 5. Protest"
   ]
  },
  {
   "cell_type": "code",
   "execution_count": 168,
   "metadata": {
    "editable": true
   },
   "outputs": [
    {
     "name": "stdout",
     "output_type": "stream",
     "text": [
      "root\n",
      " |-- features: array (nullable = true)\n",
      " |    |-- element: struct (containsNull = true)\n",
      " |    |    |-- geometry: struct (nullable = true)\n",
      " |    |    |    |-- coordinates: array (nullable = true)\n",
      " |    |    |    |    |-- element: double (containsNull = true)\n",
      " |    |    |    |-- type: string (nullable = true)\n",
      " |    |    |-- id: long (nullable = true)\n",
      " |    |    |-- properties: struct (nullable = true)\n",
      " |    |    |    |-- Alias: string (nullable = true)\n",
      " |    |    |    |-- Batch: string (nullable = true)\n",
      " |    |    |    |-- City: string (nullable = true)\n",
      " |    |    |    |-- Comments: string (nullable = true)\n",
      " |    |    |    |-- Country: string (nullable = true)\n",
      " |    |    |    |-- Date_Added: long (nullable = true)\n",
      " |    |    |    |-- Mailing_Abbreviation: string (nullable = true)\n",
      " |    |    |    |-- OBJECTID: long (nullable = true)\n",
      " |    |    |    |-- Region: string (nullable = true)\n",
      " |    |    |    |-- Search_Label: string (nullable = true)\n",
      " |    |    |    |-- X_Longitude: double (nullable = true)\n",
      " |    |    |    |-- Y_Latitude: double (nullable = true)\n",
      " |    |    |-- type: string (nullable = true)\n",
      " |-- type: string (nullable = true)\n",
      "\n"
     ]
    }
   ],
   "source": [
    "protests_df.printSchema()"
   ]
  },
  {
   "cell_type": "markdown",
   "metadata": {
    "editable": true
   },
   "source": [
    "- I am going to use spark explode function to flatten the data"
   ]
  },
  {
   "cell_type": "code",
   "execution_count": 169,
   "metadata": {
    "editable": true
   },
   "outputs": [],
   "source": [
    "from pyspark.sql.functions import explode\n"
   ]
  },
  {
   "cell_type": "code",
   "execution_count": 170,
   "metadata": {
    "editable": true
   },
   "outputs": [],
   "source": [
    "protests_df_exploded = protests_df.select('type',explode('features').alias('features'))"
   ]
  },
  {
   "cell_type": "code",
   "execution_count": 171,
   "metadata": {
    "editable": true
   },
   "outputs": [],
   "source": [
    "protests_cleaned = protests_df_exploded.select(col('type').alias('featuretype'),'features.geometry.type','features.id','features.properties.Alias'\\\n",
    "                    ,'features.properties.Batch','features.properties.City','features.properties.Comments','features.properties.Country'\\\n",
    "                   ,'features.properties.Date_Added','features.properties.Mailing_Abbreviation','features.properties.OBJECTID'\\\n",
    "                   ,'features.properties.Region','features.properties.Search_Label','features.properties.X_Longitude','features.properties.Y_Latitude')"
   ]
  },
  {
   "cell_type": "code",
   "execution_count": 172,
   "metadata": {
    "editable": true
   },
   "outputs": [
    {
     "name": "stdout",
     "output_type": "stream",
     "text": [
      "+-----------------+-----+---+-----+-----------+------------+--------+-------+-------------+--------------------+--------+--------+--------------------+-------------------+------------------+\n",
      "|      featuretype| type| id|Alias|      Batch|        City|Comments|Country|   Date_Added|Mailing_Abbreviation|OBJECTID|  Region|        Search_Label|        X_Longitude|        Y_Latitude|\n",
      "+-----------------+-----+---+-----+-----------+------------+--------+-------+-------------+--------------------+--------+--------+--------------------+-------------------+------------------+\n",
      "|FeatureCollection|Point|  1| null|2020_0602_1|      Juneau|    null|    USA|1591056000000|                  AK|       1|  Alaska| Juneau, Alaska, USA|-134.40678999999994| 58.29973000000007|\n",
      "|FeatureCollection|Point|  2| null|2020_0602_1|   Anchorage|    null|    USA|1591056000000|                  AK|       2|  Alaska|Anchorage, Alaska...|-149.85824999999997| 61.21753000000007|\n",
      "|FeatureCollection|Point|  3| null|2020_0602_1|   Fairbanks|    null|    USA|1591056000000|                  AK|       3|  Alaska|Fairbanks, Alaska...|-147.72209999999998| 64.84525000000008|\n",
      "|FeatureCollection|Point|  4| null|2020_0602_1|     Decatur|    null|    USA|1591056000000|                  AL|       4| Alabama|Decatur, Alabama,...| -86.97978999999998| 34.60740000000004|\n",
      "|FeatureCollection|Point|  5| null|2020_0602_1|      Dothan|    null|    USA|1591056000000|                  AL|       5| Alabama|Dothan, Alabama, USA| -85.39336999999995|31.223250000000064|\n",
      "|FeatureCollection|Point|  6| null|2020_0602_1|      Auburn|    null|    USA|1591056000000|                  AL|       6| Alabama|Auburn, Alabama, USA| -85.48172999999997| 32.60829000000007|\n",
      "|FeatureCollection|Point|  7| null|2020_0602_1|     Gadsden|    null|    USA|1591056000000|                  AL|       7| Alabama|Gadsden, Alabama,...| -86.00716999999997|34.014770000000055|\n",
      "|FeatureCollection|Point|  8| null|2020_0602_1|  Birmingham|    null|    USA|1591056000000|                  AL|       8| Alabama|Birmingham, Alaba...| -86.81175999999994| 33.52068000000003|\n",
      "|FeatureCollection|Point|  9| null|2020_0602_1|    Florence|    null|    USA|1591056000000|                  AL|       9| Alabama|Florence, Alabama...| -87.67488999999995| 34.80060000000003|\n",
      "|FeatureCollection|Point| 10| null|2020_0602_1|      Hoover|    null|    USA|1591056000000|                  AL|      10| Alabama|Hoover, Alabama, USA| -86.80602999999996| 33.38791000000003|\n",
      "|FeatureCollection|Point| 11| null|2020_0602_1|      Mobile|    null|    USA|1591056000000|                  AL|      11| Alabama|Mobile, Alabama, USA| -88.05296999999996|30.686480000000074|\n",
      "|FeatureCollection|Point| 12| null|2020_0602_1|     Opelika|    null|    USA|1591056000000|                  AL|      12| Alabama|Opelika, Alabama,...| -85.38064999999995| 32.65050000000008|\n",
      "|FeatureCollection|Point| 13| null|2020_0602_1|Jacksonville|    null|    USA|1591056000000|                  AL|      13| Alabama|Jacksonville, Ala...| -85.76117999999997|33.814220000000034|\n",
      "|FeatureCollection|Point| 14| null|2020_0602_1|  Huntsville|    null|    USA|1591056000000|                  AL|      14| Alabama|Huntsville, Alaba...| -86.58509999999995| 34.72929000000005|\n",
      "|FeatureCollection|Point| 15| null|2020_0602_1|        Troy|    null|    USA|1591056000000|                  AL|      15| Alabama|  Troy, Alabama, USA| -85.97216999999995| 31.80967000000004|\n",
      "|FeatureCollection|Point| 16| null|2020_0602_1|  Montgomery|    null|    USA|1591056000000|                  AL|      16| Alabama|Montgomery, Alaba...| -86.30007999999998| 32.38015000000007|\n",
      "|FeatureCollection|Point| 17| null|2020_0602_1|  Tuscaloosa|    null|    USA|1591056000000|                  AL|      17| Alabama|Tuscaloosa, Alaba...| -87.56624999999997|33.210420000000056|\n",
      "|FeatureCollection|Point| 18| null|2020_0602_1|      Conway|    null|    USA|1591056000000|                  AR|      18|Arkansas|Conway, Arkansas,...| -92.43968999999998| 35.09098000000006|\n",
      "|FeatureCollection|Point| 19| null|2020_0602_1|Fayetteville|    null|    USA|1591056000000|                  AR|      19|Arkansas|Fayetteville, Ark...| -94.15790999999996| 36.06320000000005|\n",
      "|FeatureCollection|Point| 20| null|2020_0602_1| Bentonville|    null|    USA|1591056000000|                  AR|      20|Arkansas|Bentonville, Arka...| -94.20948999999996|36.372330000000034|\n",
      "+-----------------+-----+---+-----+-----------+------------+--------+-------+-------------+--------------------+--------+--------+--------------------+-------------------+------------------+\n",
      "only showing top 20 rows\n",
      "\n"
     ]
    }
   ],
   "source": [
    "protests_cleaned.show(20)"
   ]
  },
  {
   "cell_type": "code",
   "execution_count": 173,
   "metadata": {
    "editable": true
   },
   "outputs": [
    {
     "name": "stdout",
     "output_type": "stream",
     "text": [
      "root\n",
      " |-- featuretype: string (nullable = true)\n",
      " |-- type: string (nullable = true)\n",
      " |-- id: long (nullable = true)\n",
      " |-- Alias: string (nullable = true)\n",
      " |-- Batch: string (nullable = true)\n",
      " |-- City: string (nullable = true)\n",
      " |-- Comments: string (nullable = true)\n",
      " |-- Country: string (nullable = true)\n",
      " |-- Date_Added: long (nullable = true)\n",
      " |-- Mailing_Abbreviation: string (nullable = true)\n",
      " |-- OBJECTID: long (nullable = true)\n",
      " |-- Region: string (nullable = true)\n",
      " |-- Search_Label: string (nullable = true)\n",
      " |-- X_Longitude: double (nullable = true)\n",
      " |-- Y_Latitude: double (nullable = true)\n",
      "\n"
     ]
    }
   ],
   "source": [
    "protests_cleaned.printSchema()"
   ]
  },
  {
   "cell_type": "code",
   "execution_count": 174,
   "metadata": {
    "editable": true
   },
   "outputs": [
    {
     "name": "stdout",
     "output_type": "stream",
     "text": [
      "+-----------------+-----+\n",
      "|      featuretype|count|\n",
      "+-----------------+-----+\n",
      "|FeatureCollection| 4071|\n",
      "+-----------------+-----+\n",
      "\n"
     ]
    }
   ],
   "source": [
    "# Some columns seem to be showing single value and they are not that relevant. I will delete them if that's the case\n",
    "protests_cleaned.groupBy('featuretype').count().show(100)"
   ]
  },
  {
   "cell_type": "code",
   "execution_count": 175,
   "metadata": {
    "editable": true
   },
   "outputs": [
    {
     "name": "stdout",
     "output_type": "stream",
     "text": [
      "+-----+-----+\n",
      "| type|count|\n",
      "+-----+-----+\n",
      "|Point| 4071|\n",
      "+-----+-----+\n",
      "\n"
     ]
    }
   ],
   "source": [
    "protests_cleaned.groupBy('type').count().show(100)"
   ]
  },
  {
   "cell_type": "code",
   "execution_count": 176,
   "metadata": {
    "editable": true
   },
   "outputs": [
    {
     "name": "stdout",
     "output_type": "stream",
     "text": [
      "+-------------+-----+\n",
      "|        Alias|count|\n",
      "+-------------+-----+\n",
      "|       Queens|    4|\n",
      "|            x|    1|\n",
      "|  Los Angeles|    2|\n",
      "|    San Diego|    1|\n",
      "|         null| 4052|\n",
      "|       London|    1|\n",
      "|       Barrow|    1|\n",
      "|            d|    1|\n",
      "|    Las Vegas|    1|\n",
      "|Staten Island|    3|\n",
      "|        Dover|    1|\n",
      "|      Hagatna|    1|\n",
      "|New York City|    1|\n",
      "|             |    1|\n",
      "+-------------+-----+\n",
      "\n"
     ]
    }
   ],
   "source": [
    "protests_cleaned.groupBy('Alias').count().show(100)"
   ]
  },
  {
   "cell_type": "markdown",
   "metadata": {
    "editable": true
   },
   "source": [
    "- Most are nulls in this column so I will delete this column"
   ]
  },
  {
   "cell_type": "code",
   "execution_count": 177,
   "metadata": {
    "editable": true
   },
   "outputs": [
    {
     "name": "stdout",
     "output_type": "stream",
     "text": [
      "+--------------------+-----+\n",
      "|            Comments|count|\n",
      "+--------------------+-----+\n",
      "|                   x|    1|\n",
      "|                null| 4069|\n",
      "|Tagline says \"Geo...|    1|\n",
      "+--------------------+-----+\n",
      "\n"
     ]
    }
   ],
   "source": [
    "protests_cleaned.groupBy('Comments').count().show(100)"
   ]
  },
  {
   "cell_type": "markdown",
   "metadata": {
    "editable": true
   },
   "source": [
    "- Most are nulls in this column so I will delete this column"
   ]
  },
  {
   "cell_type": "code",
   "execution_count": 178,
   "metadata": {
    "editable": true
   },
   "outputs": [
    {
     "name": "stdout",
     "output_type": "stream",
     "text": [
      "+----+--------+-----+\n",
      "|  id|OBJECTID|count|\n",
      "+----+--------+-----+\n",
      "| 346|     346|    1|\n",
      "| 435|     435|    1|\n",
      "| 753|     753|    1|\n",
      "| 787|     787|    1|\n",
      "|1167|    1167|    1|\n",
      "|1395|    1395|    1|\n",
      "|1508|    1508|    1|\n",
      "|1909|    1909|    1|\n",
      "|2005|    2005|    1|\n",
      "|2226|    2226|    1|\n",
      "|2382|    2382|    1|\n",
      "|2941|    2941|    1|\n",
      "|3416|    3416|    1|\n",
      "|  24|      24|    1|\n",
      "| 120|     120|    1|\n",
      "| 707|     707|    1|\n",
      "| 734|     734|    1|\n",
      "|1043|    1043|    1|\n",
      "|1111|    1111|    1|\n",
      "|1283|    1283|    1|\n",
      "|2277|    2277|    1|\n",
      "|2609|    2609|    1|\n",
      "|2841|    2841|    1|\n",
      "|3060|    3060|    1|\n",
      "|3225|    3225|    1|\n",
      "|3515|    3515|    1|\n",
      "|3696|    3696|    1|\n",
      "|3952|    3952|    1|\n",
      "|3963|    3963|    1|\n",
      "|4000|    4000|    1|\n",
      "+----+--------+-----+\n",
      "only showing top 30 rows\n",
      "\n"
     ]
    }
   ],
   "source": [
    "protests_cleaned.groupBy('id','OBJECTID').count().show(30)"
   ]
  },
  {
   "cell_type": "markdown",
   "metadata": {
    "editable": true
   },
   "source": [
    "- These two columns are identical. I will delete the 'objectid' column."
   ]
  },
  {
   "cell_type": "code",
   "execution_count": 179,
   "metadata": {
    "editable": true
   },
   "outputs": [
    {
     "name": "stdout",
     "output_type": "stream",
     "text": [
      "+-----------+-----+\n",
      "|      Batch|count|\n",
      "+-----------+-----+\n",
      "|2020_0626_1|    3|\n",
      "|2020_0604_1|  208|\n",
      "|2020_0602_1|  517|\n",
      "|2020_0610_1|   45|\n",
      "|2020_0609_3|   77|\n",
      "|2020_0623_1|   18|\n",
      "|2020_0628_1|   12|\n",
      "|2020_0618_1|  134|\n",
      "|2020_0606_2|   99|\n",
      "|2020_0625_1|    4|\n",
      "+-----------+-----+\n",
      "only showing top 10 rows\n",
      "\n"
     ]
    }
   ],
   "source": [
    "protests_cleaned.groupBy('Batch').count().show(10)"
   ]
  },
  {
   "cell_type": "markdown",
   "metadata": {
    "editable": true
   },
   "source": [
    "- This column has various values so I will keep it"
   ]
  },
  {
   "cell_type": "code",
   "execution_count": 180,
   "metadata": {
    "editable": true
   },
   "outputs": [],
   "source": [
    "columns_to_drop = ['OBJECTID', 'Comments','Alias','type','featuretype']\n"
   ]
  },
  {
   "cell_type": "code",
   "execution_count": 181,
   "metadata": {
    "editable": true
   },
   "outputs": [],
   "source": [
    "protests_cleaned = protests_cleaned.drop(*columns_to_drop)"
   ]
  },
  {
   "cell_type": "code",
   "execution_count": 182,
   "metadata": {
    "editable": true
   },
   "outputs": [
    {
     "name": "stdout",
     "output_type": "stream",
     "text": [
      "+---+-----------+---------+-------+-------------+--------------------+------+--------------------+-------------------+-----------------+\n",
      "| id|      Batch|     City|Country|   Date_Added|Mailing_Abbreviation|Region|        Search_Label|        X_Longitude|       Y_Latitude|\n",
      "+---+-----------+---------+-------+-------------+--------------------+------+--------------------+-------------------+-----------------+\n",
      "|  1|2020_0602_1|   Juneau|    USA|1591056000000|                  AK|Alaska| Juneau, Alaska, USA|-134.40678999999994|58.29973000000007|\n",
      "|  2|2020_0602_1|Anchorage|    USA|1591056000000|                  AK|Alaska|Anchorage, Alaska...|-149.85824999999997|61.21753000000007|\n",
      "|  3|2020_0602_1|Fairbanks|    USA|1591056000000|                  AK|Alaska|Fairbanks, Alaska...|-147.72209999999998|64.84525000000008|\n",
      "+---+-----------+---------+-------+-------------+--------------------+------+--------------------+-------------------+-----------------+\n",
      "only showing top 3 rows\n",
      "\n"
     ]
    }
   ],
   "source": [
    "protests_cleaned.show(3)"
   ]
  },
  {
   "cell_type": "markdown",
   "metadata": {
    "editable": true
   },
   "source": [
    "- Now I need to change Date_Added from LongType (epoch) to DateType"
   ]
  },
  {
   "cell_type": "code",
   "execution_count": 183,
   "metadata": {
    "editable": true
   },
   "outputs": [],
   "source": [
    "from pyspark.sql.types import *\n",
    "import pyspark.sql.functions as f\n",
    "protests_cleaned= protests_cleaned.withColumn(\"date_added\", protests_cleaned[\"Date_Added\"])"
   ]
  },
  {
   "cell_type": "code",
   "execution_count": 184,
   "metadata": {
    "editable": true
   },
   "outputs": [],
   "source": [
    "get_timestamp = udf(lambda x: datetime.utcfromtimestamp(int(x)/1000), DateType())\n",
    "protests_cleaned = protests_cleaned.withColumn('date_added',get_timestamp('date_added'))"
   ]
  },
  {
   "cell_type": "code",
   "execution_count": 185,
   "metadata": {
    "editable": true
   },
   "outputs": [
    {
     "name": "stdout",
     "output_type": "stream",
     "text": [
      "+---+-----------+---------+-------+----------+--------------------+------+--------------------+-------------------+-----------------+\n",
      "| id|      Batch|     City|Country|date_added|Mailing_Abbreviation|Region|        Search_Label|        X_Longitude|       Y_Latitude|\n",
      "+---+-----------+---------+-------+----------+--------------------+------+--------------------+-------------------+-----------------+\n",
      "|  1|2020_0602_1|   Juneau|    USA|2020-06-02|                  AK|Alaska| Juneau, Alaska, USA|-134.40678999999994|58.29973000000007|\n",
      "|  2|2020_0602_1|Anchorage|    USA|2020-06-02|                  AK|Alaska|Anchorage, Alaska...|-149.85824999999997|61.21753000000007|\n",
      "+---+-----------+---------+-------+----------+--------------------+------+--------------------+-------------------+-----------------+\n",
      "only showing top 2 rows\n",
      "\n"
     ]
    }
   ],
   "source": [
    "protests_cleaned.show(2)"
   ]
  },
  {
   "cell_type": "code",
   "execution_count": 186,
   "metadata": {
    "editable": true
   },
   "outputs": [
    {
     "name": "stdout",
     "output_type": "stream",
     "text": [
      "root\n",
      " |-- id: long (nullable = true)\n",
      " |-- Batch: string (nullable = true)\n",
      " |-- City: string (nullable = true)\n",
      " |-- Country: string (nullable = true)\n",
      " |-- date_added: date (nullable = true)\n",
      " |-- Mailing_Abbreviation: string (nullable = true)\n",
      " |-- Region: string (nullable = true)\n",
      " |-- Search_Label: string (nullable = true)\n",
      " |-- X_Longitude: double (nullable = true)\n",
      " |-- Y_Latitude: double (nullable = true)\n",
      "\n"
     ]
    }
   ],
   "source": [
    "protests_cleaned.printSchema()"
   ]
  },
  {
   "cell_type": "code",
   "execution_count": 187,
   "metadata": {
    "editable": true
   },
   "outputs": [
    {
     "name": "stdout",
     "output_type": "stream",
     "text": [
      "+---+-----------+------------+-------+----------+--------------------+--------+--------------------+-------------------+------------------+\n",
      "| id|      Batch|        City|Country|date_added|Mailing_Abbreviation|  Region|        Search_Label|        X_Longitude|        Y_Latitude|\n",
      "+---+-----------+------------+-------+----------+--------------------+--------+--------------------+-------------------+------------------+\n",
      "|  1|2020_0602_1|      Juneau|    USA|2020-06-02|                  AK|  Alaska| Juneau, Alaska, USA|-134.40678999999994| 58.29973000000007|\n",
      "|  2|2020_0602_1|   Anchorage|    USA|2020-06-02|                  AK|  Alaska|Anchorage, Alaska...|-149.85824999999997| 61.21753000000007|\n",
      "|  3|2020_0602_1|   Fairbanks|    USA|2020-06-02|                  AK|  Alaska|Fairbanks, Alaska...|-147.72209999999998| 64.84525000000008|\n",
      "|  4|2020_0602_1|     Decatur|    USA|2020-06-02|                  AL| Alabama|Decatur, Alabama,...| -86.97978999999998| 34.60740000000004|\n",
      "|  5|2020_0602_1|      Dothan|    USA|2020-06-02|                  AL| Alabama|Dothan, Alabama, USA| -85.39336999999995|31.223250000000064|\n",
      "|  6|2020_0602_1|      Auburn|    USA|2020-06-02|                  AL| Alabama|Auburn, Alabama, USA| -85.48172999999997| 32.60829000000007|\n",
      "|  7|2020_0602_1|     Gadsden|    USA|2020-06-02|                  AL| Alabama|Gadsden, Alabama,...| -86.00716999999997|34.014770000000055|\n",
      "|  8|2020_0602_1|  Birmingham|    USA|2020-06-02|                  AL| Alabama|Birmingham, Alaba...| -86.81175999999994| 33.52068000000003|\n",
      "|  9|2020_0602_1|    Florence|    USA|2020-06-02|                  AL| Alabama|Florence, Alabama...| -87.67488999999995| 34.80060000000003|\n",
      "| 10|2020_0602_1|      Hoover|    USA|2020-06-02|                  AL| Alabama|Hoover, Alabama, USA| -86.80602999999996| 33.38791000000003|\n",
      "| 11|2020_0602_1|      Mobile|    USA|2020-06-02|                  AL| Alabama|Mobile, Alabama, USA| -88.05296999999996|30.686480000000074|\n",
      "| 12|2020_0602_1|     Opelika|    USA|2020-06-02|                  AL| Alabama|Opelika, Alabama,...| -85.38064999999995| 32.65050000000008|\n",
      "| 13|2020_0602_1|Jacksonville|    USA|2020-06-02|                  AL| Alabama|Jacksonville, Ala...| -85.76117999999997|33.814220000000034|\n",
      "| 14|2020_0602_1|  Huntsville|    USA|2020-06-02|                  AL| Alabama|Huntsville, Alaba...| -86.58509999999995| 34.72929000000005|\n",
      "| 15|2020_0602_1|        Troy|    USA|2020-06-02|                  AL| Alabama|  Troy, Alabama, USA| -85.97216999999995| 31.80967000000004|\n",
      "| 16|2020_0602_1|  Montgomery|    USA|2020-06-02|                  AL| Alabama|Montgomery, Alaba...| -86.30007999999998| 32.38015000000007|\n",
      "| 17|2020_0602_1|  Tuscaloosa|    USA|2020-06-02|                  AL| Alabama|Tuscaloosa, Alaba...| -87.56624999999997|33.210420000000056|\n",
      "| 18|2020_0602_1|      Conway|    USA|2020-06-02|                  AR|Arkansas|Conway, Arkansas,...| -92.43968999999998| 35.09098000000006|\n",
      "| 19|2020_0602_1|Fayetteville|    USA|2020-06-02|                  AR|Arkansas|Fayetteville, Ark...| -94.15790999999996| 36.06320000000005|\n",
      "| 20|2020_0602_1| Bentonville|    USA|2020-06-02|                  AR|Arkansas|Bentonville, Arka...| -94.20948999999996|36.372330000000034|\n",
      "+---+-----------+------------+-------+----------+--------------------+--------+--------------------+-------------------+------------------+\n",
      "only showing top 20 rows\n",
      "\n"
     ]
    }
   ],
   "source": [
    "protests_cleaned.show()"
   ]
  },
  {
   "cell_type": "code",
   "execution_count": 188,
   "metadata": {
    "editable": true
   },
   "outputs": [
    {
     "name": "stdout",
     "output_type": "stream",
     "text": [
      "+-------------------+-----+\n",
      "|            Country|count|\n",
      "+-------------------+-----+\n",
      "|             Russia|    1|\n",
      "|            Senegal|    1|\n",
      "|             Sweden|    5|\n",
      "|        Philippines|    1|\n",
      "|               Fiji|    1|\n",
      "|             Turkey|    2|\n",
      "|            Germany|   49|\n",
      "|             France|   20|\n",
      "|             Greece|    2|\n",
      "|             Kosovo|    1|\n",
      "|          Sri Lanka|    1|\n",
      "|             Taiwan|    1|\n",
      "|           Slovakia|    1|\n",
      "|          Argentina|    1|\n",
      "|            Belgium|   10|\n",
      "|            Ecuador|    1|\n",
      "|            Finland|    7|\n",
      "|              Ghana|    1|\n",
      "|              India|    1|\n",
      "|              China|    1|\n",
      "|              Malta|    1|\n",
      "|            Croatia|    1|\n",
      "|            Nigeria|    2|\n",
      "|            Andorra|    1|\n",
      "|              Italy|   26|\n",
      "|          Lithuania|    1|\n",
      "|             Norway|    5|\n",
      "|              Spain|   22|\n",
      "|         Guadeloupe|    1|\n",
      "|            Denmark|    5|\n",
      "|           Barbados|    1|\n",
      "|               Iran|    2|\n",
      "|            Ireland|   22|\n",
      "|           Thailand|    1|\n",
      "|            Ukraine|    1|\n",
      "|             Israel|    3|\n",
      "|            Iceland|    2|\n",
      "|                USA| 3399|\n",
      "|        South Korea|    3|\n",
      "|          Palestine|    1|\n",
      "|             Cyprus|    1|\n",
      "|             Mexico|    5|\n",
      "|            Georgia|    1|\n",
      "|         Montenegro|    1|\n",
      "|            Estonia|    1|\n",
      "|          Indonesia|    1|\n",
      "|            Armenia|    1|\n",
      "|            Liberia|    1|\n",
      "|            Tunisia|    1|\n",
      "|              Syria|    1|\n",
      "|                 UK|  186|\n",
      "|Trinidad and Tobago|    1|\n",
      "|             Uganda|    1|\n",
      "|        Switzerland|    6|\n",
      "|            Jamaica|    1|\n",
      "|             Canada|  131|\n",
      "|     Czech Republic|    1|\n",
      "|             Brazil|    7|\n",
      "|             Belize|    1|\n",
      "|              Kenya|    2|\n",
      "|            Lebanon|    1|\n",
      "|           Slovenia|    1|\n",
      "| Dominican Republic|    1|\n",
      "|              Japan|    8|\n",
      "|         Luxembourg|    1|\n",
      "|        New Zealand|    9|\n",
      "|              Haiti|    1|\n",
      "|             Poland|    4|\n",
      "|           Portugal|    5|\n",
      "|          Australia|   32|\n",
      "|            Romania|    1|\n",
      "|           Bulgaria|    1|\n",
      "|            Austria|    6|\n",
      "|         Costa Rica|    1|\n",
      "|         Kazakhstan|    1|\n",
      "|             Serbia|    1|\n",
      "|       South Africa|    3|\n",
      "|           Colombia|    1|\n",
      "|            Hungary|    1|\n",
      "|           Pakistan|    1|\n",
      "|        Netherlands|   32|\n",
      "+-------------------+-----+\n",
      "\n"
     ]
    }
   ],
   "source": [
    "protests_cleaned.groupBy('Country').count().show(100)"
   ]
  },
  {
   "cell_type": "markdown",
   "metadata": {
    "editable": true
   },
   "source": [
    "- This dataset contains a lot of non-US records. Since we are only analysing US data for this project, I will drop all the non-US records"
   ]
  },
  {
   "cell_type": "code",
   "execution_count": 189,
   "metadata": {
    "editable": true
   },
   "outputs": [],
   "source": [
    "protests_cleaned_df = protests_cleaned.filter(protests_cleaned.Country == \"USA\")"
   ]
  },
  {
   "cell_type": "code",
   "execution_count": 190,
   "metadata": {
    "editable": true
   },
   "outputs": [
    {
     "name": "stdout",
     "output_type": "stream",
     "text": [
      "+---+-----------+---------+-------+----------+--------------------+------+--------------------+-------------------+-----------------+\n",
      "| id|      Batch|     City|Country|date_added|Mailing_Abbreviation|Region|        Search_Label|        X_Longitude|       Y_Latitude|\n",
      "+---+-----------+---------+-------+----------+--------------------+------+--------------------+-------------------+-----------------+\n",
      "|  1|2020_0602_1|   Juneau|    USA|2020-06-02|                  AK|Alaska| Juneau, Alaska, USA|-134.40678999999994|58.29973000000007|\n",
      "|  2|2020_0602_1|Anchorage|    USA|2020-06-02|                  AK|Alaska|Anchorage, Alaska...|-149.85824999999997|61.21753000000007|\n",
      "+---+-----------+---------+-------+----------+--------------------+------+--------------------+-------------------+-----------------+\n",
      "only showing top 2 rows\n",
      "\n"
     ]
    }
   ],
   "source": [
    "protests_cleaned_df.show(2)"
   ]
  },
  {
   "cell_type": "code",
   "execution_count": 191,
   "metadata": {
    "editable": true
   },
   "outputs": [
    {
     "name": "stdout",
     "output_type": "stream",
     "text": [
      "+--------------------+--------------------+-----+\n",
      "|Mailing_Abbreviation|              Region|count|\n",
      "+--------------------+--------------------+-----+\n",
      "|                  MT|             Montana|   17|\n",
      "|                  NC|      North Carolina|  101|\n",
      "|                  MD|            Maryland|   70|\n",
      "|                  CO|            Colorado|   52|\n",
      "|                  CT|         Connecticut|   91|\n",
      "|                  IL|            Illinois|  160|\n",
      "|                  WY|             Wyoming|   14|\n",
      "|                  NJ|          New Jersey|  152|\n",
      "|                  DE|            Delaware|    9|\n",
      "|                  DC|District of Columbia|    1|\n",
      "|                  AR|            Arkansas|   29|\n",
      "|                  LA|           Louisiana|   35|\n",
      "|                  TN|           Tennessee|   40|\n",
      "|                  AK|              Alaska|   25|\n",
      "|                  CA|          California|  345|\n",
      "|                  NM|          New Mexico|   24|\n",
      "|                  UT|                Utah|   15|\n",
      "|                null|        Pennsylvania|    3|\n",
      "|                  MI|            Michigan|  109|\n",
      "|                  NY|            New York|  226|\n",
      "|                  NH|       New Hampshire|   30|\n",
      "|                  WA|          Washington|   93|\n",
      "|                  IA|                Iowa|   46|\n",
      "|                  ME|               Maine|   43|\n",
      "|                  KY|            Kentucky|   43|\n",
      "|                  FL|             Florida|  112|\n",
      "|                  TX|               Texas|  172|\n",
      "|                  MN|           Minnesota|   56|\n",
      "|                  AL|             Alabama|   38|\n",
      "|                  PA|        Pennsylvania|  189|\n",
      "|                  AS|      American Samoa|    1|\n",
      "|                  RI|        Rhode Island|   13|\n",
      "|                  WI|           Wisconsin|   95|\n",
      "|                  IN|             Indiana|   68|\n",
      "|                  SD|        South Dakota|   12|\n",
      "|                  VA|            Virginia|   88|\n",
      "|                  HI|              Hawaii|   14|\n",
      "|                  WV|       West Virginia|   22|\n",
      "|                  GA|             Georgia|   82|\n",
      "|                  MS|         Mississippi|   30|\n",
      "|                  ND|        North Dakota|   10|\n",
      "|                  GU|                Guam|    2|\n",
      "|                  VT|             Vermont|   27|\n",
      "|                  AZ|             Arizona|   38|\n",
      "|                  KS|              Kansas|   31|\n",
      "|                  MO|            Missouri|   67|\n",
      "|                  MP|Northern Mariana ...|    1|\n",
      "|                  VI|      Virgin Islands|    3|\n",
      "|                  PR|         Puerto Rico|    2|\n",
      "|                  SC|      South Carolina|   45|\n",
      "|                  OH|                Ohio|  133|\n",
      "|                  NE|            Nebraska|   20|\n",
      "|                  OK|            Oklahoma|   30|\n",
      "|                  OR|              Oregon|   66|\n",
      "|                  NV|              Nevada|   12|\n",
      "|                  ID|               Idaho|   15|\n",
      "|                  MA|       Massachusetts|  132|\n",
      "+--------------------+--------------------+-----+\n",
      "\n"
     ]
    }
   ],
   "source": [
    "protests_cleaned_df.groupBy('Mailing_Abbreviation','Region').count().show(100)"
   ]
  },
  {
   "cell_type": "markdown",
   "metadata": {
    "editable": true
   },
   "source": [
    "- Three records is null and they should be under PA state"
   ]
  },
  {
   "cell_type": "code",
   "execution_count": 192,
   "metadata": {
    "editable": true
   },
   "outputs": [
    {
     "name": "stdout",
     "output_type": "stream",
     "text": [
      "+----+-----------+------------+-------+----------+--------------------+------------+--------------------+------------------+------------------+\n",
      "|  id|      Batch|        City|Country|date_added|Mailing_Abbreviation|      Region|        Search_Label|       X_Longitude|        Y_Latitude|\n",
      "+----+-----------+------------+-------+----------+--------------------+------------+--------------------+------------------+------------------+\n",
      "|3969|2020_0627_1|East Liberty|    USA|2020-06-27|                null|Pennsylvania|East Liberty, Pen...|-79.92311331999997| 40.46050443900003|\n",
      "|3970|2020_0627_1|   Scottdale|    USA|2020-06-27|                null|Pennsylvania|Scottdale, Pennsy...|-79.59483101399996|40.102712506000046|\n",
      "|3971|2020_0627_1|    Franklin|    USA|2020-06-27|                null|Pennsylvania|Franklin, Pennsyl...|-79.83155752999994| 41.39753612800007|\n",
      "+----+-----------+------------+-------+----------+--------------------+------------+--------------------+------------------+------------------+\n",
      "\n"
     ]
    }
   ],
   "source": [
    "protests_cleaned_df.where(F.col(\"Mailing_Abbreviation\").isNull()).show()"
   ]
  },
  {
   "cell_type": "code",
   "execution_count": 193,
   "metadata": {
    "editable": true
   },
   "outputs": [],
   "source": [
    "protests_cleaned_df = protests_cleaned_df.na.fill(\"PA\",subset=[\"Mailing_Abbreviation\"])"
   ]
  },
  {
   "cell_type": "code",
   "execution_count": 194,
   "metadata": {
    "editable": true
   },
   "outputs": [
    {
     "name": "stdout",
     "output_type": "stream",
     "text": [
      "+---+-----+----+-------+----------+--------------------+------+------------+-----------+----------+\n",
      "| id|Batch|City|Country|date_added|Mailing_Abbreviation|Region|Search_Label|X_Longitude|Y_Latitude|\n",
      "+---+-----+----+-------+----------+--------------------+------+------------+-----------+----------+\n",
      "+---+-----+----+-------+----------+--------------------+------+------------+-----------+----------+\n",
      "\n"
     ]
    }
   ],
   "source": [
    "protests_cleaned_df.where(F.col(\"Mailing_Abbreviation\").isNull()).show()"
   ]
  },
  {
   "cell_type": "markdown",
   "metadata": {
    "editable": true
   },
   "source": [
    "- Now I am confident that there are no more null values in the mailing_abbreviation column."
   ]
  },
  {
   "cell_type": "code",
   "execution_count": 195,
   "metadata": {
    "editable": true
   },
   "outputs": [],
   "source": [
    "protests_cleaned_df = protests_cleaned_df.withColumnRenamed(\"id\",\"protest_id\")\\\n",
    ".withColumnRenamed(\"Batch\",\"batch\")\\\n",
    ".withColumnRenamed(\"City\",\"city\")\\\n",
    ".withColumnRenamed(\"Country\",\"country\")\\\n",
    ".withColumnRenamed(\"Mailing_Abbreviation\",\"state\")\\\n",
    ".withColumnRenamed(\"Region\",\"region\")\\\n",
    ".withColumnRenamed(\"Search_Label\",\"search_label\")\\\n",
    ".withColumnRenamed(\"X_Longitude\",\"x_longitude\")\\\n",
    ".withColumnRenamed(\"Y_Latitude\",\"y_latitude\")"
   ]
  },
  {
   "cell_type": "code",
   "execution_count": 196,
   "metadata": {
    "editable": true
   },
   "outputs": [
    {
     "name": "stdout",
     "output_type": "stream",
     "text": [
      "root\n",
      " |-- protest_id: long (nullable = true)\n",
      " |-- batch: string (nullable = true)\n",
      " |-- city: string (nullable = true)\n",
      " |-- country: string (nullable = true)\n",
      " |-- date_added: date (nullable = true)\n",
      " |-- state: string (nullable = false)\n",
      " |-- region: string (nullable = true)\n",
      " |-- search_label: string (nullable = true)\n",
      " |-- x_longitude: double (nullable = true)\n",
      " |-- y_latitude: double (nullable = true)\n",
      "\n"
     ]
    }
   ],
   "source": [
    "protests_cleaned_df.printSchema()"
   ]
  },
  {
   "cell_type": "code",
   "execution_count": 227,
   "metadata": {
    "editable": true
   },
   "outputs": [
    {
     "data": {
      "text/plain": [
       "3399"
      ]
     },
     "execution_count": 227,
     "metadata": {},
     "output_type": "execute_result"
    }
   ],
   "source": [
    "protests_cleaned_df.count()"
   ]
  },
  {
   "cell_type": "code",
   "execution_count": 197,
   "metadata": {
    "editable": true
   },
   "outputs": [],
   "source": [
    "protest_file = 'protest.csv'"
   ]
  },
  {
   "cell_type": "code",
   "execution_count": 222,
   "metadata": {
    "editable": true
   },
   "outputs": [],
   "source": [
    "protests_cleaned_df.toPandas().to_csv(os.path.join(s3path, protest_file),header=True)"
   ]
  },
  {
   "cell_type": "markdown",
   "metadata": {
    "editable": true
   },
   "source": [
    "#### 6. NY Crimes"
   ]
  },
  {
   "cell_type": "code",
   "execution_count": 199,
   "metadata": {
    "editable": true
   },
   "outputs": [
    {
     "name": "stdout",
     "output_type": "stream",
     "text": [
      "+----------+-----------+-----+--------------------+-----+--------------------+----------+----------+-----------+---------------+-----------------+---------+--------+--------------+----------+----------+------------------+------------------+--------------------+\n",
      "|ARREST_KEY|ARREST_DATE|PD_CD|             PD_DESC|KY_CD|           OFNS_DESC|  LAW_CODE|LAW_CAT_CD|ARREST_BORO|ARREST_PRECINCT|JURISDICTION_CODE|AGE_GROUP|PERP_SEX|     PERP_RACE|X_COORD_CD|Y_COORD_CD|          Latitude|         Longitude|             Lon_Lat|\n",
      "+----------+-----------+-----+--------------------+-----+--------------------+----------+----------+-----------+---------------+-----------------+---------+--------+--------------+----------+----------+------------------+------------------+--------------------+\n",
      "| 190294601| 11/23/2018|  109|ASSAULT 2,1,UNCLA...|  106|      FELONY ASSAULT|PL 1200512|         F|          B|             40|                0|    25-44|       M|         BLACK| 1008096.0|  233595.0|40.807816227000046|-73.91386266099995|POINT (-73.913862...|\n",
      "| 190266280| 11/21/2018|  665|                null| null|                null|PL 4902001|         F|          Q|            109|                0|    25-44|       M|BLACK HISPANIC| 1032084.0|  216954.0|40.762043893000055|-73.82732958099997|POINT (-73.827329...|\n",
      "| 190159521| 11/19/2018|  101|           ASSAULT 3|  344|ASSAULT 3 & RELAT...|PL 1200000|         M|          K|             77|                0|    25-44|       M|         BLACK| 1003508.0|  185056.0| 40.67459999000005|-73.93057482199998|POINT (-73.930574...|\n",
      "+----------+-----------+-----+--------------------+-----+--------------------+----------+----------+-----------+---------------+-----------------+---------+--------+--------------+----------+----------+------------------+------------------+--------------------+\n",
      "only showing top 3 rows\n",
      "\n"
     ]
    }
   ],
   "source": [
    "ny_df.show(3)"
   ]
  },
  {
   "cell_type": "code",
   "execution_count": 200,
   "metadata": {
    "editable": true
   },
   "outputs": [
    {
     "data": {
      "text/plain": [
       "5012956"
      ]
     },
     "execution_count": 200,
     "metadata": {},
     "output_type": "execute_result"
    }
   ],
   "source": [
    "ny_df.count()"
   ]
  },
  {
   "cell_type": "code",
   "execution_count": 201,
   "metadata": {
    "editable": true
   },
   "outputs": [
    {
     "name": "stdout",
     "output_type": "stream",
     "text": [
      "root\n",
      " |-- ARREST_KEY: integer (nullable = true)\n",
      " |-- ARREST_DATE: string (nullable = true)\n",
      " |-- PD_CD: integer (nullable = true)\n",
      " |-- PD_DESC: string (nullable = true)\n",
      " |-- KY_CD: integer (nullable = true)\n",
      " |-- OFNS_DESC: string (nullable = true)\n",
      " |-- LAW_CODE: string (nullable = true)\n",
      " |-- LAW_CAT_CD: string (nullable = true)\n",
      " |-- ARREST_BORO: string (nullable = true)\n",
      " |-- ARREST_PRECINCT: integer (nullable = true)\n",
      " |-- JURISDICTION_CODE: integer (nullable = true)\n",
      " |-- AGE_GROUP: string (nullable = true)\n",
      " |-- PERP_SEX: string (nullable = true)\n",
      " |-- PERP_RACE: string (nullable = true)\n",
      " |-- X_COORD_CD: double (nullable = true)\n",
      " |-- Y_COORD_CD: double (nullable = true)\n",
      " |-- Latitude: double (nullable = true)\n",
      " |-- Longitude: double (nullable = true)\n",
      " |-- Lon_Lat: string (nullable = true)\n",
      "\n"
     ]
    }
   ],
   "source": [
    "ny_df.printSchema()"
   ]
  },
  {
   "cell_type": "code",
   "execution_count": 202,
   "metadata": {
    "editable": true
   },
   "outputs": [],
   "source": [
    "ny_df_cleaned = ny_df"
   ]
  },
  {
   "cell_type": "markdown",
   "metadata": {
    "editable": true
   },
   "source": [
    "- I want to change the arrest_date from stringtype to datetype"
   ]
  },
  {
   "cell_type": "code",
   "execution_count": 203,
   "metadata": {
    "editable": true
   },
   "outputs": [],
   "source": [
    "#This udf function would convert all the string cells into DateType\n",
    "get_date =  udf (lambda x: datetime.strptime(x, '%m/%d/%Y'), DateType())\n",
    "\n",
    "ny_df_cleaned = ny_df_cleaned.withColumn('arrest_date', get_date(col('ARREST_DATE')))\n"
   ]
  },
  {
   "cell_type": "code",
   "execution_count": 204,
   "metadata": {
    "editable": true
   },
   "outputs": [
    {
     "name": "stdout",
     "output_type": "stream",
     "text": [
      "+----------+-----------+-----+--------------------+-----+--------------+----------+----------+-----------+---------------+-----------------+---------+--------+--------------+----------+----------+------------------+------------------+--------------------+\n",
      "|ARREST_KEY|arrest_date|PD_CD|             PD_DESC|KY_CD|     OFNS_DESC|  LAW_CODE|LAW_CAT_CD|ARREST_BORO|ARREST_PRECINCT|JURISDICTION_CODE|AGE_GROUP|PERP_SEX|     PERP_RACE|X_COORD_CD|Y_COORD_CD|          Latitude|         Longitude|             Lon_Lat|\n",
      "+----------+-----------+-----+--------------------+-----+--------------+----------+----------+-----------+---------------+-----------------+---------+--------+--------------+----------+----------+------------------+------------------+--------------------+\n",
      "| 190294601| 2018-11-23|  109|ASSAULT 2,1,UNCLA...|  106|FELONY ASSAULT|PL 1200512|         F|          B|             40|                0|    25-44|       M|         BLACK| 1008096.0|  233595.0|40.807816227000046|-73.91386266099995|POINT (-73.913862...|\n",
      "| 190266280| 2018-11-21|  665|                null| null|          null|PL 4902001|         F|          Q|            109|                0|    25-44|       M|BLACK HISPANIC| 1032084.0|  216954.0|40.762043893000055|-73.82732958099997|POINT (-73.827329...|\n",
      "+----------+-----------+-----+--------------------+-----+--------------+----------+----------+-----------+---------------+-----------------+---------+--------+--------------+----------+----------+------------------+------------------+--------------------+\n",
      "only showing top 2 rows\n",
      "\n"
     ]
    }
   ],
   "source": [
    "ny_df_cleaned.show(2)"
   ]
  },
  {
   "cell_type": "code",
   "execution_count": 205,
   "metadata": {
    "editable": true
   },
   "outputs": [
    {
     "name": "stdout",
     "output_type": "stream",
     "text": [
      "root\n",
      " |-- ARREST_KEY: integer (nullable = true)\n",
      " |-- arrest_date: date (nullable = true)\n",
      " |-- PD_CD: integer (nullable = true)\n",
      " |-- PD_DESC: string (nullable = true)\n",
      " |-- KY_CD: integer (nullable = true)\n",
      " |-- OFNS_DESC: string (nullable = true)\n",
      " |-- LAW_CODE: string (nullable = true)\n",
      " |-- LAW_CAT_CD: string (nullable = true)\n",
      " |-- ARREST_BORO: string (nullable = true)\n",
      " |-- ARREST_PRECINCT: integer (nullable = true)\n",
      " |-- JURISDICTION_CODE: integer (nullable = true)\n",
      " |-- AGE_GROUP: string (nullable = true)\n",
      " |-- PERP_SEX: string (nullable = true)\n",
      " |-- PERP_RACE: string (nullable = true)\n",
      " |-- X_COORD_CD: double (nullable = true)\n",
      " |-- Y_COORD_CD: double (nullable = true)\n",
      " |-- Latitude: double (nullable = true)\n",
      " |-- Longitude: double (nullable = true)\n",
      " |-- Lon_Lat: string (nullable = true)\n",
      "\n"
     ]
    }
   ],
   "source": [
    "ny_df_cleaned.printSchema()"
   ]
  },
  {
   "cell_type": "code",
   "execution_count": 206,
   "metadata": {
    "editable": true
   },
   "outputs": [
    {
     "name": "stdout",
     "output_type": "stream",
     "text": [
      "+---------+------+\n",
      "|AGE_GROUP| count|\n",
      "+---------+------+\n",
      "|      944|     2|\n",
      "|      926|     2|\n",
      "|     1953|     1|\n",
      "|      740|     1|\n",
      "|      940|     3|\n",
      "|      317|     1|\n",
      "|      200|     1|\n",
      "|      938|     3|\n",
      "|      323|     1|\n",
      "|      309|     1|\n",
      "|      446|     1|\n",
      "|      924|     4|\n",
      "|      910|     1|\n",
      "|      895|    13|\n",
      "|     1918|     1|\n",
      "|      352|     1|\n",
      "|      894|     7|\n",
      "|      951|     3|\n",
      "|      <18|412285|\n",
      "|      808|     1|\n",
      "+---------+------+\n",
      "only showing top 20 rows\n",
      "\n"
     ]
    }
   ],
   "source": [
    "ny_df_cleaned.groupBy('AGE_GROUP').count().show()\n"
   ]
  },
  {
   "cell_type": "markdown",
   "metadata": {
    "editable": true
   },
   "source": [
    "- data is clean so no need to fix "
   ]
  },
  {
   "cell_type": "code",
   "execution_count": 207,
   "metadata": {
    "editable": true
   },
   "outputs": [
    {
     "name": "stdout",
     "output_type": "stream",
     "text": [
      "+--------+-------+\n",
      "|PERP_SEX|  count|\n",
      "+--------+-------+\n",
      "|       F| 841392|\n",
      "|       M|4171564|\n",
      "+--------+-------+\n",
      "\n"
     ]
    }
   ],
   "source": [
    "ny_df_cleaned.groupBy('PERP_SEX').count().show()\n"
   ]
  },
  {
   "cell_type": "code",
   "execution_count": 208,
   "metadata": {
    "editable": true
   },
   "outputs": [
    {
     "name": "stdout",
     "output_type": "stream",
     "text": [
      "+--------------------+-------+\n",
      "|           PERP_RACE|  count|\n",
      "+--------------------+-------+\n",
      "|               WHITE| 604892|\n",
      "|               BLACK|2433510|\n",
      "|AMERICAN INDIAN/A...|  11050|\n",
      "|      BLACK HISPANIC| 403034|\n",
      "|      WHITE HISPANIC|1303555|\n",
      "|             UNKNOWN|  50347|\n",
      "|               OTHER|   1363|\n",
      "|ASIAN / PACIFIC I...| 205205|\n",
      "+--------------------+-------+\n",
      "\n"
     ]
    }
   ],
   "source": [
    "ny_df_cleaned.groupBy('PERP_RACE').count().show()"
   ]
  },
  {
   "cell_type": "markdown",
   "metadata": {
    "editable": true
   },
   "source": [
    "-  Saving all the racial details to create a table for info on race"
   ]
  },
  {
   "cell_type": "code",
   "execution_count": 209,
   "metadata": {
    "editable": true
   },
   "outputs": [
    {
     "name": "stdout",
     "output_type": "stream",
     "text": [
      "+--------------------+\n",
      "|           PERP_RACE|\n",
      "+--------------------+\n",
      "|               WHITE|\n",
      "|               BLACK|\n",
      "|AMERICAN INDIAN/A...|\n",
      "|      BLACK HISPANIC|\n",
      "|      WHITE HISPANIC|\n",
      "|             UNKNOWN|\n",
      "|               OTHER|\n",
      "|ASIAN / PACIFIC I...|\n",
      "+--------------------+\n",
      "\n"
     ]
    }
   ],
   "source": [
    "ny_df_cleaned.select('PERP_RACE').distinct().show()\n"
   ]
  },
  {
   "cell_type": "code",
   "execution_count": 210,
   "metadata": {
    "editable": true
   },
   "outputs": [],
   "source": [
    "ny_race = ny_df_cleaned.select('PERP_RACE').distinct().collect()"
   ]
  },
  {
   "cell_type": "code",
   "execution_count": 211,
   "metadata": {
    "editable": true
   },
   "outputs": [
    {
     "name": "stdout",
     "output_type": "stream",
     "text": [
      "+--------------------+-----+------+\n",
      "|           OFNS_DESC|KY_CD| count|\n",
      "+--------------------+-----+------+\n",
      "|INTOXICATED/IMPAI...|  119| 10398|\n",
      "|            ESCAPE 3|  237|   283|\n",
      "|    OTHER STATE LAWS|  125| 14140|\n",
      "|NEW YORK CITY HEA...|  676|   514|\n",
      "|OTHER STATE LAWS ...|  364| 79190|\n",
      "|INTOXICATED & IMP...|  347| 99338|\n",
      "|OTHER STATE LAWS ...|  364|  6907|\n",
      "|MURDER & NON-NEGL...|  101| 12212|\n",
      "|CHILD ABANDONMENT...|  120|   474|\n",
      "|PROSTITUTION & RE...|  115|  1705|\n",
      "|CRIMINAL MISCHIEF...|  351|  5279|\n",
      "|HOMICIDE-NEGLIGEN...|  102|   109|\n",
      "|MISCELLANEOUS PEN...|  126|159497|\n",
      "|OFFENSES AGAINST ...|  363|  2047|\n",
      "|    OTHER STATE LAWS|  677|227104|\n",
      "|OFFENSES RELATED ...|  345|  2684|\n",
      "|OFFENSES INVOLVIN...|  358| 26146|\n",
      "|          SEX CRIMES|  116| 10565|\n",
      "|OFF. AGNST PUB OR...|  361| 10263|\n",
      "|             FORGERY|  113| 82649|\n",
      "|                null| null|  9029|\n",
      "|   LOITERING,BEGGING|  575|     1|\n",
      "|       GRAND LARCENY|  109|119445|\n",
      "|AGRICULTURE & MRK...|  364|    89|\n",
      "|OTHER TRAFFIC INF...|  881|174429|\n",
      "|   F.C.A. P.I.N.O.S.|  995| 15917|\n",
      "|PROSTITUTION & RE...|  234|  1927|\n",
      "|DISRUPTION OF A R...|  349|    56|\n",
      "|FOR OTHER AUTHORI...|  995|  1369|\n",
      "|HOMICIDE-NEGLIGEN...|  103|    15|\n",
      "|   DANGEROUS WEAPONS|  236| 98939|\n",
      "|UNLAWFUL POSS. WE...|  455|    63|\n",
      "|ADMINISTRATIVE CODES|  685|   167|\n",
      "|     BURGLAR'S TOOLS|  231|  7382|\n",
      "|            JOSTLING|  230|   459|\n",
      "|   CRIMINAL TRESPASS|  352|199431|\n",
      "|POSSESSION OF STO...|  111| 17751|\n",
      "|OTHER OFFENSES RE...|  343|  4262|\n",
      "|OFF. AGNST PUB OR...|  361| 66242|\n",
      "|CHILD ABANDONMENT...|  120|    74|\n",
      "|     DANGEROUS DRUGS|  117|280885|\n",
      "|          SEX CRIMES|  233| 24727|\n",
      "|LOITERING FOR DRU...|  360|   580|\n",
      "|UNDER THE INFLUEN...|  577|    11|\n",
      "|             ROBBERY|  105|153339|\n",
      "|CRIMINAL MISCHIEF...|  121| 54071|\n",
      "|ENDAN WELFARE INCOMP|  345|   231|\n",
      "|MISCELLANEOUS PEN...|  678| 17297|\n",
      "|KIDNAPPING & RELA...|  124|  2026|\n",
      "|LOITERING/GAMBLIN...|  571|    14|\n",
      "+--------------------+-----+------+\n",
      "only showing top 50 rows\n",
      "\n"
     ]
    }
   ],
   "source": [
    "ny_df_cleaned.groupBy('OFNS_DESC','KY_CD').count().show(50)"
   ]
  },
  {
   "cell_type": "code",
   "execution_count": 212,
   "metadata": {
    "editable": true
   },
   "outputs": [
    {
     "name": "stdout",
     "output_type": "stream",
     "text": [
      "+--------------------+------+\n",
      "|           OFNS_DESC| count|\n",
      "+--------------------+------+\n",
      "|OTHER TRAFFIC INF...|174429|\n",
      "|ANTICIPATORY OFFE...|   703|\n",
      "|HOMICIDE-NEGLIGEN...|   165|\n",
      "|CHILD ABANDONMENT...|   474|\n",
      "|NEW YORK CITY HEA...|   514|\n",
      "|POSSESSION OF STO...|149877|\n",
      "|OTHER OFFENSES RE...|  4262|\n",
      "|VEHICLE AND TRAFF...|200292|\n",
      "|            ABORTION|    10|\n",
      "|KIDNAPPING & RELA...|  2026|\n",
      "|HOMICIDE-NEGLIGEN...|   109|\n",
      "|OFF. AGNST PUB OR...| 10263|\n",
      "|      FELONY ASSAULT|196758|\n",
      "|OFFENSES RELATED ...|  2684|\n",
      "|ALCOHOLIC BEVERAG...|  5688|\n",
      "|CRIMINAL MISCHIEF...| 11765|\n",
      "|UNLAWFUL POSS. WE...|    63|\n",
      "|         THEFT-FRAUD|  9127|\n",
      "|   THEFT OF SERVICES|   479|\n",
      "|                null|  9029|\n",
      "+--------------------+------+\n",
      "only showing top 20 rows\n",
      "\n"
     ]
    }
   ],
   "source": [
    "ny_df_cleaned.groupBy('OFNS_DESC').count().show()"
   ]
  },
  {
   "cell_type": "markdown",
   "metadata": {
    "editable": true
   },
   "source": [
    "- I will create use this dataset to extract offense description and category key"
   ]
  },
  {
   "cell_type": "code",
   "execution_count": 213,
   "metadata": {
    "editable": true
   },
   "outputs": [
    {
     "name": "stdout",
     "output_type": "stream",
     "text": [
      "+--------------------+-----+------+\n",
      "|             PD_DESC|PD_CD| count|\n",
      "+--------------------+-----+------+\n",
      "|US CODE,UNCLASSIFIED|   49| 10079|\n",
      "|PROSTITUTION 2, U...|  588|    85|\n",
      "|STOLEN PROPERTY-M...|  493|   158|\n",
      "|  CRIMINAL MIS 2 & 3|  268|  3283|\n",
      "|NY STATE LAWS,UNC...|  849|225678|\n",
      "|FALSE REPORT UNCL...|  649|  5461|\n",
      "|IMPERSONATION 2, ...|  707|   762|\n",
      "|FOLLOWING TOO CLO...|  933|    24|\n",
      "|             TAX LAW|  808|  3177|\n",
      "|      SIGNAL,FAIL TO|  961|   549|\n",
      "|FORGERY,ETC.,UNCL...|  729|  4712|\n",
      "|LEAVING SCENE-ACC...|  940|  1481|\n",
      "|SOLICITATION 5,CR...|  281|    23|\n",
      "|MISCHIEF, CRIMINA...|  267|  1149|\n",
      "|ASSAULT 2,1,UNCLA...|  109|162321|\n",
      "|FUGITIVE,FROM OTH...|   15|   540|\n",
      "|                null|  513|   149|\n",
      "|VEHICULAR ASSAULT...|  104|   192|\n",
      "|ROBBERY,UNCLASSIF...|  397|143263|\n",
      "|             TAX LAW|  809| 13345|\n",
      "|COMPUTER UNAUTH. ...|  770|    43|\n",
      "|POSS METH MANUFAC...|  513|    17|\n",
      "|CONTROLLED SUBSTA...|  511|278083|\n",
      "|FRAUD,UNCLASSIFIE...|  739|  4054|\n",
      "|THEFT,RELATED OFF...|  489|    18|\n",
      "|HOMICIDE, NEGLIGE...|  122|    39|\n",
      "| ROBBERY,CAR JACKING|  380|    23|\n",
      "|      ONE WAY STREET|  943|     2|\n",
      "|ALCOHOLIC BEVERAG...|  862|   394|\n",
      "|  F.C.A. NON SUPPORT|    1|     2|\n",
      "|                null|  126|     3|\n",
      "|  FORGERY,ETC.-MISD.|  705| 24798|\n",
      "|     NY STATE,PAROLE|   29|   146|\n",
      "|CHILD, ENDANGERIN...|  681| 17914|\n",
      "|      BAIL JUMPING 3|  744|  9114|\n",
      "|    RESISTING ARREST|  750| 53635|\n",
      "|VIOLATION OF ORDE...|  749|    22|\n",
      "|            ESCAPE 3|  742|   283|\n",
      "|         ARSON 2,3,4|  263|  1714|\n",
      "|THEFT,RELATED OFF...|  479|   706|\n",
      "|VEHICULAR ASSAULT...|  104|   755|\n",
      "|TRAFFIC,UNCLASSIF...|  969|165647|\n",
      "|OBSCENITY, MATERI...|  593|    44|\n",
      "|LOITERING FOR PRO...|  618|   313|\n",
      "|POSSESSION HYPODE...|  509|    89|\n",
      "|SUPP. ACT TERRORI...|  663|     5|\n",
      "|MARIJUANA, POSSES...|  567|423299|\n",
      "|    TERRORIST THREAT|  665|   560|\n",
      "|              RIOT 1|  672|   581|\n",
      "|HARASSMENT,SUBD 3...|  638|  1088|\n",
      "+--------------------+-----+------+\n",
      "only showing top 50 rows\n",
      "\n"
     ]
    }
   ],
   "source": [
    "ny_df_cleaned.groupBy('PD_DESC','PD_CD').count().show(50)"
   ]
  },
  {
   "cell_type": "markdown",
   "metadata": {
    "editable": true
   },
   "source": [
    "- I will create use this dataset to extract offense description and category key"
   ]
  },
  {
   "cell_type": "code",
   "execution_count": 214,
   "metadata": {
    "editable": true
   },
   "outputs": [
    {
     "name": "stdout",
     "output_type": "stream",
     "text": [
      "root\n",
      " |-- ARREST_KEY: integer (nullable = true)\n",
      " |-- arrest_date: date (nullable = true)\n",
      " |-- PD_CD: integer (nullable = true)\n",
      " |-- PD_DESC: string (nullable = true)\n",
      " |-- KY_CD: integer (nullable = true)\n",
      " |-- OFNS_DESC: string (nullable = true)\n",
      " |-- LAW_CODE: string (nullable = true)\n",
      " |-- LAW_CAT_CD: string (nullable = true)\n",
      " |-- ARREST_BORO: string (nullable = true)\n",
      " |-- ARREST_PRECINCT: integer (nullable = true)\n",
      " |-- JURISDICTION_CODE: integer (nullable = true)\n",
      " |-- AGE_GROUP: string (nullable = true)\n",
      " |-- PERP_SEX: string (nullable = true)\n",
      " |-- PERP_RACE: string (nullable = true)\n",
      " |-- X_COORD_CD: double (nullable = true)\n",
      " |-- Y_COORD_CD: double (nullable = true)\n",
      " |-- Latitude: double (nullable = true)\n",
      " |-- Longitude: double (nullable = true)\n",
      " |-- Lon_Lat: string (nullable = true)\n",
      "\n"
     ]
    }
   ],
   "source": [
    "ny_df_cleaned.printSchema()"
   ]
  },
  {
   "cell_type": "markdown",
   "metadata": {
    "editable": true
   },
   "source": [
    "- Rename some columns"
   ]
  },
  {
   "cell_type": "code",
   "execution_count": 215,
   "metadata": {
    "editable": true
   },
   "outputs": [],
   "source": [
    "ny_df_cleaned = ny_df_cleaned.withColumnRenamed(\"ARREST_KEY\",\"arrest_key\")\\\n",
    ".withColumnRenamed(\"PD_CD\",\"pd_code\")\\\n",
    ".withColumnRenamed(\"PD_DESC\",\"pd_desc\")\\\n",
    ".withColumnRenamed(\"KY_CD\",\"offense_code\")\\\n",
    ".withColumnRenamed(\"OFNS_DESC\",\"offense_desc\")\\\n",
    ".withColumnRenamed(\"LAW_CODE\",\"law_code\")\\\n",
    ".withColumnRenamed(\"LAW_CAT_CD\",\"law_cat_code\")\\\n",
    ".withColumnRenamed(\"ARREST_BORO\",\"arrest_borough\")\\\n",
    ".withColumnRenamed(\"ARREST_PRECINCT\",\"arrest_precinct\")\\\n",
    ".withColumnRenamed(\"JURISDICTION_CODE\",\"jurisdiction_code\")\\\n",
    ".withColumnRenamed(\"AGE_GROUP\",\"age_group\")\\\n",
    ".withColumnRenamed(\"PERP_SEX\",\"perp_gender\")\\\n",
    ".withColumnRenamed(\"per_race\",\"perp_race\")\\\n",
    ".withColumnRenamed(\"X_COORD_CD\",\"x_coord_code\")\\\n",
    ".withColumnRenamed(\"Y_COORD_CD\",\"y_coord_code\")\\\n",
    ".withColumnRenamed(\"Latitude\",\"latitude\")\\\n",
    ".withColumnRenamed(\"Longitude\",\"longitude\")\\\n",
    ".withColumnRenamed(\"Lon_Lat\",\"lon_lat\")"
   ]
  },
  {
   "cell_type": "code",
   "execution_count": 216,
   "metadata": {
    "editable": true
   },
   "outputs": [
    {
     "name": "stdout",
     "output_type": "stream",
     "text": [
      "root\n",
      " |-- arrest_key: integer (nullable = true)\n",
      " |-- arrest_date: date (nullable = true)\n",
      " |-- pd_code: integer (nullable = true)\n",
      " |-- pd_desc: string (nullable = true)\n",
      " |-- offense_code: integer (nullable = true)\n",
      " |-- offense_desc: string (nullable = true)\n",
      " |-- law_code: string (nullable = true)\n",
      " |-- law_cat_code: string (nullable = true)\n",
      " |-- arrest_borough: string (nullable = true)\n",
      " |-- arrest_precinct: integer (nullable = true)\n",
      " |-- jurisdiction_code: integer (nullable = true)\n",
      " |-- age_group: string (nullable = true)\n",
      " |-- perp_gender: string (nullable = true)\n",
      " |-- PERP_RACE: string (nullable = true)\n",
      " |-- x_coord_code: double (nullable = true)\n",
      " |-- y_coord_code: double (nullable = true)\n",
      " |-- latitude: double (nullable = true)\n",
      " |-- longitude: double (nullable = true)\n",
      " |-- lon_lat: string (nullable = true)\n",
      "\n"
     ]
    }
   ],
   "source": [
    "ny_df_cleaned.printSchema()"
   ]
  },
  {
   "cell_type": "code",
   "execution_count": 217,
   "metadata": {
    "editable": true
   },
   "outputs": [],
   "source": [
    "ny_df_cleaned.write.parquet(\"s3a://datalake-blm/stage/ny_crimes\",mode=\"overwrite\")\n"
   ]
  },
  {
   "cell_type": "markdown",
   "metadata": {
    "editable": true
   },
   "source": [
    "- I want to compare the names of race in NY crime dataset to the police death dataset"
   ]
  },
  {
   "cell_type": "code",
   "execution_count": 218,
   "metadata": {
    "editable": true
   },
   "outputs": [
    {
     "data": {
      "text/plain": [
       "[Row(PERP_RACE='WHITE'),\n",
       " Row(PERP_RACE='BLACK'),\n",
       " Row(PERP_RACE='AMERICAN INDIAN/ALASKAN NATIVE'),\n",
       " Row(PERP_RACE='BLACK HISPANIC'),\n",
       " Row(PERP_RACE='WHITE HISPANIC'),\n",
       " Row(PERP_RACE='UNKNOWN'),\n",
       " Row(PERP_RACE='OTHER'),\n",
       " Row(PERP_RACE='ASIAN / PACIFIC ISLANDER')]"
      ]
     },
     "execution_count": 218,
     "metadata": {},
     "output_type": "execute_result"
    }
   ],
   "source": [
    "ny_race"
   ]
  },
  {
   "cell_type": "code",
   "execution_count": 219,
   "metadata": {
    "editable": true
   },
   "outputs": [
    {
     "data": {
      "text/plain": [
       "array(['White', 'Unknown Race', 'Black', 'Hispanic', 'Pacific Islander',\n",
       "       'Asian', 'Native American'], dtype=object)"
      ]
     },
     "execution_count": 219,
     "metadata": {},
     "output_type": "execute_result"
    }
   ],
   "source": [
    "race_list"
   ]
  },
  {
   "cell_type": "markdown",
   "metadata": {
    "editable": true
   },
   "source": [
    "- After looking at these two sets of data, I decided against grouping them up because I do not want to truncate granular information in the NY dataset. However, I will use the NY racial info to create a dimensional dataset\n"
   ]
  },
  {
   "cell_type": "markdown",
   "metadata": {
    "editable": true
   },
   "source": [
    "### Step 3: Define the Data Model\n",
    "#### 3.1 Conceptual Data Model\n",
    "Map out the conceptual data model and explain why you chose that model\n",
    "\n",
    "#### 3.2 Mapping Out Data Pipelines\n",
    "List the steps necessary to pipeline the data into the chosen data model"
   ]
  },
  {
   "cell_type": "markdown",
   "metadata": {
    "editable": true
   },
   "source": [
    "### Step 4: Run Pipelines to Model the Data \n",
    "#### 4.1 Create the data model\n",
    "Build the data pipelines to create the data model."
   ]
  },
  {
   "cell_type": "code",
   "execution_count": 220,
   "metadata": {
    "editable": true
   },
   "outputs": [],
   "source": [
    "# Write code here"
   ]
  },
  {
   "cell_type": "markdown",
   "metadata": {
    "editable": true
   },
   "source": [
    "#### 4.2 Data Quality Checks\n",
    "Explain the data quality checks you'll perform to ensure the pipeline ran as expected. These could include:\n",
    " * Integrity constraints on the relational database (e.g., unique key, data type, etc.)\n",
    " * Unit tests for the scripts to ensure they are doing the right thing\n",
    " * Source/Count checks to ensure completeness\n",
    " \n",
    "Run Quality Checks"
   ]
  },
  {
   "cell_type": "code",
   "execution_count": 221,
   "metadata": {
    "editable": true
   },
   "outputs": [],
   "source": [
    "# Perform quality checks here"
   ]
  },
  {
   "cell_type": "code",
   "execution_count": null,
   "metadata": {
    "editable": true
   },
   "outputs": [],
   "source": []
  },
  {
   "cell_type": "code",
   "execution_count": null,
   "metadata": {
    "editable": true
   },
   "outputs": [],
   "source": []
  },
  {
   "cell_type": "code",
   "execution_count": null,
   "metadata": {
    "editable": true
   },
   "outputs": [],
   "source": []
  },
  {
   "cell_type": "code",
   "execution_count": null,
   "metadata": {
    "editable": true
   },
   "outputs": [],
   "source": []
  },
  {
   "cell_type": "code",
   "execution_count": null,
   "metadata": {
    "editable": true
   },
   "outputs": [],
   "source": []
  },
  {
   "cell_type": "code",
   "execution_count": null,
   "metadata": {
    "editable": true
   },
   "outputs": [],
   "source": []
  },
  {
   "cell_type": "code",
   "execution_count": null,
   "metadata": {
    "editable": true
   },
   "outputs": [],
   "source": []
  }
 ],
 "metadata": {
  "kernelspec": {
   "display_name": "Python 3",
   "language": "python",
   "name": "python3"
  },
  "language_info": {
   "codemirror_mode": {
    "name": "ipython",
    "version": 3
   },
   "file_extension": ".py",
   "mimetype": "text/x-python",
   "name": "python",
   "nbconvert_exporter": "python",
   "pygments_lexer": "ipython3",
   "version": "3.6.3"
  }
 },
 "nbformat": 4,
 "nbformat_minor": 4
}
